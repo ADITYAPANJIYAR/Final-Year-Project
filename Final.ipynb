{
  "cells": [
    {
      "cell_type": "markdown",
      "metadata": {
        "id": "view-in-github",
        "colab_type": "text"
      },
      "source": [
        "<a href=\"https://colab.research.google.com/github/ADITYAPANJIYAR/Final-Year-Project/blob/main/Final.ipynb\" target=\"_parent\"><img src=\"https://colab.research.google.com/assets/colab-badge.svg\" alt=\"Open In Colab\"/></a>"
      ]
    },
    {
      "cell_type": "code",
      "execution_count": 1,
      "metadata": {
        "id": "QFgkl37e1EKv"
      },
      "outputs": [],
      "source": [
        "#importing the libraries\n",
        "import keras\n",
        "from keras.models import Sequential\n",
        "from keras.layers import Convolution2D\n",
        "from keras.layers import MaxPooling2D\n",
        "from keras.layers import Flatten\n",
        "from keras.layers import Dense"
      ]
    },
    {
      "cell_type": "code",
      "execution_count": 2,
      "metadata": {
        "id": "JgtYiP-m9hAG"
      },
      "outputs": [],
      "source": [
        "classifier= Sequential() # Initialise the CNN"
      ]
    },
    {
      "cell_type": "code",
      "execution_count": 3,
      "metadata": {
        "id": "FWlmgXDW9hHY"
      },
      "outputs": [],
      "source": [
        "\n",
        "classifier.add(Convolution2D(filters=32, \n",
        "                             kernel_size=(3,3),\n",
        "                             input_shape=(64, 64, 3), \n",
        "                             kernel_initializer='he_uniform', \n",
        "                             activation='relu'))"
      ]
    },
    {
      "cell_type": "code",
      "execution_count": 4,
      "metadata": {
        "id": "153lrNIE9hLX"
      },
      "outputs": [],
      "source": [
        "classifier.add(MaxPooling2D(pool_size=(2,2)))"
      ]
    },
    {
      "cell_type": "code",
      "execution_count": 5,
      "metadata": {
        "id": "izOq7nAC9hQP"
      },
      "outputs": [],
      "source": [
        "classifier.add(Convolution2D(filters=32,\n",
        "                             kernel_size=(3,3), \n",
        "                             kernel_initializer='he_uniform', \n",
        "                             activation='relu'))\n",
        "classifier.add(MaxPooling2D(pool_size=(2,2)))"
      ]
    },
    {
      "cell_type": "code",
      "execution_count": 6,
      "metadata": {
        "id": "Wa8yxQKi9hUr"
      },
      "outputs": [],
      "source": [
        "classifier.add(Flatten())"
      ]
    },
    {
      "cell_type": "code",
      "execution_count": 7,
      "metadata": {
        "id": "iS85_QyS98dM"
      },
      "outputs": [],
      "source": [
        "classifier.add(Dense(units=128,kernel_initializer='glorot_uniform', activation='relu')) \n",
        "classifier.add(Dense(units=1,kernel_initializer='glorot_uniform',activation='sigmoid'))\n",
        "# Compiling the CNN\n",
        "classifier.compile(optimizer = 'adam', loss = 'binary_crossentropy', metrics = ['accuracy'])"
      ]
    },
    {
      "cell_type": "code",
      "execution_count": 8,
      "metadata": {
        "id": "bIxByFFd98lo"
      },
      "outputs": [],
      "source": [
        "from keras.preprocessing.image import ImageDataGenerator\n"
      ]
    },
    {
      "cell_type": "code",
      "execution_count": 9,
      "metadata": {
        "id": "Nuvs1pkB98se"
      },
      "outputs": [],
      "source": [
        "train_datagen = ImageDataGenerator(rescale = 1./255,\n",
        "                                   shear_range = 0.2,\n",
        "                                   zoom_range = 0.2,\n",
        "                                   horizontal_flip = True)"
      ]
    },
    {
      "cell_type": "code",
      "execution_count": 10,
      "metadata": {
        "id": "scoz5G2u980m"
      },
      "outputs": [],
      "source": [
        "test_datagen= ImageDataGenerator(rescale=1./255)\n"
      ]
    },
    {
      "cell_type": "code",
      "execution_count": 11,
      "metadata": {
        "id": "Yg6A_nTb987S",
        "colab": {
          "base_uri": "https://localhost:8080/"
        },
        "outputId": "aee0cd93-dca4-4f4a-b6f8-ae9e7c1c0323"
      },
      "outputs": [
        {
          "output_type": "stream",
          "name": "stdout",
          "text": [
            "Mounted at /content/drive\n"
          ]
        }
      ],
      "source": [
        "from google.colab import drive\n",
        "drive.mount('/content/drive')"
      ]
    },
    {
      "cell_type": "code",
      "execution_count": 12,
      "metadata": {
        "id": "NFHZgFrNgVIW"
      },
      "outputs": [],
      "source": [
        "import os\n",
        "os.chdir('/content/drive/My Drive/Project image dataset')"
      ]
    },
    {
      "cell_type": "code",
      "execution_count": 13,
      "metadata": {
        "id": "qxB9QMsx_BVQ",
        "colab": {
          "base_uri": "https://localhost:8080/"
        },
        "outputId": "ee51c80b-879c-4c7b-a563-fcf397bc0a40"
      },
      "outputs": [
        {
          "output_type": "stream",
          "name": "stdout",
          "text": [
            "Found 1883 images belonging to 5 classes.\n"
          ]
        }
      ],
      "source": [
        "training_set= train_datagen.flow_from_directory(directory= 'training_set',\n",
        "                                               target_size=(64,64), # As we choose 64*64 for our convolution model\n",
        "                                               batch_size=50,\n",
        "                                               class_mode='binary' # for 2 class binary \n",
        "                                               )"
      ]
    },
    {
      "cell_type": "code",
      "execution_count": 14,
      "metadata": {
        "id": "E1zy5mu1_Bfq",
        "colab": {
          "base_uri": "https://localhost:8080/"
        },
        "outputId": "8f3a5527-9549-4c50-a5bb-a20d4f463899"
      },
      "outputs": [
        {
          "output_type": "stream",
          "name": "stdout",
          "text": [
            "Found 439 images belonging to 5 classes.\n"
          ]
        }
      ],
      "source": [
        "test_set= test_datagen.flow_from_directory(directory= 'test_set',\n",
        "                                               target_size=(64,64), # As we choose 64*64 for our convolution model\n",
        "                                               batch_size=50,\n",
        "                                               class_mode='binary' # for 2 class binary\n",
        "                                          )"
      ]
    },
    {
      "cell_type": "code",
      "source": [],
      "metadata": {
        "id": "0JEDmS18aEOe"
      },
      "execution_count": null,
      "outputs": []
    },
    {
      "cell_type": "code",
      "execution_count": 15,
      "metadata": {
        "colab": {
          "base_uri": "https://localhost:8080/"
        },
        "id": "kqhpElgDXh8d",
        "outputId": "52a9fb27-32c8-4ad3-d551-92e0d9ae94a9"
      },
      "outputs": [
        {
          "output_type": "stream",
          "name": "stdout",
          "text": [
            "/content/drive/My Drive/Project image dataset\n"
          ]
        }
      ],
      "source": [
        "import os\n",
        "print(os.getcwd())\n"
      ]
    },
    {
      "cell_type": "code",
      "execution_count": 16,
      "metadata": {
        "colab": {
          "base_uri": "https://localhost:8080/"
        },
        "id": "Xxn25TcvXj1x",
        "outputId": "1ea7ac3e-d9b2-4bfe-a54c-16bcf3a3a18c"
      },
      "outputs": [
        {
          "output_type": "stream",
          "name": "stdout",
          "text": [
            "['training_set', 'test_set', 'model.h5']\n"
          ]
        }
      ],
      "source": [
        "import os\n",
        "\n",
        "os.chdir('/content/drive/MyDrive/Project image dataset')\n",
        "\n",
        "files = os.listdir()\n",
        "print(files)\n"
      ]
    },
    {
      "cell_type": "code",
      "execution_count": null,
      "metadata": {
        "id": "hsItItLPXj4h"
      },
      "outputs": [],
      "source": [
        "from keras.callbacks import ModelCheckpoint\n",
        "\n",
        "# Define the checkpoint path and filename\n",
        "checkpoint_path = '/content/drive/MyDrive/Project image dataset/model.h5'\n",
        "\n",
        "# Configure the model checkpoint callback\n",
        "checkpoint = ModelCheckpoint(\n",
        "    checkpoint_path,\n",
        "    monitor='val_loss',\n",
        "    mode='min',\n",
        "    save_best_only=True,\n",
        "    save_weights_only=False,\n",
        "    verbose=1\n",
        ")\n",
        "\n",
        "# Add the checkpoint callback to the training process\n",
        "classifier.fit_generator(\n",
        "    training_set,\n",
        "    steps_per_epoch=7,\n",
        "    epochs=269,\n",
        "    validation_data=test_set,\n",
        "    validation_steps=1883,\n",
        "    callbacks=[checkpoint]\n",
        ")\n",
        "#epoc run ho raha hai"
      ]
    },
    {
      "cell_type": "code",
      "source": [
        "import os\n",
        "from keras.models import load_model\n",
        "\n",
        "# Directory to search for the model file\n",
        "directory = 'path_to_directory'\n",
        "\n",
        "# Search for the model file in the directory and its subdirectories\n",
        "for root, dirs, files in os.walk(directory):\n",
        "    for file in files:\n",
        "        if file.endswith('.h5'):\n",
        "            model_path = os.path.join(root, file)\n",
        "            print(\"Found model at:\", model_path)\n",
        "            classifier = load_model(model_path)\n",
        "            break  # Stop searching after finding the first model\n",
        "\n",
        "# Continue with the rest of your code for image testing and predictions...\n"
      ],
      "metadata": {
        "id": "aL4ziXJKY5k8"
      },
      "execution_count": 24,
      "outputs": []
    },
    {
      "cell_type": "code",
      "execution_count": null,
      "metadata": {
        "id": "jxUv0HUdKukO"
      },
      "outputs": [],
      "source": [
        "from PIL import Image\n",
        "import numpy as np\n",
        "from keras.models import load_model\n",
        "\n",
        "# Load the pre-trained model\n",
        "classifier = load_model('/content/drive/MyDrive/Project image dataset/model.h5')\n",
        "\n",
        "# Define class indices\n",
        "class_indices = {\n",
        "    0: 'Animal',\n",
        "    1: 'Bird',\n",
        "    2: 'Human',\n",
        "    3: 'Nature',\n",
        "    4: 'Vehicle'\n",
        "}\n",
        "\n",
        "# Array of image paths\n",
        "image_paths = [ \"/content/4273.png\",\n",
        "               \"/content/3615.png\",\n",
        "               \"/content/3724.png\",\n",
        "               \"/content/3764.png\",\n",
        "               \"/content/3791.png\",\n",
        "               \"/content/3987.png\",\n",
        "               \"/content/4087.png\",\n",
        "               \"/content/4113.png\",\n",
        "               \"/content/4170.png\",\n",
        "               \"/content/4276.png\"\n",
        "               ]\n",
        "\n",
        "# Iterate over the image paths\n",
        "for img_path in image_paths:\n",
        "    # Load and preprocess the image\n",
        "    test_image = Image.open(img_path)\n",
        "    test_image = test_image.resize((64, 64))  # Resize the image to the desired size\n",
        "    test_image = np.array(test_image)  # Convert the image to a numpy array\n",
        "    test_image = test_image / 255.0  # Normalize the image\n",
        "    test_image = np.expand_dims(test_image, axis=0)  # Add an extra dimension for batch\n",
        "\n",
        "    # Make predictions\n",
        "    result = classifier.predict(test_image)\n",
        "\n",
        "    # Determine the predicted label\n",
        "    predicted_class_index = np.argmax(result)\n",
        "    prediction = class_indices[predicted_class_index]\n",
        "\n",
        "    # Print the predicted label\n",
        "    print(f\"Image: {img_path} - Prediction: {prediction}\")"
      ]
    }
  ],
  "metadata": {
    "colab": {
      "provenance": [],
      "gpuType": "T4",
      "authorship_tag": "ABX9TyOXhFRDInoW4KRExINVExPc",
      "include_colab_link": true
    },
    "kernelspec": {
      "display_name": "Python 3",
      "name": "python3"
    },
    "language_info": {
      "name": "python"
    },
    "gpuClass": "standard"
  },
  "nbformat": 4,
  "nbformat_minor": 0
}