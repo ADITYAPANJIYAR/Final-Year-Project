{
  "cells": [
    {
      "cell_type": "markdown",
      "metadata": {
        "id": "view-in-github",
        "colab_type": "text"
      },
      "source": [
        "<a href=\"https://colab.research.google.com/github/ADITYAPANJIYAR/Final-Year-Project/blob/main/Final2.ipynb\" target=\"_parent\"><img src=\"https://colab.research.google.com/assets/colab-badge.svg\" alt=\"Open In Colab\"/></a>"
      ]
    },
    {
      "cell_type": "code",
      "execution_count": null,
      "metadata": {
        "id": "QFgkl37e1EKv"
      },
      "outputs": [],
      "source": [
        "#importing the libraries\n",
        "import keras\n",
        "from keras.models import Sequential\n",
        "from keras.layers import Convolution2D\n",
        "from keras.layers import MaxPooling2D\n",
        "from keras.layers import Flatten\n",
        "from keras.layers import Dense"
      ]
    },
    {
      "cell_type": "code",
      "execution_count": null,
      "metadata": {
        "id": "JgtYiP-m9hAG"
      },
      "outputs": [],
      "source": [
        "classifier= Sequential() # Initialise the CNN"
      ]
    },
    {
      "cell_type": "code",
      "execution_count": null,
      "metadata": {
        "id": "FWlmgXDW9hHY"
      },
      "outputs": [],
      "source": [
        "\n",
        "classifier.add(Convolution2D(filters=32, \n",
        "                             kernel_size=(3,3),\n",
        "                             input_shape=(64, 64, 3), \n",
        "                             kernel_initializer='he_uniform', \n",
        "                             activation='relu'))"
      ]
    },
    {
      "cell_type": "code",
      "execution_count": null,
      "metadata": {
        "id": "153lrNIE9hLX"
      },
      "outputs": [],
      "source": [
        "classifier.add(MaxPooling2D(pool_size=(2,2)))"
      ]
    },
    {
      "cell_type": "code",
      "execution_count": null,
      "metadata": {
        "id": "izOq7nAC9hQP"
      },
      "outputs": [],
      "source": [
        "classifier.add(Convolution2D(filters=32,\n",
        "                             kernel_size=(3,3), \n",
        "                             kernel_initializer='he_uniform', \n",
        "                             activation='relu'))\n",
        "classifier.add(MaxPooling2D(pool_size=(2,2)))"
      ]
    },
    {
      "cell_type": "code",
      "execution_count": null,
      "metadata": {
        "id": "Wa8yxQKi9hUr"
      },
      "outputs": [],
      "source": [
        "classifier.add(Flatten())"
      ]
    },
    {
      "cell_type": "code",
      "execution_count": null,
      "metadata": {
        "id": "iS85_QyS98dM"
      },
      "outputs": [],
      "source": [
        "classifier.add(Dense(units=128,kernel_initializer='glorot_uniform', activation='relu')) \n",
        "classifier.add(Dense(units=1,kernel_initializer='glorot_uniform',activation='sigmoid'))\n",
        "# Compiling the CNN\n",
        "classifier.compile(optimizer = 'adam', loss = 'binary_crossentropy', metrics = ['accuracy'])"
      ]
    },
    {
      "cell_type": "code",
      "execution_count": null,
      "metadata": {
        "id": "bIxByFFd98lo"
      },
      "outputs": [],
      "source": [
        "from keras.preprocessing.image import ImageDataGenerator\n"
      ]
    },
    {
      "cell_type": "code",
      "execution_count": null,
      "metadata": {
        "id": "Nuvs1pkB98se"
      },
      "outputs": [],
      "source": [
        "train_datagen = ImageDataGenerator(rescale = 1./255,\n",
        "                                   shear_range = 0.2,\n",
        "                                   zoom_range = 0.2,\n",
        "                                   horizontal_flip = True)"
      ]
    },
    {
      "cell_type": "code",
      "execution_count": null,
      "metadata": {
        "id": "scoz5G2u980m"
      },
      "outputs": [],
      "source": [
        "test_datagen= ImageDataGenerator(rescale=1./255)\n"
      ]
    },
    {
      "cell_type": "code",
      "execution_count": null,
      "metadata": {
        "colab": {
          "base_uri": "https://localhost:8080/"
        },
        "id": "Yg6A_nTb987S",
        "outputId": "77049c45-31a0-49f7-92e1-6ccb58b90fa5"
      },
      "outputs": [
        {
          "name": "stdout",
          "output_type": "stream",
          "text": [
            "Drive already mounted at /content/drive; to attempt to forcibly remount, call drive.mount(\"/content/drive\", force_remount=True).\n"
          ]
        }
      ],
      "source": [
        "from google.colab import drive\n",
        "drive.mount('/content/drive')"
      ]
    },
    {
      "cell_type": "code",
      "execution_count": null,
      "metadata": {
        "id": "NFHZgFrNgVIW"
      },
      "outputs": [],
      "source": [
        "import os\n",
        "os.chdir('/content/drive/My Drive/Project image dataset')"
      ]
    },
    {
      "cell_type": "code",
      "execution_count": null,
      "metadata": {
        "colab": {
          "base_uri": "https://localhost:8080/"
        },
        "id": "qxB9QMsx_BVQ",
        "outputId": "9c1b9b4f-d6f1-4485-cbc0-8803fd846886"
      },
      "outputs": [
        {
          "name": "stdout",
          "output_type": "stream",
          "text": [
            "Found 1883 images belonging to 5 classes.\n"
          ]
        }
      ],
      "source": [
        "training_set= train_datagen.flow_from_directory(directory= 'training_set',\n",
        "                                               target_size=(64,64), # As we choose 64*64 for our convolution model\n",
        "                                               batch_size=50,\n",
        "                                               class_mode='binary' # for 2 class binary \n",
        "                                               )"
      ]
    },
    {
      "cell_type": "code",
      "execution_count": null,
      "metadata": {
        "colab": {
          "base_uri": "https://localhost:8080/"
        },
        "id": "E1zy5mu1_Bfq",
        "outputId": "da664ff3-4f9d-4acc-d686-44f91c15a649"
      },
      "outputs": [
        {
          "name": "stdout",
          "output_type": "stream",
          "text": [
            "Found 439 images belonging to 5 classes.\n"
          ]
        }
      ],
      "source": [
        "test_set= test_datagen.flow_from_directory(directory= 'test_set',\n",
        "                                               target_size=(64,64), # As we choose 64*64 for our convolution model\n",
        "                                               batch_size=50,\n",
        "                                               class_mode='binary' # for 2 class binary\n",
        "                                          )"
      ]
    },
    {
      "cell_type": "code",
      "execution_count": null,
      "metadata": {
        "id": "qVsLIFblc4gF"
      },
      "outputs": [],
      "source": [
        "from keras.callbacks import ModelCheckpoint\n",
        "\n",
        "# Define the checkpoint path and filename\n",
        "checkpoint_path = '/content/drive/MyDrive/Project image dataset/model.h5'\n",
        "\n",
        "# Configure the model checkpoint callback\n",
        "checkpoint = ModelCheckpoint(\n",
        "    checkpoint_path,\n",
        "    monitor='val_loss',\n",
        "    mode='min',\n",
        "    save_best_only=True,\n",
        "    save_weights_only=False,\n",
        "    verbose=1\n",
        ")\n",
        "\n",
        "# Add the checkpoint callback to the training process\n",
        "classifier.fit_generator(\n",
        "    training_set,\n",
        "    steps_per_epoch=7,\n",
        "    epochs=269,\n",
        "    validation_data=test_set,\n",
        "    validation_steps=1883,\n",
        "    callbacks=[checkpoint]\n",
        ")\n"
      ]
    },
    {
      "cell_type": "code",
      "execution_count": null,
      "metadata": {
        "colab": {
          "base_uri": "https://localhost:8080/"
        },
        "id": "kqhpElgDXh8d",
        "outputId": "c56ccd11-8939-48fe-ac3b-ae63bb60dc04"
      },
      "outputs": [
        {
          "name": "stdout",
          "output_type": "stream",
          "text": [
            "/content/drive/MyDrive/Project image dataset\n"
          ]
        }
      ],
      "source": [
        "import os\n",
        "print(os.getcwd())\n"
      ]
    },
    {
      "cell_type": "code",
      "execution_count": null,
      "metadata": {
        "colab": {
          "base_uri": "https://localhost:8080/"
        },
        "id": "Xxn25TcvXj1x",
        "outputId": "dc600ee8-cb2a-4e8d-880f-83606ad7ebf8"
      },
      "outputs": [
        {
          "name": "stdout",
          "output_type": "stream",
          "text": [
            "['training_set', 'test_set']\n"
          ]
        }
      ],
      "source": [
        "import os\n",
        "\n",
        "os.chdir('/content/drive/MyDrive/Project image dataset')\n",
        "\n",
        "files = os.listdir()\n",
        "print(files)\n"
      ]
    },
    {
      "cell_type": "code",
      "execution_count": null,
      "metadata": {
        "id": "hsItItLPXj4h"
      },
      "outputs": [],
      "source": [
        "from keras.callbacks import ModelCheckpoint\n",
        "\n",
        "# Define the checkpoint path and filename\n",
        "checkpoint_path = '/content/drive/MyDrive/Project image dataset/model.h5'\n",
        "\n",
        "# Configure the model checkpoint callback\n",
        "checkpoint = ModelCheckpoint(\n",
        "    checkpoint_path,\n",
        "    monitor='val_loss',\n",
        "    mode='min',\n",
        "    save_best_only=True,\n",
        "    save_weights_only=False,\n",
        "    verbose=1\n",
        ")\n",
        "\n",
        "# Add the checkpoint callback to the training process\n",
        "classifier.fit_generator(\n",
        "    training_set,\n",
        "    steps_per_epoch=7,\n",
        "    epochs=269,\n",
        "    validation_data=test_set,\n",
        "    validation_steps=1883,\n",
        "    callbacks=[checkpoint]\n",
        ")\n"
      ]
    },
    {
      "cell_type": "code",
      "execution_count": null,
      "metadata": {
        "id": "hnkyk02_WpI2"
      },
      "outputs": [],
      "source": [
        "import os\n",
        "from keras.models import load_model\n",
        "\n",
        "# Directory to search for the model file\n",
        "directory = 'path_to_directory'\n",
        "\n",
        "# Search for the model file in the directory and its subdirectories\n",
        "for root, dirs, files in os.walk(directory):\n",
        "    for file in files:\n",
        "        if file.endswith('.h5'):\n",
        "            model_path = os.path.join(root, file)\n",
        "            print(\"Found model at:\", model_path)\n",
        "            classifier = load_model(model_path)\n",
        "            break  # Stop searching after finding the first model\n",
        "\n",
        "# Continue with the rest of your code for image testing and predictions...\n"
      ]
    },
    {
      "cell_type": "code",
      "execution_count": null,
      "metadata": {
        "id": "jxUv0HUdKukO"
      },
      "outputs": [],
      "source": [
        "from PIL import Image\n",
        "import numpy as np\n",
        "from keras.models import load_model\n",
        "\n",
        "# Load the pre-trained model\n",
        "classifier = load_model('/content/drive/MyDrive/Project image dataset/model.h5')\n",
        "\n",
        "# Define class indices\n",
        "class_indices = {\n",
        "    0: 'Animal',\n",
        "    1: 'Bird',\n",
        "    2: 'Human',\n",
        "    3: 'Nature',\n",
        "    4: 'Vehicle'\n",
        "}\n",
        "\n",
        "# Array of image paths\n",
        "image_paths = [\"/content/3615.png\",\n",
        "               \"/content/3724.png\",\n",
        "               \"/content/3764.png\",\n",
        "               \"/content/3791.png\",\n",
        "               \"/content/3987.png\",\n",
        "               \"/content/4087.png\",\n",
        "               \"/content/4113.png\",\n",
        "               \"/content/4170.png\",\n",
        "               \"/content/4273.png\",\n",
        "               \"/content/4276.png\"\n",
        "               ]\n",
        "\n",
        "# Iterate over the image paths\n",
        "for img_path in image_paths:\n",
        "    # Load and preprocess the image\n",
        "    test_image = Image.open(img_path)\n",
        "    test_image = test_image.resize((64, 64))  # Resize the image to the desired size\n",
        "    test_image = np.array(test_image)  # Convert the image to a numpy array\n",
        "    test_image = test_image / 255.0  # Normalize the image\n",
        "    test_image = np.expand_dims(test_image, axis=0)  # Add an extra dimension for batch\n",
        "\n",
        "    # Make predictions\n",
        "    result = classifier.predict(test_image)\n",
        "\n",
        "    # Determine the predicted label\n",
        "    predicted_class_index = np.argmax(result)\n",
        "    prediction = class_indices[predicted_class_index]\n",
        "\n",
        "    # Print the predicted label\n",
        "    print(f\" Prediction: {prediction}\")"
      ]
    }
  ],
  "metadata": {
    "colab": {
      "provenance": [],
      "authorship_tag": "ABX9TyN776BWcw2Hlm9HwI3Ma+pU",
      "include_colab_link": true
    },
    "kernelspec": {
      "display_name": "Python 3",
      "name": "python3"
    },
    "language_info": {
      "name": "python"
    }
  },
  "nbformat": 4,
  "nbformat_minor": 0
}