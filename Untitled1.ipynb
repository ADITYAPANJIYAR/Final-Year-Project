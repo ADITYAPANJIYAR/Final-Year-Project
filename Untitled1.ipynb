{
  "nbformat": 4,
  "nbformat_minor": 0,
  "metadata": {
    "colab": {
      "provenance": [],
      "authorship_tag": "ABX9TyPPAyermSM4F8fYd55kk39x",
      "include_colab_link": true
    },
    "kernelspec": {
      "name": "python3",
      "display_name": "Python 3"
    },
    "language_info": {
      "name": "python"
    }
  },
  "cells": [
    {
      "cell_type": "markdown",
      "metadata": {
        "id": "view-in-github",
        "colab_type": "text"
      },
      "source": [
        "<a href=\"https://colab.research.google.com/github/ADITYAPANJIYAR/Final-Year-Project/blob/main/Untitled1.ipynb\" target=\"_parent\"><img src=\"https://colab.research.google.com/assets/colab-badge.svg\" alt=\"Open In Colab\"/></a>"
      ]
    },
    {
      "cell_type": "code",
      "execution_count": 2,
      "metadata": {
        "id": "v8tI27CmcNGN"
      },
      "outputs": [],
      "source": [
        "import tensorflow as tf\n",
        "from tensorflow import keras\n",
        "from tensorflow.keras import layers"
      ]
    },
    {
      "cell_type": "code",
      "source": [
        "(x_train, y_train), (x_test, y_test) = keras.datasets.cifar10.load_data()"
      ],
      "metadata": {
        "colab": {
          "base_uri": "https://localhost:8080/"
        },
        "id": "wsKUY0vGchge",
        "outputId": "5e508fb3-434e-476b-c795-b5448650cd53"
      },
      "execution_count": 3,
      "outputs": [
        {
          "output_type": "stream",
          "name": "stdout",
          "text": [
            "Downloading data from https://www.cs.toronto.edu/~kriz/cifar-10-python.tar.gz\n",
            "170498071/170498071 [==============================] - 3s 0us/step\n"
          ]
        }
      ]
    },
    {
      "cell_type": "code",
      "source": [
        "x_train = x_train.astype(\"float32\") / 255.0\n",
        "x_test = x_test.astype(\"float32\") / 255.0\n",
        "y_train = keras.utils.to_categorical(y_train, 10)\n",
        "y_test = keras.utils.to_categorical(y_test, 10)"
      ],
      "metadata": {
        "id": "8cOEVYZ_cqCw"
      },
      "execution_count": 5,
      "outputs": []
    },
    {
      "cell_type": "code",
      "source": [
        "model = keras.Sequential(\n",
        "    [\n",
        "        layers.Conv2D(32, (3, 3), activation=\"relu\", input_shape=(32, 32, 3)),\n",
        "        layers.MaxPooling2D((2, 2)),\n",
        "        layers.Conv2D(64, (3, 3), activation=\"relu\"),\n",
        "        layers.MaxPooling2D((2, 2)),\n",
        "        layers.Conv2D(128, (3, 3), activation=\"relu\"),\n",
        "        layers.Flatten(),\n",
        "        layers.Dense(128, activation=\"relu\"),\n",
        "        layers.Dense(10, activation=\"softmax\"),\n",
        "    ]\n",
        ")"
      ],
      "metadata": {
        "id": "dSXEPtDPcp8l"
      },
      "execution_count": 6,
      "outputs": []
    },
    {
      "cell_type": "code",
      "source": [
        "model.compile(\n",
        "    loss=\"categorical_crossentropy\",\n",
        "    optimizer=\"adam\",\n",
        "    metrics=[\"accuracy\"],\n",
        ")"
      ],
      "metadata": {
        "id": "qkxopkkYcp2B"
      },
      "execution_count": 7,
      "outputs": []
    },
    {
      "cell_type": "code",
      "source": [
        "history = model.fit(x_train, y_train, epochs=10, validation_data=(x_test, y_test))"
      ],
      "metadata": {
        "colab": {
          "base_uri": "https://localhost:8080/"
        },
        "id": "mo0Og_YVcpu_",
        "outputId": "2be8577b-fc3c-44f4-b6b6-97363f490343"
      },
      "execution_count": 13,
      "outputs": [
        {
          "output_type": "stream",
          "name": "stdout",
          "text": [
            "Epoch 1/10\n",
            "1563/1563 [==============================] - 79s 50ms/step - loss: 1.4536 - accuracy: 0.4699 - val_loss: 1.1469 - val_accuracy: 0.5939\n",
            "Epoch 2/10\n",
            "1563/1563 [==============================] - 77s 50ms/step - loss: 1.0645 - accuracy: 0.6251 - val_loss: 1.0495 - val_accuracy: 0.6288\n",
            "Epoch 3/10\n",
            "1563/1563 [==============================] - 77s 49ms/step - loss: 0.8946 - accuracy: 0.6849 - val_loss: 0.9097 - val_accuracy: 0.6766\n",
            "Epoch 4/10\n",
            "1563/1563 [==============================] - 77s 49ms/step - loss: 0.7813 - accuracy: 0.7244 - val_loss: 0.9294 - val_accuracy: 0.6785\n",
            "Epoch 5/10\n",
            "1563/1563 [==============================] - 77s 49ms/step - loss: 0.7028 - accuracy: 0.7544 - val_loss: 0.8470 - val_accuracy: 0.7031\n",
            "Epoch 6/10\n",
            "1563/1563 [==============================] - 77s 49ms/step - loss: 0.6135 - accuracy: 0.7834 - val_loss: 0.8623 - val_accuracy: 0.7130\n",
            "Epoch 7/10\n",
            "1563/1563 [==============================] - 77s 49ms/step - loss: 0.5525 - accuracy: 0.8049 - val_loss: 0.8707 - val_accuracy: 0.7217\n",
            "Epoch 8/10\n",
            "1563/1563 [==============================] - 77s 50ms/step - loss: 0.4844 - accuracy: 0.8304 - val_loss: 0.8778 - val_accuracy: 0.7178\n",
            "Epoch 9/10\n",
            "1563/1563 [==============================] - 77s 49ms/step - loss: 0.4201 - accuracy: 0.8493 - val_loss: 0.9346 - val_accuracy: 0.7155\n",
            "Epoch 10/10\n",
            "1563/1563 [==============================] - 77s 49ms/step - loss: 0.3677 - accuracy: 0.8690 - val_loss: 0.9781 - val_accuracy: 0.7184\n"
          ]
        }
      ]
    },
    {
      "cell_type": "code",
      "source": [
        "test_loss, test_acc = model.evaluate(x_test, y_test)\n",
        "print(\"Test accuracy:\", test_acc)"
      ],
      "metadata": {
        "colab": {
          "base_uri": "https://localhost:8080/"
        },
        "id": "j20HmTB2cpey",
        "outputId": "6b25eedb-b56e-4536-ce3d-c4625925cca2"
      },
      "execution_count": 15,
      "outputs": [
        {
          "output_type": "stream",
          "name": "stdout",
          "text": [
            "313/313 [==============================] - 4s 13ms/step - loss: 0.9781 - accuracy: 0.7184\n",
            "Test accuracy: 0.7184000015258789\n"
          ]
        }
      ]
    },
    {
      "cell_type": "code",
      "source": [
        "# assume `model` is a trained CNN model\n",
        "# assume `new_image_paths` is a list of image file paths\n",
        "import numpy as np\n",
        "from PIL import Image\n",
        "\n",
        "# Load images and convert to Numpy array\n",
        "new_image_paths =['/content/cat.jpg',\n",
        "                  '/content/Deer.jpg',\n",
        "                  '/content/Horse.jpg',\n",
        "                  '/content/Airplane.jpg',\n",
        "                  '/content/Ship.jpg'\n",
        "\n",
        "]\n",
        "images = []\n",
        "for path in new_image_paths:\n",
        "    img = Image.open(path)\n",
        "    img = img.resize((32, 32))\n",
        "    images.append(np.array(img))\n",
        "\n",
        "new_images = np.array(images)\n",
        "predictions = model.predict(new_images)"
      ],
      "metadata": {
        "colab": {
          "base_uri": "https://localhost:8080/"
        },
        "id": "MQKKzaC1x_zX",
        "outputId": "b0963501-a034-4150-d1eb-0398cb499108"
      },
      "execution_count": 35,
      "outputs": [
        {
          "output_type": "stream",
          "name": "stdout",
          "text": [
            "1/1 [==============================] - 0s 22ms/step\n"
          ]
        }
      ]
    },
    {
      "cell_type": "code",
      "source": [
        "# Get the predicted class label for each image\n",
        "predicted_labels = np.argmax(predictions, axis=1)\n",
        "\n",
        "# Print the predicted labels\n",
        "print(predicted_labels)"
      ],
      "metadata": {
        "colab": {
          "base_uri": "https://localhost:8080/"
        },
        "id": "DsZp5Xr-1sWJ",
        "outputId": "d72653ce-aa17-4dea-a887-32fc053b5b8d"
      },
      "execution_count": 36,
      "outputs": [
        {
          "output_type": "stream",
          "name": "stdout",
          "text": [
            "[7 4 7 0 8]\n"
          ]
        }
      ]
    }
  ]
}