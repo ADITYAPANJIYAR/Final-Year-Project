{
  "cells": [
    {
      "cell_type": "markdown",
      "metadata": {
        "id": "view-in-github",
        "colab_type": "text"
      },
      "source": [
        "<a href=\"https://colab.research.google.com/github/ADITYAPANJIYAR/Final-Year-Project/blob/main/work2.ipynb\" target=\"_parent\"><img src=\"https://colab.research.google.com/assets/colab-badge.svg\" alt=\"Open In Colab\"/></a>"
      ]
    },
    {
      "cell_type": "code",
      "execution_count": null,
      "metadata": {
        "id": "QFgkl37e1EKv"
      },
      "outputs": [],
      "source": [
        "#importing the libraries\n",
        "import keras\n",
        "from keras.models import Sequential\n",
        "from keras.layers import Convolution2D\n",
        "from keras.layers import MaxPooling2D\n",
        "from keras.layers import Flatten\n",
        "from keras.layers import Dense"
      ]
    },
    {
      "cell_type": "code",
      "execution_count": null,
      "metadata": {
        "id": "JgtYiP-m9hAG"
      },
      "outputs": [],
      "source": [
        "classifier= Sequential() # Initialise the CNN"
      ]
    },
    {
      "cell_type": "code",
      "execution_count": null,
      "metadata": {
        "id": "FWlmgXDW9hHY"
      },
      "outputs": [],
      "source": [
        "\n",
        "classifier.add(Convolution2D(filters=32, \n",
        "                             kernel_size=(3,3),\n",
        "                             input_shape=(64, 64, 3), \n",
        "                             kernel_initializer='he_uniform', \n",
        "                             activation='relu'))"
      ]
    },
    {
      "cell_type": "code",
      "execution_count": null,
      "metadata": {
        "id": "153lrNIE9hLX"
      },
      "outputs": [],
      "source": [
        "classifier.add(MaxPooling2D(pool_size=(2,2)))"
      ]
    },
    {
      "cell_type": "code",
      "execution_count": null,
      "metadata": {
        "id": "izOq7nAC9hQP"
      },
      "outputs": [],
      "source": [
        "classifier.add(Convolution2D(filters=32,\n",
        "                             kernel_size=(3,3), \n",
        "                             kernel_initializer='he_uniform', \n",
        "                             activation='relu'))\n",
        "classifier.add(MaxPooling2D(pool_size=(2,2)))"
      ]
    },
    {
      "cell_type": "code",
      "execution_count": null,
      "metadata": {
        "id": "Wa8yxQKi9hUr"
      },
      "outputs": [],
      "source": [
        "classifier.add(Flatten())"
      ]
    },
    {
      "cell_type": "code",
      "execution_count": null,
      "metadata": {
        "id": "iS85_QyS98dM"
      },
      "outputs": [],
      "source": [
        "classifier.add(Dense(units=128,kernel_initializer='glorot_uniform', activation='relu')) \n",
        "classifier.add(Dense(units=1,kernel_initializer='glorot_uniform',activation='sigmoid'))\n",
        "# Compiling the CNN\n",
        "classifier.compile(optimizer = 'adam', loss = 'binary_crossentropy', metrics = ['accuracy'])"
      ]
    },
    {
      "cell_type": "code",
      "execution_count": null,
      "metadata": {
        "id": "bIxByFFd98lo"
      },
      "outputs": [],
      "source": [
        "from keras.preprocessing.image import ImageDataGenerator\n"
      ]
    },
    {
      "cell_type": "code",
      "execution_count": null,
      "metadata": {
        "id": "Nuvs1pkB98se"
      },
      "outputs": [],
      "source": [
        "train_datagen = ImageDataGenerator(rescale = 1./255,\n",
        "                                   shear_range = 0.2,\n",
        "                                   zoom_range = 0.2,\n",
        "                                   horizontal_flip = True)"
      ]
    },
    {
      "cell_type": "code",
      "execution_count": null,
      "metadata": {
        "id": "scoz5G2u980m"
      },
      "outputs": [],
      "source": [
        "test_datagen= ImageDataGenerator(rescale=1./255)\n"
      ]
    },
    {
      "cell_type": "code",
      "execution_count": null,
      "metadata": {
        "colab": {
          "base_uri": "https://localhost:8080/"
        },
        "id": "Yg6A_nTb987S",
        "outputId": "77049c45-31a0-49f7-92e1-6ccb58b90fa5"
      },
      "outputs": [
        {
          "output_type": "stream",
          "name": "stdout",
          "text": [
            "Drive already mounted at /content/drive; to attempt to forcibly remount, call drive.mount(\"/content/drive\", force_remount=True).\n"
          ]
        }
      ],
      "source": [
        "from google.colab import drive\n",
        "drive.mount('/content/drive')"
      ]
    },
    {
      "cell_type": "code",
      "execution_count": null,
      "metadata": {
        "id": "NFHZgFrNgVIW"
      },
      "outputs": [],
      "source": [
        "import os\n",
        "os.chdir('/content/drive/My Drive/Project image dataset')"
      ]
    },
    {
      "cell_type": "code",
      "execution_count": null,
      "metadata": {
        "colab": {
          "base_uri": "https://localhost:8080/"
        },
        "id": "qxB9QMsx_BVQ",
        "outputId": "9c1b9b4f-d6f1-4485-cbc0-8803fd846886"
      },
      "outputs": [
        {
          "output_type": "stream",
          "name": "stdout",
          "text": [
            "Found 1883 images belonging to 5 classes.\n"
          ]
        }
      ],
      "source": [
        "training_set= train_datagen.flow_from_directory(directory= 'training_set',\n",
        "                                               target_size=(64,64), # As we choose 64*64 for our convolution model\n",
        "                                               batch_size=50,\n",
        "                                               class_mode='binary' # for 2 class binary \n",
        "                                               )"
      ]
    },
    {
      "cell_type": "code",
      "execution_count": null,
      "metadata": {
        "colab": {
          "base_uri": "https://localhost:8080/"
        },
        "id": "E1zy5mu1_Bfq",
        "outputId": "da664ff3-4f9d-4acc-d686-44f91c15a649"
      },
      "outputs": [
        {
          "output_type": "stream",
          "name": "stdout",
          "text": [
            "Found 439 images belonging to 5 classes.\n"
          ]
        }
      ],
      "source": [
        "test_set= test_datagen.flow_from_directory(directory= 'test_set',\n",
        "                                               target_size=(64,64), # As we choose 64*64 for our convolution model\n",
        "                                               batch_size=50,\n",
        "                                               class_mode='binary' # for 2 class binary\n",
        "                                          )"
      ]
    },
    {
      "cell_type": "code",
      "execution_count": 36,
      "metadata": {
        "colab": {
          "base_uri": "https://localhost:8080/"
        },
        "id": "H5TkE0ejgumM",
        "outputId": "18c1af75-a49e-47fa-bd34-96d4ec824d07"
      },
      "outputs": [
        {
          "metadata": {
            "tags": null
          },
          "name": "stderr",
          "output_type": "stream",
          "text": [
            "<ipython-input-36-6180eeb42c44>:1: UserWarning: `Model.fit_generator` is deprecated and will be removed in a future version. Please use `Model.fit`, which supports generators.\n",
            "  classifier.fit_generator(training_set, #training data to fit\n"
          ]
        },
        {
          "metadata": {
            "tags": null
          },
          "name": "stdout",
          "output_type": "stream",
          "text": [
            "Epoch 1/269\n",
            "7/7 [==============================] - ETA: 0s - loss: -45.9289 - accuracy: 0.0631"
          ]
        },
        {
          "metadata": {
            "tags": null
          },
          "name": "stderr",
          "output_type": "stream",
          "text": [
            "WARNING:tensorflow:Your input ran out of data; interrupting training. Make sure that your dataset or generator can generate at least `steps_per_epoch * epochs` batches (in this case, 1883 batches). You may need to use the repeat() function when building your dataset.\n"
          ]
        },
        {
          "output_type": "stream",
          "name": "stdout",
          "text": [
            "7/7 [==============================] - 229s 36s/step - loss: -45.9289 - accuracy: 0.0631 - val_loss: -162.0084 - val_accuracy: 0.0456\n",
            "Epoch 2/269\n",
            "7/7 [==============================] - 59s 9s/step - loss: -349.9498 - accuracy: 0.0420\n",
            "Epoch 3/269\n",
            "7/7 [==============================] - 47s 7s/step - loss: -1269.9192 - accuracy: 0.0400\n",
            "Epoch 4/269\n",
            "7/7 [==============================] - 38s 5s/step - loss: -3399.7371 - accuracy: 0.0457\n",
            "Epoch 5/269\n",
            "7/7 [==============================] - 32s 5s/step - loss: -7952.2080 - accuracy: 0.0400\n",
            "Epoch 6/269\n",
            "7/7 [==============================] - 27s 4s/step - loss: -15676.9639 - accuracy: 0.0486\n",
            "Epoch 7/269\n",
            "7/7 [==============================] - 21s 3s/step - loss: -31420.8164 - accuracy: 0.0571\n",
            "Epoch 8/269\n",
            "7/7 [==============================] - 16s 2s/step - loss: -56326.1250 - accuracy: 0.0543\n",
            "Epoch 9/269\n",
            "7/7 [==============================] - 14s 2s/step - loss: -100639.3828 - accuracy: 0.0486\n",
            "Epoch 10/269\n",
            "7/7 [==============================] - 10s 2s/step - loss: -173833.7656 - accuracy: 0.0600\n",
            "Epoch 11/269\n",
            "7/7 [==============================] - 10s 1s/step - loss: -276640.6250 - accuracy: 0.0514\n",
            "Epoch 12/269\n",
            "7/7 [==============================] - 10s 1s/step - loss: -396744.3750 - accuracy: 0.0514\n",
            "Epoch 13/269\n",
            "7/7 [==============================] - 10s 1s/step - loss: -593028.8125 - accuracy: 0.0400\n",
            "Epoch 14/269\n",
            "7/7 [==============================] - 9s 1s/step - loss: -903940.8750 - accuracy: 0.0457\n",
            "Epoch 15/269\n",
            "7/7 [==============================] - 6s 663ms/step - loss: -1302912.7500 - accuracy: 0.0457\n",
            "Epoch 16/269\n",
            "7/7 [==============================] - 5s 709ms/step - loss: -1844516.7500 - accuracy: 0.0543\n",
            "Epoch 17/269\n",
            "7/7 [==============================] - 6s 863ms/step - loss: -2676176.7500 - accuracy: 0.0270\n",
            "Epoch 18/269\n",
            "7/7 [==============================] - 7s 955ms/step - loss: -3363050.7500 - accuracy: 0.0486\n",
            "Epoch 19/269\n",
            "7/7 [==============================] - 5s 599ms/step - loss: -4434206.5000 - accuracy: 0.0429\n",
            "Epoch 20/269\n",
            "7/7 [==============================] - 6s 759ms/step - loss: -5691896.0000 - accuracy: 0.0429\n",
            "Epoch 21/269\n",
            "7/7 [==============================] - 4s 481ms/step - loss: -6961369.5000 - accuracy: 0.0480\n",
            "Epoch 22/269\n",
            "7/7 [==============================] - 3s 460ms/step - loss: -9425213.0000 - accuracy: 0.0343\n",
            "Epoch 23/269\n",
            "7/7 [==============================] - 4s 538ms/step - loss: -12133892.0000 - accuracy: 0.0300\n",
            "Epoch 24/269\n",
            "7/7 [==============================] - 4s 527ms/step - loss: -14546783.0000 - accuracy: 0.0420\n",
            "Epoch 25/269\n",
            "7/7 [==============================] - 5s 705ms/step - loss: -17499178.0000 - accuracy: 0.0571\n",
            "Epoch 26/269\n",
            "7/7 [==============================] - 4s 435ms/step - loss: -20360840.0000 - accuracy: 0.0360\n",
            "Epoch 27/269\n",
            "7/7 [==============================] - 4s 493ms/step - loss: -25338926.0000 - accuracy: 0.0450\n",
            "Epoch 28/269\n",
            "7/7 [==============================] - 5s 658ms/step - loss: -31384602.0000 - accuracy: 0.0286\n",
            "Epoch 29/269\n",
            "7/7 [==============================] - 3s 408ms/step - loss: -34177352.0000 - accuracy: 0.0420\n",
            "Epoch 30/269\n",
            "7/7 [==============================] - 3s 434ms/step - loss: -43539096.0000 - accuracy: 0.0429\n",
            "Epoch 31/269\n",
            "7/7 [==============================] - 5s 600ms/step - loss: -51235256.0000 - accuracy: 0.0543\n",
            "Epoch 32/269\n",
            "7/7 [==============================] - 3s 438ms/step - loss: -54868204.0000 - accuracy: 0.0457\n",
            "Epoch 33/269\n",
            "7/7 [==============================] - 3s 455ms/step - loss: -66662996.0000 - accuracy: 0.0514\n",
            "Epoch 34/269\n",
            "7/7 [==============================] - 5s 591ms/step - loss: -75670600.0000 - accuracy: 0.0514\n",
            "Epoch 35/269\n",
            "7/7 [==============================] - 3s 455ms/step - loss: -86910176.0000 - accuracy: 0.0400\n",
            "Epoch 36/269\n",
            "7/7 [==============================] - 3s 436ms/step - loss: -100332640.0000 - accuracy: 0.0543\n",
            "Epoch 37/269\n",
            "7/7 [==============================] - 4s 647ms/step - loss: -121061776.0000 - accuracy: 0.0343\n",
            "Epoch 38/269\n",
            "7/7 [==============================] - 3s 434ms/step - loss: -131009704.0000 - accuracy: 0.0514\n",
            "Epoch 39/269\n",
            "7/7 [==============================] - 3s 422ms/step - loss: -149409120.0000 - accuracy: 0.0371\n",
            "Epoch 40/269\n",
            "7/7 [==============================] - 4s 592ms/step - loss: -167776816.0000 - accuracy: 0.0429\n",
            "Epoch 41/269\n",
            "7/7 [==============================] - 3s 451ms/step - loss: -176021216.0000 - accuracy: 0.0514\n",
            "Epoch 42/269\n",
            "7/7 [==============================] - 3s 418ms/step - loss: -199392400.0000 - accuracy: 0.0511\n",
            "Epoch 43/269\n",
            "7/7 [==============================] - 4s 581ms/step - loss: -214421488.0000 - accuracy: 0.0571\n",
            "Epoch 44/269\n",
            "7/7 [==============================] - 3s 438ms/step - loss: -233156624.0000 - accuracy: 0.0571\n",
            "Epoch 45/269\n",
            "7/7 [==============================] - 3s 453ms/step - loss: -272843392.0000 - accuracy: 0.0343\n",
            "Epoch 46/269\n",
            "7/7 [==============================] - 4s 548ms/step - loss: -295056064.0000 - accuracy: 0.0429\n",
            "Epoch 47/269\n",
            "7/7 [==============================] - 3s 475ms/step - loss: -338887136.0000 - accuracy: 0.0629\n",
            "Epoch 48/269\n",
            "7/7 [==============================] - 4s 553ms/step - loss: -367133248.0000 - accuracy: 0.0514\n",
            "Epoch 49/269\n",
            "7/7 [==============================] - 3s 452ms/step - loss: -397872832.0000 - accuracy: 0.0457\n",
            "Epoch 50/269\n",
            "7/7 [==============================] - 3s 440ms/step - loss: -443566752.0000 - accuracy: 0.0486\n",
            "Epoch 51/269\n",
            "7/7 [==============================] - 5s 663ms/step - loss: -490648416.0000 - accuracy: 0.0343\n",
            "Epoch 52/269\n",
            "7/7 [==============================] - 3s 439ms/step - loss: -546737984.0000 - accuracy: 0.0371\n",
            "Epoch 53/269\n",
            "7/7 [==============================] - 3s 438ms/step - loss: -580613760.0000 - accuracy: 0.0571\n",
            "Epoch 54/269\n",
            "7/7 [==============================] - 5s 682ms/step - loss: -613301056.0000 - accuracy: 0.0314\n",
            "Epoch 55/269\n",
            "7/7 [==============================] - 3s 436ms/step - loss: -696791552.0000 - accuracy: 0.0457\n",
            "Epoch 56/269\n",
            "7/7 [==============================] - 3s 429ms/step - loss: -741779840.0000 - accuracy: 0.0541\n",
            "Epoch 57/269\n",
            "7/7 [==============================] - 5s 674ms/step - loss: -747794880.0000 - accuracy: 0.0629\n",
            "Epoch 58/269\n",
            "7/7 [==============================] - 3s 426ms/step - loss: -936490624.0000 - accuracy: 0.0180\n",
            "Epoch 59/269\n",
            "7/7 [==============================] - 3s 451ms/step - loss: -945932416.0000 - accuracy: 0.0457\n",
            "Epoch 60/269\n",
            "7/7 [==============================] - 5s 745ms/step - loss: -1008533504.0000 - accuracy: 0.0286\n",
            "Epoch 61/269\n",
            "7/7 [==============================] - 3s 447ms/step - loss: -1032451520.0000 - accuracy: 0.0571\n",
            "Epoch 62/269\n",
            "7/7 [==============================] - 5s 680ms/step - loss: -1150130816.0000 - accuracy: 0.0371\n",
            "Epoch 63/269\n",
            "7/7 [==============================] - 3s 423ms/step - loss: -1267184768.0000 - accuracy: 0.0360\n",
            "Epoch 64/269\n",
            "7/7 [==============================] - 3s 430ms/step - loss: -1347497856.0000 - accuracy: 0.0457\n",
            "Epoch 65/269\n",
            "7/7 [==============================] - 5s 690ms/step - loss: -1348455040.0000 - accuracy: 0.0371\n",
            "Epoch 66/269\n",
            "7/7 [==============================] - 3s 461ms/step - loss: -1584138624.0000 - accuracy: 0.0457\n",
            "Epoch 67/269\n",
            "7/7 [==============================] - 3s 447ms/step - loss: -1677074816.0000 - accuracy: 0.0400\n",
            "Epoch 68/269\n",
            "7/7 [==============================] - 3s 432ms/step - loss: -1798246016.0000 - accuracy: 0.0390\n",
            "Epoch 69/269\n",
            "7/7 [==============================] - 3s 455ms/step - loss: -1793173504.0000 - accuracy: 0.0286\n",
            "Epoch 70/269\n",
            "7/7 [==============================] - 3s 426ms/step - loss: -1989706752.0000 - accuracy: 0.0450\n",
            "Epoch 71/269\n",
            "7/7 [==============================] - 5s 604ms/step - loss: -2078568192.0000 - accuracy: 0.0571\n",
            "Epoch 72/269\n",
            "7/7 [==============================] - 3s 446ms/step - loss: -2210523648.0000 - accuracy: 0.0457\n",
            "Epoch 73/269\n",
            "7/7 [==============================] - 3s 445ms/step - loss: -2381381120.0000 - accuracy: 0.0371\n",
            "Epoch 74/269\n",
            "7/7 [==============================] - 3s 419ms/step - loss: -2532493824.0000 - accuracy: 0.0420\n",
            "Epoch 75/269\n",
            "7/7 [==============================] - 3s 452ms/step - loss: -2747574528.0000 - accuracy: 0.0400\n",
            "Epoch 76/269\n",
            "7/7 [==============================] - 4s 506ms/step - loss: -2792015616.0000 - accuracy: 0.0371\n",
            "Epoch 77/269\n",
            "7/7 [==============================] - 4s 530ms/step - loss: -2750776064.0000 - accuracy: 0.0300\n",
            "Epoch 78/269\n",
            "7/7 [==============================] - 3s 414ms/step - loss: -3345879552.0000 - accuracy: 0.0480\n",
            "Epoch 79/269\n",
            "7/7 [==============================] - 4s 557ms/step - loss: -3239836928.0000 - accuracy: 0.0314\n",
            "Epoch 80/269\n",
            "7/7 [==============================] - 3s 443ms/step - loss: -3533031168.0000 - accuracy: 0.0314\n",
            "Epoch 81/269\n",
            "7/7 [==============================] - 3s 450ms/step - loss: -3728152064.0000 - accuracy: 0.0571\n",
            "Epoch 82/269\n",
            "7/7 [==============================] - 4s 636ms/step - loss: -3940483840.0000 - accuracy: 0.0514\n",
            "Epoch 83/269\n",
            "7/7 [==============================] - 3s 445ms/step - loss: -4033587200.0000 - accuracy: 0.0286\n",
            "Epoch 84/269\n",
            "7/7 [==============================] - 3s 454ms/step - loss: -4226088192.0000 - accuracy: 0.0343\n",
            "Epoch 85/269\n",
            "7/7 [==============================] - 5s 652ms/step - loss: -4399000064.0000 - accuracy: 0.0514\n",
            "Epoch 86/269\n",
            "7/7 [==============================] - 3s 431ms/step - loss: -4401537024.0000 - accuracy: 0.0371\n",
            "Epoch 87/269\n",
            "7/7 [==============================] - 3s 434ms/step - loss: -5119664128.0000 - accuracy: 0.0457\n",
            "Epoch 88/269\n",
            "7/7 [==============================] - 4s 443ms/step - loss: -4939741696.0000 - accuracy: 0.0457\n",
            "Epoch 89/269\n",
            "7/7 [==============================] - 3s 434ms/step - loss: -5584848896.0000 - accuracy: 0.0429\n",
            "Epoch 90/269\n",
            "7/7 [==============================] - 3s 427ms/step - loss: -5428327424.0000 - accuracy: 0.0360\n",
            "Epoch 91/269\n",
            "7/7 [==============================] - 3s 452ms/step - loss: -6231744512.0000 - accuracy: 0.0390\n",
            "Epoch 92/269\n",
            "7/7 [==============================] - 3s 438ms/step - loss: -6135097344.0000 - accuracy: 0.0314\n",
            "Epoch 93/269\n",
            "7/7 [==============================] - 4s 612ms/step - loss: -6606444544.0000 - accuracy: 0.0371\n",
            "Epoch 94/269\n",
            "7/7 [==============================] - 3s 438ms/step - loss: -6436560896.0000 - accuracy: 0.0543\n",
            "Epoch 95/269\n",
            "7/7 [==============================] - 3s 435ms/step - loss: -7129882624.0000 - accuracy: 0.0457\n",
            "Epoch 96/269\n",
            "7/7 [==============================] - 3s 484ms/step - loss: -7583877120.0000 - accuracy: 0.0270\n",
            "Epoch 97/269\n",
            "7/7 [==============================] - 4s 538ms/step - loss: -8174155264.0000 - accuracy: 0.0343\n",
            "Epoch 98/269\n",
            "7/7 [==============================] - 3s 445ms/step - loss: -8321148416.0000 - accuracy: 0.0457\n",
            "Epoch 99/269\n",
            "7/7 [==============================] - 3s 426ms/step - loss: -8553273344.0000 - accuracy: 0.0371\n",
            "Epoch 100/269\n",
            "7/7 [==============================] - 4s 632ms/step - loss: -8311727104.0000 - accuracy: 0.0629\n",
            "Epoch 101/269\n",
            "7/7 [==============================] - 3s 428ms/step - loss: -8637074432.0000 - accuracy: 0.0457\n",
            "Epoch 102/269\n",
            "7/7 [==============================] - 3s 444ms/step - loss: -9439769600.0000 - accuracy: 0.0486\n",
            "Epoch 103/269\n",
            "7/7 [==============================] - 3s 447ms/step - loss: -9867377664.0000 - accuracy: 0.0543\n",
            "Epoch 104/269\n",
            "7/7 [==============================] - 3s 441ms/step - loss: -9454243840.0000 - accuracy: 0.0429\n",
            "Epoch 105/269\n",
            "7/7 [==============================] - 3s 445ms/step - loss: -10452515840.0000 - accuracy: 0.0429\n",
            "Epoch 106/269\n",
            "7/7 [==============================] - 4s 625ms/step - loss: -11405719552.0000 - accuracy: 0.0457\n",
            "Epoch 107/269\n",
            "7/7 [==============================] - 3s 435ms/step - loss: -12189025280.0000 - accuracy: 0.0457\n",
            "Epoch 108/269\n",
            "7/7 [==============================] - 3s 439ms/step - loss: -11332422656.0000 - accuracy: 0.0400\n",
            "Epoch 109/269\n",
            "7/7 [==============================] - 3s 447ms/step - loss: -12516088832.0000 - accuracy: 0.0371\n",
            "Epoch 110/269\n",
            "7/7 [==============================] - 5s 677ms/step - loss: -12502170624.0000 - accuracy: 0.0514\n",
            "Epoch 111/269\n",
            "7/7 [==============================] - 3s 441ms/step - loss: -13701579776.0000 - accuracy: 0.0514\n",
            "Epoch 112/269\n",
            "7/7 [==============================] - 3s 434ms/step - loss: -13519455232.0000 - accuracy: 0.0457\n",
            "Epoch 113/269\n",
            "7/7 [==============================] - 4s 519ms/step - loss: -13571495936.0000 - accuracy: 0.0429\n",
            "Epoch 114/269\n",
            "7/7 [==============================] - 3s 444ms/step - loss: -14790300672.0000 - accuracy: 0.0371\n",
            "Epoch 115/269\n",
            "7/7 [==============================] - 6s 759ms/step - loss: -15690891264.0000 - accuracy: 0.0429\n",
            "Epoch 116/269\n",
            "7/7 [==============================] - 4s 482ms/step - loss: -15366949888.0000 - accuracy: 0.0343\n",
            "Epoch 117/269\n",
            "7/7 [==============================] - 3s 450ms/step - loss: -16750327808.0000 - accuracy: 0.0314\n",
            "Epoch 118/269\n",
            "7/7 [==============================] - 4s 639ms/step - loss: -17275168768.0000 - accuracy: 0.0400\n",
            "Epoch 119/269\n",
            "7/7 [==============================] - 3s 431ms/step - loss: -17109200896.0000 - accuracy: 0.0543\n",
            "Epoch 120/269\n",
            "7/7 [==============================] - 3s 434ms/step - loss: -18160287744.0000 - accuracy: 0.0429\n",
            "Epoch 121/269\n",
            "7/7 [==============================] - 4s 640ms/step - loss: -18939037696.0000 - accuracy: 0.0457\n",
            "Epoch 122/269\n",
            "7/7 [==============================] - 3s 433ms/step - loss: -21159813120.0000 - accuracy: 0.0229\n",
            "Epoch 123/269\n",
            "7/7 [==============================] - 3s 430ms/step - loss: -20695076864.0000 - accuracy: 0.0400\n",
            "Epoch 124/269\n",
            "7/7 [==============================] - 3s 427ms/step - loss: -19505143808.0000 - accuracy: 0.0486\n",
            "Epoch 125/269\n",
            "7/7 [==============================] - 4s 600ms/step - loss: -21569792000.0000 - accuracy: 0.0514\n",
            "Epoch 126/269\n",
            "7/7 [==============================] - 3s 442ms/step - loss: -21084919808.0000 - accuracy: 0.0457\n",
            "Epoch 127/269\n",
            "7/7 [==============================] - 3s 438ms/step - loss: -22375141376.0000 - accuracy: 0.0314\n",
            "Epoch 128/269\n",
            "7/7 [==============================] - 5s 604ms/step - loss: -23417726976.0000 - accuracy: 0.0486\n",
            "Epoch 129/269\n",
            "7/7 [==============================] - 3s 429ms/step - loss: -23982223360.0000 - accuracy: 0.0457\n",
            "Epoch 130/269\n",
            "7/7 [==============================] - 3s 437ms/step - loss: -25335201792.0000 - accuracy: 0.0514\n",
            "Epoch 131/269\n",
            "7/7 [==============================] - 3s 427ms/step - loss: -24936478720.0000 - accuracy: 0.0371\n",
            "Epoch 132/269\n",
            "7/7 [==============================] - 3s 423ms/step - loss: -25684203520.0000 - accuracy: 0.0571\n",
            "Epoch 133/269\n",
            "7/7 [==============================] - 4s 531ms/step - loss: -28513685504.0000 - accuracy: 0.0450\n",
            "Epoch 134/269\n",
            "7/7 [==============================] - 4s 486ms/step - loss: -28885401600.0000 - accuracy: 0.0343\n",
            "Epoch 135/269\n",
            "7/7 [==============================] - 3s 446ms/step - loss: -28125857792.0000 - accuracy: 0.0514\n",
            "Epoch 136/269\n",
            "7/7 [==============================] - 3s 437ms/step - loss: -29359579136.0000 - accuracy: 0.0429\n",
            "Epoch 137/269\n",
            "7/7 [==============================] - 4s 542ms/step - loss: -32115183616.0000 - accuracy: 0.0343\n",
            "Epoch 138/269\n",
            "7/7 [==============================] - 3s 432ms/step - loss: -30351032320.0000 - accuracy: 0.0343\n",
            "Epoch 139/269\n",
            "7/7 [==============================] - 3s 408ms/step - loss: -29809971200.0000 - accuracy: 0.0480\n",
            "Epoch 140/269\n",
            "7/7 [==============================] - 4s 575ms/step - loss: -31876450304.0000 - accuracy: 0.0571\n",
            "Epoch 141/269\n",
            "7/7 [==============================] - 3s 427ms/step - loss: -36166684672.0000 - accuracy: 0.0514\n",
            "Epoch 142/269\n",
            "7/7 [==============================] - 3s 440ms/step - loss: -36014841856.0000 - accuracy: 0.0657\n",
            "Epoch 143/269\n",
            "7/7 [==============================] - 3s 431ms/step - loss: -36750565376.0000 - accuracy: 0.0400\n",
            "Epoch 144/269\n",
            "7/7 [==============================] - 3s 435ms/step - loss: -38969364480.0000 - accuracy: 0.0457\n",
            "Epoch 145/269\n",
            "7/7 [==============================] - 4s 540ms/step - loss: -39609356288.0000 - accuracy: 0.0343\n",
            "Epoch 146/269\n",
            "7/7 [==============================] - 3s 459ms/step - loss: -39278338048.0000 - accuracy: 0.0429\n",
            "Epoch 147/269\n",
            "7/7 [==============================] - 3s 447ms/step - loss: -40041521152.0000 - accuracy: 0.0543\n",
            "Epoch 148/269\n",
            "7/7 [==============================] - 4s 553ms/step - loss: -40207740928.0000 - accuracy: 0.0450\n",
            "Epoch 149/269\n",
            "7/7 [==============================] - 4s 507ms/step - loss: -43314843648.0000 - accuracy: 0.0480\n",
            "Epoch 150/269\n",
            "7/7 [==============================] - 5s 711ms/step - loss: -39802355712.0000 - accuracy: 0.0429\n",
            "Epoch 151/269\n",
            "7/7 [==============================] - 5s 582ms/step - loss: -42013384704.0000 - accuracy: 0.0541\n",
            "Epoch 152/269\n",
            "7/7 [==============================] - 3s 480ms/step - loss: -45290594304.0000 - accuracy: 0.0514\n",
            "Epoch 153/269\n",
            "7/7 [==============================] - 3s 470ms/step - loss: -45610651648.0000 - accuracy: 0.0371\n",
            "Epoch 154/269\n",
            "7/7 [==============================] - 5s 669ms/step - loss: -50142162944.0000 - accuracy: 0.0343\n",
            "Epoch 155/269\n",
            "7/7 [==============================] - 3s 455ms/step - loss: -47386804224.0000 - accuracy: 0.0371\n",
            "Epoch 156/269\n",
            "7/7 [==============================] - 3s 453ms/step - loss: -47608242176.0000 - accuracy: 0.0457\n",
            "Epoch 157/269\n",
            "7/7 [==============================] - 4s 634ms/step - loss: -52041424896.0000 - accuracy: 0.0480\n",
            "Epoch 158/269\n",
            "7/7 [==============================] - 3s 431ms/step - loss: -51819655168.0000 - accuracy: 0.0343\n",
            "Epoch 159/269\n",
            "7/7 [==============================] - 3s 442ms/step - loss: -56429207552.0000 - accuracy: 0.0286\n",
            "Epoch 160/269\n",
            "7/7 [==============================] - 3s 464ms/step - loss: -54515015680.0000 - accuracy: 0.0400\n",
            "Epoch 161/269\n",
            "7/7 [==============================] - 4s 561ms/step - loss: -58242973696.0000 - accuracy: 0.0390\n",
            "Epoch 162/269\n",
            "7/7 [==============================] - 3s 419ms/step - loss: -61725683712.0000 - accuracy: 0.0541\n",
            "Epoch 163/269\n",
            "7/7 [==============================] - 3s 410ms/step - loss: -59748917248.0000 - accuracy: 0.0390\n",
            "Epoch 164/269\n",
            "7/7 [==============================] - 4s 532ms/step - loss: -60395687936.0000 - accuracy: 0.0543\n",
            "Epoch 165/269\n",
            "7/7 [==============================] - 4s 493ms/step - loss: -58235740160.0000 - accuracy: 0.0371\n",
            "Epoch 166/269\n",
            "7/7 [==============================] - 3s 423ms/step - loss: -65573060608.0000 - accuracy: 0.0371\n",
            "Epoch 167/269\n",
            "7/7 [==============================] - 4s 587ms/step - loss: -64998817792.0000 - accuracy: 0.0343\n",
            "Epoch 168/269\n",
            "7/7 [==============================] - 3s 437ms/step - loss: -66307997696.0000 - accuracy: 0.0457\n",
            "Epoch 169/269\n",
            "7/7 [==============================] - 3s 438ms/step - loss: -70357770240.0000 - accuracy: 0.0511\n",
            "Epoch 170/269\n",
            "7/7 [==============================] - 4s 586ms/step - loss: -70981230592.0000 - accuracy: 0.0360\n",
            "Epoch 171/269\n",
            "7/7 [==============================] - 3s 398ms/step - loss: -69706293248.0000 - accuracy: 0.0330\n",
            "Epoch 172/269\n",
            "7/7 [==============================] - 3s 434ms/step - loss: -73916899328.0000 - accuracy: 0.0429\n",
            "Epoch 173/269\n",
            "7/7 [==============================] - 5s 736ms/step - loss: -74381623296.0000 - accuracy: 0.0314\n",
            "Epoch 174/269\n",
            "7/7 [==============================] - 3s 437ms/step - loss: -70534168576.0000 - accuracy: 0.0457\n",
            "Epoch 175/269\n",
            "7/7 [==============================] - 3s 430ms/step - loss: -79952183296.0000 - accuracy: 0.0371\n",
            "Epoch 176/269\n",
            "7/7 [==============================] - 3s 447ms/step - loss: -80138215424.0000 - accuracy: 0.0343\n",
            "Epoch 177/269\n",
            "7/7 [==============================] - 5s 587ms/step - loss: -84454252544.0000 - accuracy: 0.0543\n",
            "Epoch 178/269\n",
            "7/7 [==============================] - 3s 439ms/step - loss: -82107908096.0000 - accuracy: 0.0457\n",
            "Epoch 179/269\n",
            "7/7 [==============================] - 3s 444ms/step - loss: -84953784320.0000 - accuracy: 0.0390\n",
            "Epoch 180/269\n",
            "7/7 [==============================] - 5s 600ms/step - loss: -82793144320.0000 - accuracy: 0.0429\n",
            "Epoch 181/269\n",
            "7/7 [==============================] - 3s 439ms/step - loss: -90604421120.0000 - accuracy: 0.0343\n",
            "Epoch 182/269\n",
            "7/7 [==============================] - 3s 438ms/step - loss: -88765095936.0000 - accuracy: 0.0429\n",
            "Epoch 183/269\n",
            "7/7 [==============================] - 5s 616ms/step - loss: -93247176704.0000 - accuracy: 0.0371\n",
            "Epoch 184/269\n",
            "7/7 [==============================] - 3s 439ms/step - loss: -92443459584.0000 - accuracy: 0.0229\n",
            "Epoch 185/269\n",
            "7/7 [==============================] - 3s 433ms/step - loss: -93154304000.0000 - accuracy: 0.0457\n",
            "Epoch 186/269\n",
            "7/7 [==============================] - 3s 436ms/step - loss: -94201397248.0000 - accuracy: 0.0400\n",
            "Epoch 187/269\n",
            "7/7 [==============================] - 3s 414ms/step - loss: -103394836480.0000 - accuracy: 0.0180\n",
            "Epoch 188/269\n",
            "7/7 [==============================] - 5s 673ms/step - loss: -103211597824.0000 - accuracy: 0.0371\n",
            "Epoch 189/269\n",
            "7/7 [==============================] - 3s 437ms/step - loss: -92768722944.0000 - accuracy: 0.0486\n",
            "Epoch 190/269\n",
            "7/7 [==============================] - 3s 426ms/step - loss: -103190888448.0000 - accuracy: 0.0429\n",
            "Epoch 191/269\n",
            "7/7 [==============================] - 4s 464ms/step - loss: -110400913408.0000 - accuracy: 0.0371\n",
            "Epoch 192/269\n",
            "7/7 [==============================] - 3s 434ms/step - loss: -111446122496.0000 - accuracy: 0.0314\n",
            "Epoch 193/269\n",
            "7/7 [==============================] - 3s 446ms/step - loss: -113612259328.0000 - accuracy: 0.0429\n",
            "Epoch 194/269\n",
            "7/7 [==============================] - 4s 622ms/step - loss: -112990994432.0000 - accuracy: 0.0360\n",
            "Epoch 195/269\n",
            "7/7 [==============================] - 3s 401ms/step - loss: -107953881088.0000 - accuracy: 0.0330\n",
            "Epoch 196/269\n",
            "7/7 [==============================] - 3s 442ms/step - loss: -122543472640.0000 - accuracy: 0.0400\n",
            "Epoch 197/269\n",
            "7/7 [==============================] - 4s 524ms/step - loss: -117745885184.0000 - accuracy: 0.0400\n",
            "Epoch 198/269\n",
            "7/7 [==============================] - 3s 422ms/step - loss: -119560609792.0000 - accuracy: 0.0486\n",
            "Epoch 199/269\n",
            "7/7 [==============================] - 3s 405ms/step - loss: -128208740352.0000 - accuracy: 0.0270\n",
            "Epoch 200/269\n",
            "7/7 [==============================] - 4s 586ms/step - loss: -143270182912.0000 - accuracy: 0.0314\n",
            "Epoch 201/269\n",
            "7/7 [==============================] - 3s 422ms/step - loss: -129303969792.0000 - accuracy: 0.0486\n",
            "Epoch 202/269\n",
            "7/7 [==============================] - 3s 426ms/step - loss: -140268306432.0000 - accuracy: 0.0571\n",
            "Epoch 203/269\n",
            "7/7 [==============================] - 3s 440ms/step - loss: -136488165376.0000 - accuracy: 0.0486\n",
            "Epoch 204/269\n",
            "7/7 [==============================] - 4s 583ms/step - loss: -147057573888.0000 - accuracy: 0.0450\n",
            "Epoch 205/269\n",
            "7/7 [==============================] - 3s 430ms/step - loss: -140072534016.0000 - accuracy: 0.0314\n",
            "Epoch 206/269\n",
            "7/7 [==============================] - 3s 411ms/step - loss: -136903524352.0000 - accuracy: 0.0571\n",
            "Epoch 207/269\n",
            "7/7 [==============================] - 5s 689ms/step - loss: -141838352384.0000 - accuracy: 0.0343\n",
            "Epoch 208/269\n",
            "7/7 [==============================] - 3s 442ms/step - loss: -149319925760.0000 - accuracy: 0.0429\n",
            "Epoch 209/269\n",
            "7/7 [==============================] - 3s 412ms/step - loss: -148340064256.0000 - accuracy: 0.0360\n",
            "Epoch 210/269\n",
            "7/7 [==============================] - 5s 681ms/step - loss: -150525804544.0000 - accuracy: 0.0429\n",
            "Epoch 211/269\n",
            "7/7 [==============================] - 3s 444ms/step - loss: -148736737280.0000 - accuracy: 0.0543\n",
            "Epoch 212/269\n",
            "7/7 [==============================] - 3s 413ms/step - loss: -157410181120.0000 - accuracy: 0.0511\n",
            "Epoch 213/269\n",
            "7/7 [==============================] - 4s 594ms/step - loss: -155841462272.0000 - accuracy: 0.0571\n",
            "Epoch 214/269\n",
            "7/7 [==============================] - 3s 405ms/step - loss: -166103400448.0000 - accuracy: 0.0450\n",
            "Epoch 215/269\n",
            "7/7 [==============================] - 3s 426ms/step - loss: -167648395264.0000 - accuracy: 0.0543\n",
            "Epoch 216/269\n",
            "7/7 [==============================] - 4s 549ms/step - loss: -173205438464.0000 - accuracy: 0.0543\n",
            "Epoch 217/269\n",
            "7/7 [==============================] - 3s 438ms/step - loss: -183120494592.0000 - accuracy: 0.0457\n",
            "Epoch 218/269\n",
            "7/7 [==============================] - 4s 499ms/step - loss: -178730926080.0000 - accuracy: 0.0229\n",
            "Epoch 219/269\n",
            "7/7 [==============================] - 3s 431ms/step - loss: -172850724864.0000 - accuracy: 0.0486\n",
            "Epoch 220/269\n",
            "7/7 [==============================] - 3s 432ms/step - loss: -157379182592.0000 - accuracy: 0.0543\n",
            "Epoch 221/269\n",
            "7/7 [==============================] - 4s 550ms/step - loss: -185945489408.0000 - accuracy: 0.0360\n",
            "Epoch 222/269\n",
            "7/7 [==============================] - 3s 434ms/step - loss: -187988541440.0000 - accuracy: 0.0429\n",
            "Epoch 223/269\n",
            "7/7 [==============================] - 3s 443ms/step - loss: -189479272448.0000 - accuracy: 0.0457\n",
            "Epoch 224/269\n",
            "7/7 [==============================] - 4s 530ms/step - loss: -187810004992.0000 - accuracy: 0.0257\n",
            "Epoch 225/269\n",
            "7/7 [==============================] - 3s 411ms/step - loss: -192688275456.0000 - accuracy: 0.0601\n",
            "Epoch 226/269\n",
            "7/7 [==============================] - 3s 427ms/step - loss: -187515912192.0000 - accuracy: 0.0657\n",
            "Epoch 227/269\n",
            "7/7 [==============================] - 4s 580ms/step - loss: -209908563968.0000 - accuracy: 0.0571\n",
            "Epoch 228/269\n",
            "7/7 [==============================] - 4s 459ms/step - loss: -202406117376.0000 - accuracy: 0.0400\n",
            "Epoch 229/269\n",
            "7/7 [==============================] - 3s 443ms/step - loss: -214894084096.0000 - accuracy: 0.0429\n",
            "Epoch 230/269\n",
            "7/7 [==============================] - 3s 470ms/step - loss: -208395911168.0000 - accuracy: 0.0457\n",
            "Epoch 231/269\n",
            "7/7 [==============================] - 5s 579ms/step - loss: -208130080768.0000 - accuracy: 0.0429\n",
            "Epoch 232/269\n",
            "7/7 [==============================] - 3s 424ms/step - loss: -231512637440.0000 - accuracy: 0.0400\n",
            "Epoch 233/269\n",
            "7/7 [==============================] - 4s 572ms/step - loss: -225243037696.0000 - accuracy: 0.0429\n",
            "Epoch 234/269\n",
            "7/7 [==============================] - 4s 465ms/step - loss: -209689886720.0000 - accuracy: 0.0400\n",
            "Epoch 235/269\n",
            "7/7 [==============================] - 3s 440ms/step - loss: -223880970240.0000 - accuracy: 0.0486\n",
            "Epoch 236/269\n",
            "7/7 [==============================] - 4s 638ms/step - loss: -235012947968.0000 - accuracy: 0.0486\n",
            "Epoch 237/269\n",
            "7/7 [==============================] - 3s 453ms/step - loss: -244231847936.0000 - accuracy: 0.0429\n",
            "Epoch 238/269\n",
            "7/7 [==============================] - 3s 430ms/step - loss: -238299643904.0000 - accuracy: 0.0286\n",
            "Epoch 239/269\n",
            "7/7 [==============================] - 4s 573ms/step - loss: -245399142400.0000 - accuracy: 0.0400\n",
            "Epoch 240/269\n",
            "7/7 [==============================] - 3s 439ms/step - loss: -251478802432.0000 - accuracy: 0.0543\n",
            "Epoch 241/269\n",
            "7/7 [==============================] - 3s 434ms/step - loss: -266709221376.0000 - accuracy: 0.0200\n",
            "Epoch 242/269\n",
            "7/7 [==============================] - 4s 562ms/step - loss: -257497088000.0000 - accuracy: 0.0457\n",
            "Epoch 243/269\n",
            "7/7 [==============================] - 3s 438ms/step - loss: -251859271680.0000 - accuracy: 0.0400\n",
            "Epoch 244/269\n",
            "7/7 [==============================] - 3s 475ms/step - loss: -245535948800.0000 - accuracy: 0.0600\n",
            "Epoch 245/269\n",
            "7/7 [==============================] - 3s 447ms/step - loss: -249324617728.0000 - accuracy: 0.0571\n",
            "Epoch 246/269\n",
            "7/7 [==============================] - 3s 430ms/step - loss: -267205033984.0000 - accuracy: 0.0543\n",
            "Epoch 247/269\n",
            "7/7 [==============================] - 3s 432ms/step - loss: -259125870592.0000 - accuracy: 0.0457\n",
            "Epoch 248/269\n",
            "7/7 [==============================] - 5s 631ms/step - loss: -281493962752.0000 - accuracy: 0.0486\n",
            "Epoch 249/269\n",
            "7/7 [==============================] - 3s 445ms/step - loss: -274939740160.0000 - accuracy: 0.0571\n",
            "Epoch 250/269\n",
            "7/7 [==============================] - 3s 441ms/step - loss: -285313662976.0000 - accuracy: 0.0371\n",
            "Epoch 251/269\n",
            "7/7 [==============================] - 3s 442ms/step - loss: -282578124800.0000 - accuracy: 0.0457\n",
            "Epoch 252/269\n",
            "7/7 [==============================] - 3s 424ms/step - loss: -303674228736.0000 - accuracy: 0.0400\n",
            "Epoch 253/269\n",
            "7/7 [==============================] - 5s 688ms/step - loss: -296232943616.0000 - accuracy: 0.0571\n",
            "Epoch 254/269\n",
            "7/7 [==============================] - 3s 445ms/step - loss: -314246201344.0000 - accuracy: 0.0457\n",
            "Epoch 255/269\n",
            "7/7 [==============================] - 3s 441ms/step - loss: -313849544704.0000 - accuracy: 0.0360\n",
            "Epoch 256/269\n",
            "7/7 [==============================] - 4s 496ms/step - loss: -300929056768.0000 - accuracy: 0.0543\n",
            "Epoch 257/269\n",
            "7/7 [==============================] - 4s 552ms/step - loss: -319205244928.0000 - accuracy: 0.0600\n",
            "Epoch 258/269\n",
            "7/7 [==============================] - 3s 438ms/step - loss: -338495602688.0000 - accuracy: 0.0314\n",
            "Epoch 259/269\n",
            "7/7 [==============================] - 3s 436ms/step - loss: -311575019520.0000 - accuracy: 0.0486\n",
            "Epoch 260/269\n",
            "7/7 [==============================] - 3s 428ms/step - loss: -343316332544.0000 - accuracy: 0.0314\n",
            "Epoch 261/269\n",
            "7/7 [==============================] - 3s 432ms/step - loss: -313724305408.0000 - accuracy: 0.0541\n",
            "Epoch 262/269\n",
            "7/7 [==============================] - 3s 431ms/step - loss: -345434521600.0000 - accuracy: 0.0286\n",
            "Epoch 263/269\n",
            "7/7 [==============================] - 4s 444ms/step - loss: -326640041984.0000 - accuracy: 0.0286\n",
            "Epoch 264/269\n",
            "7/7 [==============================] - 3s 427ms/step - loss: -339694059520.0000 - accuracy: 0.0286\n",
            "Epoch 265/269\n",
            "7/7 [==============================] - 4s 520ms/step - loss: -347606941696.0000 - accuracy: 0.0543\n",
            "Epoch 266/269\n",
            "7/7 [==============================] - 3s 438ms/step - loss: -361195536384.0000 - accuracy: 0.0343\n",
            "Epoch 267/269\n",
            "7/7 [==============================] - 3s 433ms/step - loss: -358958596096.0000 - accuracy: 0.0543\n",
            "Epoch 268/269\n",
            "7/7 [==============================] - 3s 424ms/step - loss: -378744700928.0000 - accuracy: 0.0286\n",
            "Epoch 269/269\n",
            "7/7 [==============================] - 5s 616ms/step - loss: -347939504128.0000 - accuracy: 0.0543\n"
          ]
        },
        {
          "output_type": "execute_result",
          "data": {
            "text/plain": [
              "<keras.callbacks.History at 0x7f9730c3aa40>"
            ]
          },
          "metadata": {},
          "execution_count": 36
        }
      ],
      "source": [
        "classifier.fit_generator(training_set, #training data to fit\n",
        "                        steps_per_epoch=7, # Data in training set\n",
        "                        epochs=269, # No of epochs to run\n",
        "                        validation_data=test_set, # Test or validation set\n",
        "                        validation_steps=1883 # no of data point for validation\n",
        "                        )"
      ]
    },
    {
      "cell_type": "code",
      "source": [
        "from keras.callbacks import ModelCheckpoint\n",
        "\n",
        "# Define the checkpoint path and filename\n",
        "checkpoint_path = '/content/drive/MyDrive/Project image dataset/model.h5'\n",
        "\n",
        "# Configure the model checkpoint callback\n",
        "checkpoint = ModelCheckpoint(\n",
        "    checkpoint_path,\n",
        "    monitor='val_loss',\n",
        "    mode='min',\n",
        "    save_best_only=True,\n",
        "    save_weights_only=False,\n",
        "    verbose=1\n",
        ")\n",
        "\n",
        "# Add the checkpoint callback to the training process\n",
        "classifier.fit_generator(\n",
        "    training_set,\n",
        "    steps_per_epoch=7,\n",
        "    epochs=269,\n",
        "    validation_data=test_set,\n",
        "    validation_steps=1883,\n",
        "    callbacks=[checkpoint]\n",
        ")\n"
      ],
      "metadata": {
        "colab": {
          "base_uri": "https://localhost:8080/"
        },
        "id": "qVsLIFblc4gF",
        "outputId": "1aa5d2c9-c3b3-4fac-c868-59b42c4269cf"
      },
      "execution_count": null,
      "outputs": [
        {
          "metadata": {
            "tags": null
          },
          "name": "stderr",
          "output_type": "stream",
          "text": [
            "<ipython-input-55-fb5669481009>:17: UserWarning: `Model.fit_generator` is deprecated and will be removed in a future version. Please use `Model.fit`, which supports generators.\n",
            "  classifier.fit_generator(\n"
          ]
        },
        {
          "metadata": {
            "tags": null
          },
          "name": "stdout",
          "output_type": "stream",
          "text": [
            "Epoch 1/269\n",
            "7/7 [==============================] - ETA: 0s - loss: -409458442240.0000 - accuracy: 0.0400"
          ]
        },
        {
          "metadata": {
            "tags": null
          },
          "name": "stderr",
          "output_type": "stream",
          "text": [
            "WARNING:tensorflow:Can save best model only with val_loss available, skipping.\n"
          ]
        },
        {
          "metadata": {
            "tags": null
          },
          "name": "stdout",
          "output_type": "stream",
          "text": [
            "7/7 [==============================] - 3s 430ms/step - loss: -409458442240.0000 - accuracy: 0.0400\n",
            "Epoch 2/269\n",
            "7/7 [==============================] - ETA: 0s - loss: -395309973504.0000 - accuracy: 0.0457"
          ]
        },
        {
          "metadata": {
            "tags": null
          },
          "name": "stderr",
          "output_type": "stream",
          "text": [
            "WARNING:tensorflow:Can save best model only with val_loss available, skipping.\n"
          ]
        },
        {
          "metadata": {
            "tags": null
          },
          "name": "stdout",
          "output_type": "stream",
          "text": [
            "7/7 [==============================] - 3s 447ms/step - loss: -395309973504.0000 - accuracy: 0.0457\n",
            "Epoch 3/269\n",
            "7/7 [==============================] - ETA: 0s - loss: -364786319360.0000 - accuracy: 0.0600"
          ]
        },
        {
          "metadata": {
            "tags": null
          },
          "name": "stderr",
          "output_type": "stream",
          "text": [
            "WARNING:tensorflow:Can save best model only with val_loss available, skipping.\n"
          ]
        },
        {
          "metadata": {
            "tags": null
          },
          "name": "stdout",
          "output_type": "stream",
          "text": [
            "7/7 [==============================] - 5s 725ms/step - loss: -364786319360.0000 - accuracy: 0.0600\n",
            "Epoch 4/269\n",
            "7/7 [==============================] - ETA: 0s - loss: -402731663360.0000 - accuracy: 0.0486"
          ]
        },
        {
          "metadata": {
            "tags": null
          },
          "name": "stderr",
          "output_type": "stream",
          "text": [
            "WARNING:tensorflow:Can save best model only with val_loss available, skipping.\n"
          ]
        },
        {
          "metadata": {
            "tags": null
          },
          "name": "stdout",
          "output_type": "stream",
          "text": [
            "7/7 [==============================] - 3s 438ms/step - loss: -402731663360.0000 - accuracy: 0.0486\n",
            "Epoch 5/269\n",
            "7/7 [==============================] - ETA: 0s - loss: -386117664768.0000 - accuracy: 0.0571"
          ]
        },
        {
          "metadata": {
            "tags": null
          },
          "name": "stderr",
          "output_type": "stream",
          "text": [
            "WARNING:tensorflow:Can save best model only with val_loss available, skipping.\n"
          ]
        },
        {
          "metadata": {
            "tags": null
          },
          "name": "stdout",
          "output_type": "stream",
          "text": [
            "7/7 [==============================] - 3s 434ms/step - loss: -386117664768.0000 - accuracy: 0.0571\n",
            "Epoch 6/269\n",
            "7/7 [==============================] - ETA: 0s - loss: -396252643328.0000 - accuracy: 0.0571"
          ]
        },
        {
          "metadata": {
            "tags": null
          },
          "name": "stderr",
          "output_type": "stream",
          "text": [
            "WARNING:tensorflow:Can save best model only with val_loss available, skipping.\n"
          ]
        },
        {
          "metadata": {
            "tags": null
          },
          "name": "stdout",
          "output_type": "stream",
          "text": [
            "7/7 [==============================] - 4s 656ms/step - loss: -396252643328.0000 - accuracy: 0.0571\n",
            "Epoch 7/269\n",
            "7/7 [==============================] - ETA: 0s - loss: -432141074432.0000 - accuracy: 0.0400"
          ]
        },
        {
          "metadata": {
            "tags": null
          },
          "name": "stderr",
          "output_type": "stream",
          "text": [
            "WARNING:tensorflow:Can save best model only with val_loss available, skipping.\n"
          ]
        },
        {
          "metadata": {
            "tags": null
          },
          "name": "stdout",
          "output_type": "stream",
          "text": [
            "7/7 [==============================] - 4s 524ms/step - loss: -432141074432.0000 - accuracy: 0.0400\n",
            "Epoch 8/269\n",
            "7/7 [==============================] - ETA: 0s - loss: -425354395648.0000 - accuracy: 0.0514"
          ]
        },
        {
          "metadata": {
            "tags": null
          },
          "name": "stderr",
          "output_type": "stream",
          "text": [
            "WARNING:tensorflow:Can save best model only with val_loss available, skipping.\n"
          ]
        },
        {
          "metadata": {
            "tags": null
          },
          "name": "stdout",
          "output_type": "stream",
          "text": [
            "7/7 [==============================] - 5s 654ms/step - loss: -425354395648.0000 - accuracy: 0.0514\n",
            "Epoch 9/269\n",
            "7/7 [==============================] - ETA: 0s - loss: -457434595328.0000 - accuracy: 0.0343"
          ]
        },
        {
          "metadata": {
            "tags": null
          },
          "name": "stderr",
          "output_type": "stream",
          "text": [
            "WARNING:tensorflow:Can save best model only with val_loss available, skipping.\n"
          ]
        },
        {
          "metadata": {
            "tags": null
          },
          "name": "stdout",
          "output_type": "stream",
          "text": [
            "7/7 [==============================] - 4s 620ms/step - loss: -457434595328.0000 - accuracy: 0.0343\n",
            "Epoch 10/269\n",
            "7/7 [==============================] - ETA: 0s - loss: -469103673344.0000 - accuracy: 0.0229"
          ]
        },
        {
          "metadata": {
            "tags": null
          },
          "name": "stderr",
          "output_type": "stream",
          "text": [
            "WARNING:tensorflow:Can save best model only with val_loss available, skipping.\n"
          ]
        },
        {
          "metadata": {
            "tags": null
          },
          "name": "stdout",
          "output_type": "stream",
          "text": [
            "7/7 [==============================] - 4s 603ms/step - loss: -469103673344.0000 - accuracy: 0.0229\n",
            "Epoch 11/269\n",
            "7/7 [==============================] - ETA: 0s - loss: -458361536512.0000 - accuracy: 0.0457"
          ]
        },
        {
          "metadata": {
            "tags": null
          },
          "name": "stderr",
          "output_type": "stream",
          "text": [
            "WARNING:tensorflow:Can save best model only with val_loss available, skipping.\n"
          ]
        },
        {
          "metadata": {
            "tags": null
          },
          "name": "stdout",
          "output_type": "stream",
          "text": [
            "7/7 [==============================] - 3s 443ms/step - loss: -458361536512.0000 - accuracy: 0.0457\n",
            "Epoch 12/269\n",
            "7/7 [==============================] - ETA: 0s - loss: -465238196224.0000 - accuracy: 0.0601"
          ]
        },
        {
          "metadata": {
            "tags": null
          },
          "name": "stderr",
          "output_type": "stream",
          "text": [
            "WARNING:tensorflow:Can save best model only with val_loss available, skipping.\n"
          ]
        },
        {
          "metadata": {
            "tags": null
          },
          "name": "stdout",
          "output_type": "stream",
          "text": [
            "7/7 [==============================] - 3s 484ms/step - loss: -465238196224.0000 - accuracy: 0.0601\n",
            "Epoch 13/269\n",
            "7/7 [==============================] - ETA: 0s - loss: -463128035328.0000 - accuracy: 0.0300"
          ]
        },
        {
          "metadata": {
            "tags": null
          },
          "name": "stderr",
          "output_type": "stream",
          "text": [
            "WARNING:tensorflow:Can save best model only with val_loss available, skipping.\n"
          ]
        },
        {
          "metadata": {
            "tags": null
          },
          "name": "stdout",
          "output_type": "stream",
          "text": [
            "7/7 [==============================] - 5s 658ms/step - loss: -463128035328.0000 - accuracy: 0.0300\n",
            "Epoch 14/269\n",
            "7/7 [==============================] - ETA: 0s - loss: -461714653184.0000 - accuracy: 0.0571"
          ]
        },
        {
          "metadata": {
            "tags": null
          },
          "name": "stderr",
          "output_type": "stream",
          "text": [
            "WARNING:tensorflow:Can save best model only with val_loss available, skipping.\n"
          ]
        },
        {
          "metadata": {
            "tags": null
          },
          "name": "stdout",
          "output_type": "stream",
          "text": [
            "7/7 [==============================] - 3s 452ms/step - loss: -461714653184.0000 - accuracy: 0.0571\n",
            "Epoch 15/269\n",
            "7/7 [==============================] - ETA: 0s - loss: -470174040064.0000 - accuracy: 0.0543"
          ]
        },
        {
          "metadata": {
            "tags": null
          },
          "name": "stderr",
          "output_type": "stream",
          "text": [
            "WARNING:tensorflow:Can save best model only with val_loss available, skipping.\n"
          ]
        },
        {
          "metadata": {
            "tags": null
          },
          "name": "stdout",
          "output_type": "stream",
          "text": [
            "7/7 [==============================] - 3s 446ms/step - loss: -470174040064.0000 - accuracy: 0.0543\n",
            "Epoch 16/269\n",
            "7/7 [==============================] - ETA: 0s - loss: -443279179776.0000 - accuracy: 0.0286"
          ]
        },
        {
          "metadata": {
            "tags": null
          },
          "name": "stderr",
          "output_type": "stream",
          "text": [
            "WARNING:tensorflow:Can save best model only with val_loss available, skipping.\n"
          ]
        },
        {
          "metadata": {
            "tags": null
          },
          "name": "stdout",
          "output_type": "stream",
          "text": [
            "7/7 [==============================] - 4s 535ms/step - loss: -443279179776.0000 - accuracy: 0.0286\n",
            "Epoch 17/269\n",
            "7/7 [==============================] - ETA: 0s - loss: -459746410496.0000 - accuracy: 0.0450"
          ]
        },
        {
          "metadata": {
            "tags": null
          },
          "name": "stderr",
          "output_type": "stream",
          "text": [
            "WARNING:tensorflow:Can save best model only with val_loss available, skipping.\n"
          ]
        },
        {
          "metadata": {
            "tags": null
          },
          "name": "stdout",
          "output_type": "stream",
          "text": [
            "7/7 [==============================] - 3s 419ms/step - loss: -459746410496.0000 - accuracy: 0.0450\n",
            "Epoch 18/269\n",
            "7/7 [==============================] - ETA: 0s - loss: -472144969728.0000 - accuracy: 0.0541"
          ]
        },
        {
          "metadata": {
            "tags": null
          },
          "name": "stderr",
          "output_type": "stream",
          "text": [
            "WARNING:tensorflow:Can save best model only with val_loss available, skipping.\n"
          ]
        },
        {
          "metadata": {
            "tags": null
          },
          "name": "stdout",
          "output_type": "stream",
          "text": [
            "7/7 [==============================] - 3s 403ms/step - loss: -472144969728.0000 - accuracy: 0.0541\n",
            "Epoch 19/269\n",
            "7/7 [==============================] - ETA: 0s - loss: -502218063872.0000 - accuracy: 0.0200"
          ]
        },
        {
          "metadata": {
            "tags": null
          },
          "name": "stderr",
          "output_type": "stream",
          "text": [
            "WARNING:tensorflow:Can save best model only with val_loss available, skipping.\n"
          ]
        },
        {
          "metadata": {
            "tags": null
          },
          "name": "stdout",
          "output_type": "stream",
          "text": [
            "7/7 [==============================] - 3s 446ms/step - loss: -502218063872.0000 - accuracy: 0.0200\n",
            "Epoch 20/269\n",
            "7/7 [==============================] - ETA: 0s - loss: -505327714304.0000 - accuracy: 0.0360"
          ]
        },
        {
          "metadata": {
            "tags": null
          },
          "name": "stderr",
          "output_type": "stream",
          "text": [
            "WARNING:tensorflow:Can save best model only with val_loss available, skipping.\n"
          ]
        },
        {
          "metadata": {
            "tags": null
          },
          "name": "stdout",
          "output_type": "stream",
          "text": [
            "7/7 [==============================] - 4s 585ms/step - loss: -505327714304.0000 - accuracy: 0.0360\n",
            "Epoch 21/269\n",
            "7/7 [==============================] - ETA: 0s - loss: -484332306432.0000 - accuracy: 0.0486"
          ]
        },
        {
          "metadata": {
            "tags": null
          },
          "name": "stderr",
          "output_type": "stream",
          "text": [
            "WARNING:tensorflow:Can save best model only with val_loss available, skipping.\n"
          ]
        },
        {
          "metadata": {
            "tags": null
          },
          "name": "stdout",
          "output_type": "stream",
          "text": [
            "7/7 [==============================] - 3s 442ms/step - loss: -484332306432.0000 - accuracy: 0.0486\n",
            "Epoch 22/269\n",
            "7/7 [==============================] - ETA: 0s - loss: -484060758016.0000 - accuracy: 0.0343"
          ]
        },
        {
          "metadata": {
            "tags": null
          },
          "name": "stderr",
          "output_type": "stream",
          "text": [
            "WARNING:tensorflow:Can save best model only with val_loss available, skipping.\n"
          ]
        },
        {
          "metadata": {
            "tags": null
          },
          "name": "stdout",
          "output_type": "stream",
          "text": [
            "7/7 [==============================] - 3s 429ms/step - loss: -484060758016.0000 - accuracy: 0.0343\n",
            "Epoch 23/269\n",
            "7/7 [==============================] - ETA: 0s - loss: -516465131520.0000 - accuracy: 0.0543"
          ]
        },
        {
          "metadata": {
            "tags": null
          },
          "name": "stderr",
          "output_type": "stream",
          "text": [
            "WARNING:tensorflow:Can save best model only with val_loss available, skipping.\n"
          ]
        },
        {
          "metadata": {
            "tags": null
          },
          "name": "stdout",
          "output_type": "stream",
          "text": [
            "7/7 [==============================] - 5s 719ms/step - loss: -516465131520.0000 - accuracy: 0.0543\n",
            "Epoch 24/269\n",
            "7/7 [==============================] - ETA: 0s - loss: -478398054400.0000 - accuracy: 0.0400"
          ]
        },
        {
          "metadata": {
            "tags": null
          },
          "name": "stderr",
          "output_type": "stream",
          "text": [
            "WARNING:tensorflow:Can save best model only with val_loss available, skipping.\n"
          ]
        },
        {
          "metadata": {
            "tags": null
          },
          "name": "stdout",
          "output_type": "stream",
          "text": [
            "7/7 [==============================] - 3s 427ms/step - loss: -478398054400.0000 - accuracy: 0.0400\n",
            "Epoch 25/269\n",
            "7/7 [==============================] - ETA: 0s - loss: -540853338112.0000 - accuracy: 0.0429"
          ]
        },
        {
          "metadata": {
            "tags": null
          },
          "name": "stderr",
          "output_type": "stream",
          "text": [
            "WARNING:tensorflow:Can save best model only with val_loss available, skipping.\n"
          ]
        },
        {
          "metadata": {
            "tags": null
          },
          "name": "stdout",
          "output_type": "stream",
          "text": [
            "7/7 [==============================] - 3s 433ms/step - loss: -540853338112.0000 - accuracy: 0.0429\n",
            "Epoch 26/269\n",
            "7/7 [==============================] - ETA: 0s - loss: -518808076288.0000 - accuracy: 0.0514"
          ]
        },
        {
          "metadata": {
            "tags": null
          },
          "name": "stderr",
          "output_type": "stream",
          "text": [
            "WARNING:tensorflow:Can save best model only with val_loss available, skipping.\n"
          ]
        },
        {
          "metadata": {
            "tags": null
          },
          "name": "stdout",
          "output_type": "stream",
          "text": [
            "7/7 [==============================] - 4s 641ms/step - loss: -518808076288.0000 - accuracy: 0.0514\n",
            "Epoch 27/269\n",
            "7/7 [==============================] - ETA: 0s - loss: -496250552320.0000 - accuracy: 0.0343"
          ]
        },
        {
          "metadata": {
            "tags": null
          },
          "name": "stderr",
          "output_type": "stream",
          "text": [
            "WARNING:tensorflow:Can save best model only with val_loss available, skipping.\n"
          ]
        },
        {
          "metadata": {
            "tags": null
          },
          "name": "stdout",
          "output_type": "stream",
          "text": [
            "7/7 [==============================] - 3s 433ms/step - loss: -496250552320.0000 - accuracy: 0.0343\n",
            "Epoch 28/269\n",
            "7/7 [==============================] - ETA: 0s - loss: -548891918336.0000 - accuracy: 0.0511"
          ]
        },
        {
          "metadata": {
            "tags": null
          },
          "name": "stderr",
          "output_type": "stream",
          "text": [
            "WARNING:tensorflow:Can save best model only with val_loss available, skipping.\n"
          ]
        },
        {
          "metadata": {
            "tags": null
          },
          "name": "stdout",
          "output_type": "stream",
          "text": [
            "7/7 [==============================] - 3s 409ms/step - loss: -548891918336.0000 - accuracy: 0.0511\n",
            "Epoch 29/269\n",
            "7/7 [==============================] - ETA: 0s - loss: -562187730944.0000 - accuracy: 0.0286"
          ]
        },
        {
          "metadata": {
            "tags": null
          },
          "name": "stderr",
          "output_type": "stream",
          "text": [
            "WARNING:tensorflow:Can save best model only with val_loss available, skipping.\n"
          ]
        },
        {
          "metadata": {
            "tags": null
          },
          "name": "stdout",
          "output_type": "stream",
          "text": [
            "7/7 [==============================] - 4s 538ms/step - loss: -562187730944.0000 - accuracy: 0.0286\n",
            "Epoch 30/269\n",
            "7/7 [==============================] - ETA: 0s - loss: -550061342720.0000 - accuracy: 0.0457"
          ]
        },
        {
          "metadata": {
            "tags": null
          },
          "name": "stderr",
          "output_type": "stream",
          "text": [
            "WARNING:tensorflow:Can save best model only with val_loss available, skipping.\n"
          ]
        },
        {
          "metadata": {
            "tags": null
          },
          "name": "stdout",
          "output_type": "stream",
          "text": [
            "7/7 [==============================] - 4s 453ms/step - loss: -550061342720.0000 - accuracy: 0.0457\n",
            "Epoch 31/269\n",
            "7/7 [==============================] - ETA: 0s - loss: -557187727360.0000 - accuracy: 0.0657"
          ]
        },
        {
          "metadata": {
            "tags": null
          },
          "name": "stderr",
          "output_type": "stream",
          "text": [
            "WARNING:tensorflow:Can save best model only with val_loss available, skipping.\n"
          ]
        },
        {
          "metadata": {
            "tags": null
          },
          "name": "stdout",
          "output_type": "stream",
          "text": [
            "7/7 [==============================] - 3s 444ms/step - loss: -557187727360.0000 - accuracy: 0.0657\n",
            "Epoch 32/269\n",
            "7/7 [==============================] - ETA: 0s - loss: -589035929600.0000 - accuracy: 0.0314"
          ]
        },
        {
          "metadata": {
            "tags": null
          },
          "name": "stderr",
          "output_type": "stream",
          "text": [
            "WARNING:tensorflow:Can save best model only with val_loss available, skipping.\n"
          ]
        },
        {
          "metadata": {
            "tags": null
          },
          "name": "stdout",
          "output_type": "stream",
          "text": [
            "7/7 [==============================] - 5s 716ms/step - loss: -589035929600.0000 - accuracy: 0.0314\n",
            "Epoch 33/269\n",
            "7/7 [==============================] - ETA: 0s - loss: -604807036928.0000 - accuracy: 0.0390"
          ]
        },
        {
          "metadata": {
            "tags": null
          },
          "name": "stderr",
          "output_type": "stream",
          "text": [
            "WARNING:tensorflow:Can save best model only with val_loss available, skipping.\n"
          ]
        },
        {
          "metadata": {
            "tags": null
          },
          "name": "stdout",
          "output_type": "stream",
          "text": [
            "7/7 [==============================] - 3s 411ms/step - loss: -604807036928.0000 - accuracy: 0.0390\n",
            "Epoch 34/269\n",
            "7/7 [==============================] - ETA: 0s - loss: -543441649664.0000 - accuracy: 0.0571"
          ]
        },
        {
          "metadata": {
            "tags": null
          },
          "name": "stderr",
          "output_type": "stream",
          "text": [
            "WARNING:tensorflow:Can save best model only with val_loss available, skipping.\n"
          ]
        },
        {
          "metadata": {
            "tags": null
          },
          "name": "stdout",
          "output_type": "stream",
          "text": [
            "7/7 [==============================] - 3s 406ms/step - loss: -543441649664.0000 - accuracy: 0.0571\n",
            "Epoch 35/269\n",
            "7/7 [==============================] - ETA: 0s - loss: -573291102208.0000 - accuracy: 0.0371"
          ]
        },
        {
          "metadata": {
            "tags": null
          },
          "name": "stderr",
          "output_type": "stream",
          "text": [
            "WARNING:tensorflow:Can save best model only with val_loss available, skipping.\n"
          ]
        },
        {
          "metadata": {
            "tags": null
          },
          "name": "stdout",
          "output_type": "stream",
          "text": [
            "7/7 [==============================] - 3s 426ms/step - loss: -573291102208.0000 - accuracy: 0.0371\n",
            "Epoch 36/269\n",
            "7/7 [==============================] - ETA: 0s - loss: -588659032064.0000 - accuracy: 0.0541"
          ]
        },
        {
          "metadata": {
            "tags": null
          },
          "name": "stderr",
          "output_type": "stream",
          "text": [
            "WARNING:tensorflow:Can save best model only with val_loss available, skipping.\n"
          ]
        },
        {
          "metadata": {
            "tags": null
          },
          "name": "stdout",
          "output_type": "stream",
          "text": [
            "7/7 [==============================] - 5s 687ms/step - loss: -588659032064.0000 - accuracy: 0.0541\n",
            "Epoch 37/269\n",
            "7/7 [==============================] - ETA: 0s - loss: -606669438976.0000 - accuracy: 0.0400"
          ]
        },
        {
          "metadata": {
            "tags": null
          },
          "name": "stderr",
          "output_type": "stream",
          "text": [
            "WARNING:tensorflow:Can save best model only with val_loss available, skipping.\n"
          ]
        },
        {
          "metadata": {
            "tags": null
          },
          "name": "stdout",
          "output_type": "stream",
          "text": [
            "7/7 [==============================] - 3s 436ms/step - loss: -606669438976.0000 - accuracy: 0.0400\n",
            "Epoch 38/269\n",
            "7/7 [==============================] - ETA: 0s - loss: -618601054208.0000 - accuracy: 0.0314"
          ]
        },
        {
          "metadata": {
            "tags": null
          },
          "name": "stderr",
          "output_type": "stream",
          "text": [
            "WARNING:tensorflow:Can save best model only with val_loss available, skipping.\n"
          ]
        },
        {
          "metadata": {
            "tags": null
          },
          "name": "stdout",
          "output_type": "stream",
          "text": [
            "7/7 [==============================] - 3s 444ms/step - loss: -618601054208.0000 - accuracy: 0.0314\n",
            "Epoch 39/269\n",
            "7/7 [==============================] - ETA: 0s - loss: -567717986304.0000 - accuracy: 0.0300"
          ]
        },
        {
          "metadata": {
            "tags": null
          },
          "name": "stderr",
          "output_type": "stream",
          "text": [
            "WARNING:tensorflow:Can save best model only with val_loss available, skipping.\n"
          ]
        },
        {
          "metadata": {
            "tags": null
          },
          "name": "stdout",
          "output_type": "stream",
          "text": [
            "7/7 [==============================] - 5s 671ms/step - loss: -567717986304.0000 - accuracy: 0.0300\n",
            "Epoch 40/269\n",
            "7/7 [==============================] - ETA: 0s - loss: -584261763072.0000 - accuracy: 0.0571"
          ]
        },
        {
          "metadata": {
            "tags": null
          },
          "name": "stderr",
          "output_type": "stream",
          "text": [
            "WARNING:tensorflow:Can save best model only with val_loss available, skipping.\n"
          ]
        },
        {
          "metadata": {
            "tags": null
          },
          "name": "stdout",
          "output_type": "stream",
          "text": [
            "7/7 [==============================] - 3s 418ms/step - loss: -584261763072.0000 - accuracy: 0.0571\n",
            "Epoch 41/269\n",
            "7/7 [==============================] - ETA: 0s - loss: -603871576064.0000 - accuracy: 0.0330"
          ]
        },
        {
          "metadata": {
            "tags": null
          },
          "name": "stderr",
          "output_type": "stream",
          "text": [
            "WARNING:tensorflow:Can save best model only with val_loss available, skipping.\n"
          ]
        },
        {
          "metadata": {
            "tags": null
          },
          "name": "stdout",
          "output_type": "stream",
          "text": [
            "7/7 [==============================] - 3s 420ms/step - loss: -603871576064.0000 - accuracy: 0.0330\n",
            "Epoch 42/269\n",
            "7/7 [==============================] - ETA: 0s - loss: -584910962688.0000 - accuracy: 0.0457"
          ]
        },
        {
          "metadata": {
            "tags": null
          },
          "name": "stderr",
          "output_type": "stream",
          "text": [
            "WARNING:tensorflow:Can save best model only with val_loss available, skipping.\n"
          ]
        },
        {
          "metadata": {
            "tags": null
          },
          "name": "stdout",
          "output_type": "stream",
          "text": [
            "7/7 [==============================] - 4s 497ms/step - loss: -584910962688.0000 - accuracy: 0.0457\n",
            "Epoch 43/269\n",
            "7/7 [==============================] - ETA: 0s - loss: -697834995712.0000 - accuracy: 0.0314"
          ]
        },
        {
          "metadata": {
            "tags": null
          },
          "name": "stderr",
          "output_type": "stream",
          "text": [
            "WARNING:tensorflow:Can save best model only with val_loss available, skipping.\n"
          ]
        },
        {
          "metadata": {
            "tags": null
          },
          "name": "stdout",
          "output_type": "stream",
          "text": [
            "7/7 [==============================] - 4s 441ms/step - loss: -697834995712.0000 - accuracy: 0.0314\n",
            "Epoch 44/269\n",
            "7/7 [==============================] - ETA: 0s - loss: -673827520512.0000 - accuracy: 0.0400"
          ]
        },
        {
          "metadata": {
            "tags": null
          },
          "name": "stderr",
          "output_type": "stream",
          "text": [
            "WARNING:tensorflow:Can save best model only with val_loss available, skipping.\n"
          ]
        },
        {
          "metadata": {
            "tags": null
          },
          "name": "stdout",
          "output_type": "stream",
          "text": [
            "7/7 [==============================] - 3s 427ms/step - loss: -673827520512.0000 - accuracy: 0.0400\n",
            "Epoch 45/269\n",
            "7/7 [==============================] - ETA: 0s - loss: -667423866880.0000 - accuracy: 0.0371"
          ]
        },
        {
          "metadata": {
            "tags": null
          },
          "name": "stderr",
          "output_type": "stream",
          "text": [
            "WARNING:tensorflow:Can save best model only with val_loss available, skipping.\n"
          ]
        },
        {
          "metadata": {
            "tags": null
          },
          "name": "stdout",
          "output_type": "stream",
          "text": [
            "7/7 [==============================] - 3s 431ms/step - loss: -667423866880.0000 - accuracy: 0.0371\n",
            "Epoch 46/269\n",
            "7/7 [==============================] - ETA: 0s - loss: -684963790848.0000 - accuracy: 0.0371"
          ]
        },
        {
          "metadata": {
            "tags": null
          },
          "name": "stderr",
          "output_type": "stream",
          "text": [
            "WARNING:tensorflow:Can save best model only with val_loss available, skipping.\n"
          ]
        },
        {
          "metadata": {
            "tags": null
          },
          "name": "stdout",
          "output_type": "stream",
          "text": [
            "7/7 [==============================] - 5s 704ms/step - loss: -684963790848.0000 - accuracy: 0.0371\n",
            "Epoch 47/269\n",
            "7/7 [==============================] - ETA: 0s - loss: -700476555264.0000 - accuracy: 0.0480"
          ]
        },
        {
          "metadata": {
            "tags": null
          },
          "name": "stderr",
          "output_type": "stream",
          "text": [
            "WARNING:tensorflow:Can save best model only with val_loss available, skipping.\n"
          ]
        },
        {
          "metadata": {
            "tags": null
          },
          "name": "stdout",
          "output_type": "stream",
          "text": [
            "7/7 [==============================] - 3s 426ms/step - loss: -700476555264.0000 - accuracy: 0.0480\n",
            "Epoch 48/269\n",
            "7/7 [==============================] - ETA: 0s - loss: -665357058048.0000 - accuracy: 0.0571"
          ]
        },
        {
          "metadata": {
            "tags": null
          },
          "name": "stderr",
          "output_type": "stream",
          "text": [
            "WARNING:tensorflow:Can save best model only with val_loss available, skipping.\n"
          ]
        },
        {
          "metadata": {
            "tags": null
          },
          "name": "stdout",
          "output_type": "stream",
          "text": [
            "7/7 [==============================] - 3s 412ms/step - loss: -665357058048.0000 - accuracy: 0.0571\n",
            "Epoch 49/269\n",
            "7/7 [==============================] - ETA: 0s - loss: -668084273152.0000 - accuracy: 0.0343"
          ]
        },
        {
          "metadata": {
            "tags": null
          },
          "name": "stderr",
          "output_type": "stream",
          "text": [
            "WARNING:tensorflow:Can save best model only with val_loss available, skipping.\n"
          ]
        },
        {
          "metadata": {
            "tags": null
          },
          "name": "stdout",
          "output_type": "stream",
          "text": [
            "7/7 [==============================] - 5s 714ms/step - loss: -668084273152.0000 - accuracy: 0.0343\n",
            "Epoch 50/269\n",
            "7/7 [==============================] - ETA: 0s - loss: -706656862208.0000 - accuracy: 0.0343"
          ]
        },
        {
          "metadata": {
            "tags": null
          },
          "name": "stderr",
          "output_type": "stream",
          "text": [
            "WARNING:tensorflow:Can save best model only with val_loss available, skipping.\n"
          ]
        },
        {
          "metadata": {
            "tags": null
          },
          "name": "stdout",
          "output_type": "stream",
          "text": [
            "7/7 [==============================] - 3s 444ms/step - loss: -706656862208.0000 - accuracy: 0.0343\n",
            "Epoch 51/269\n",
            "7/7 [==============================] - ETA: 0s - loss: -731204354048.0000 - accuracy: 0.0480"
          ]
        },
        {
          "metadata": {
            "tags": null
          },
          "name": "stderr",
          "output_type": "stream",
          "text": [
            "WARNING:tensorflow:Can save best model only with val_loss available, skipping.\n"
          ]
        },
        {
          "metadata": {
            "tags": null
          },
          "name": "stdout",
          "output_type": "stream",
          "text": [
            "7/7 [==============================] - 3s 416ms/step - loss: -731204354048.0000 - accuracy: 0.0480\n",
            "Epoch 52/269\n",
            "7/7 [==============================] - ETA: 0s - loss: -691423281152.0000 - accuracy: 0.0457"
          ]
        },
        {
          "metadata": {
            "tags": null
          },
          "name": "stderr",
          "output_type": "stream",
          "text": [
            "WARNING:tensorflow:Can save best model only with val_loss available, skipping.\n"
          ]
        },
        {
          "metadata": {
            "tags": null
          },
          "name": "stdout",
          "output_type": "stream",
          "text": [
            "7/7 [==============================] - 5s 636ms/step - loss: -691423281152.0000 - accuracy: 0.0457\n",
            "Epoch 53/269\n",
            "7/7 [==============================] - ETA: 0s - loss: -720904060928.0000 - accuracy: 0.0360"
          ]
        },
        {
          "metadata": {
            "tags": null
          },
          "name": "stderr",
          "output_type": "stream",
          "text": [
            "WARNING:tensorflow:Can save best model only with val_loss available, skipping.\n"
          ]
        },
        {
          "metadata": {
            "tags": null
          },
          "name": "stdout",
          "output_type": "stream",
          "text": [
            "7/7 [==============================] - 3s 400ms/step - loss: -720904060928.0000 - accuracy: 0.0360\n",
            "Epoch 54/269\n",
            "7/7 [==============================] - ETA: 0s - loss: -720979886080.0000 - accuracy: 0.0543"
          ]
        },
        {
          "metadata": {
            "tags": null
          },
          "name": "stderr",
          "output_type": "stream",
          "text": [
            "WARNING:tensorflow:Can save best model only with val_loss available, skipping.\n"
          ]
        },
        {
          "metadata": {
            "tags": null
          },
          "name": "stdout",
          "output_type": "stream",
          "text": [
            "7/7 [==============================] - 3s 440ms/step - loss: -720979886080.0000 - accuracy: 0.0543\n",
            "Epoch 55/269\n",
            "7/7 [==============================] - ETA: 0s - loss: -721765203968.0000 - accuracy: 0.0371"
          ]
        },
        {
          "metadata": {
            "tags": null
          },
          "name": "stderr",
          "output_type": "stream",
          "text": [
            "WARNING:tensorflow:Can save best model only with val_loss available, skipping.\n"
          ]
        },
        {
          "metadata": {
            "tags": null
          },
          "name": "stdout",
          "output_type": "stream",
          "text": [
            "7/7 [==============================] - 5s 717ms/step - loss: -721765203968.0000 - accuracy: 0.0371\n",
            "Epoch 56/269\n",
            "7/7 [==============================] - ETA: 0s - loss: -767138594816.0000 - accuracy: 0.0771"
          ]
        },
        {
          "metadata": {
            "tags": null
          },
          "name": "stderr",
          "output_type": "stream",
          "text": [
            "WARNING:tensorflow:Can save best model only with val_loss available, skipping.\n"
          ]
        },
        {
          "metadata": {
            "tags": null
          },
          "name": "stdout",
          "output_type": "stream",
          "text": [
            "7/7 [==============================] - 5s 682ms/step - loss: -767138594816.0000 - accuracy: 0.0771\n",
            "Epoch 57/269\n",
            "7/7 [==============================] - ETA: 0s - loss: -738121482240.0000 - accuracy: 0.0429"
          ]
        },
        {
          "metadata": {
            "tags": null
          },
          "name": "stderr",
          "output_type": "stream",
          "text": [
            "WARNING:tensorflow:Can save best model only with val_loss available, skipping.\n"
          ]
        },
        {
          "metadata": {
            "tags": null
          },
          "name": "stdout",
          "output_type": "stream",
          "text": [
            "7/7 [==============================] - 5s 709ms/step - loss: -738121482240.0000 - accuracy: 0.0429\n",
            "Epoch 58/269\n",
            "7/7 [==============================] - ETA: 0s - loss: -785111580672.0000 - accuracy: 0.0514"
          ]
        },
        {
          "metadata": {
            "tags": null
          },
          "name": "stderr",
          "output_type": "stream",
          "text": [
            "WARNING:tensorflow:Can save best model only with val_loss available, skipping.\n"
          ]
        },
        {
          "metadata": {
            "tags": null
          },
          "name": "stdout",
          "output_type": "stream",
          "text": [
            "7/7 [==============================] - 3s 437ms/step - loss: -785111580672.0000 - accuracy: 0.0514\n",
            "Epoch 59/269\n",
            "7/7 [==============================] - ETA: 0s - loss: -743491436544.0000 - accuracy: 0.0286"
          ]
        },
        {
          "metadata": {
            "tags": null
          },
          "name": "stderr",
          "output_type": "stream",
          "text": [
            "WARNING:tensorflow:Can save best model only with val_loss available, skipping.\n"
          ]
        },
        {
          "metadata": {
            "tags": null
          },
          "name": "stdout",
          "output_type": "stream",
          "text": [
            "7/7 [==============================] - 3s 432ms/step - loss: -743491436544.0000 - accuracy: 0.0286\n",
            "Epoch 60/269\n",
            "7/7 [==============================] - ETA: 0s - loss: -807947468800.0000 - accuracy: 0.0514"
          ]
        },
        {
          "metadata": {
            "tags": null
          },
          "name": "stderr",
          "output_type": "stream",
          "text": [
            "WARNING:tensorflow:Can save best model only with val_loss available, skipping.\n"
          ]
        },
        {
          "metadata": {
            "tags": null
          },
          "name": "stdout",
          "output_type": "stream",
          "text": [
            "7/7 [==============================] - 4s 614ms/step - loss: -807947468800.0000 - accuracy: 0.0514\n",
            "Epoch 61/269\n",
            "7/7 [==============================] - ETA: 0s - loss: -808579956736.0000 - accuracy: 0.0514"
          ]
        },
        {
          "metadata": {
            "tags": null
          },
          "name": "stderr",
          "output_type": "stream",
          "text": [
            "WARNING:tensorflow:Can save best model only with val_loss available, skipping.\n"
          ]
        },
        {
          "metadata": {
            "tags": null
          },
          "name": "stdout",
          "output_type": "stream",
          "text": [
            "7/7 [==============================] - 4s 474ms/step - loss: -808579956736.0000 - accuracy: 0.0514\n",
            "Epoch 62/269\n",
            "7/7 [==============================] - ETA: 0s - loss: -804868849664.0000 - accuracy: 0.0371"
          ]
        },
        {
          "metadata": {
            "tags": null
          },
          "name": "stderr",
          "output_type": "stream",
          "text": [
            "WARNING:tensorflow:Can save best model only with val_loss available, skipping.\n"
          ]
        },
        {
          "metadata": {
            "tags": null
          },
          "name": "stdout",
          "output_type": "stream",
          "text": [
            "7/7 [==============================] - 3s 432ms/step - loss: -804868849664.0000 - accuracy: 0.0371\n",
            "Epoch 63/269\n",
            "7/7 [==============================] - ETA: 0s - loss: -843855888384.0000 - accuracy: 0.0400"
          ]
        },
        {
          "metadata": {
            "tags": null
          },
          "name": "stderr",
          "output_type": "stream",
          "text": [
            "WARNING:tensorflow:Can save best model only with val_loss available, skipping.\n"
          ]
        },
        {
          "metadata": {
            "tags": null
          },
          "name": "stdout",
          "output_type": "stream",
          "text": [
            "7/7 [==============================] - 3s 432ms/step - loss: -843855888384.0000 - accuracy: 0.0400\n",
            "Epoch 64/269\n",
            "7/7 [==============================] - ETA: 0s - loss: -780208439296.0000 - accuracy: 0.0631"
          ]
        },
        {
          "metadata": {
            "tags": null
          },
          "name": "stderr",
          "output_type": "stream",
          "text": [
            "WARNING:tensorflow:Can save best model only with val_loss available, skipping.\n"
          ]
        },
        {
          "metadata": {
            "tags": null
          },
          "name": "stdout",
          "output_type": "stream",
          "text": [
            "7/7 [==============================] - 3s 475ms/step - loss: -780208439296.0000 - accuracy: 0.0631\n",
            "Epoch 65/269\n",
            "7/7 [==============================] - ETA: 0s - loss: -795916894208.0000 - accuracy: 0.0400"
          ]
        },
        {
          "metadata": {
            "tags": null
          },
          "name": "stderr",
          "output_type": "stream",
          "text": [
            "WARNING:tensorflow:Can save best model only with val_loss available, skipping.\n"
          ]
        },
        {
          "metadata": {
            "tags": null
          },
          "name": "stdout",
          "output_type": "stream",
          "text": [
            "7/7 [==============================] - 3s 439ms/step - loss: -795916894208.0000 - accuracy: 0.0400\n",
            "Epoch 66/269\n",
            "7/7 [==============================] - ETA: 0s - loss: -809915908096.0000 - accuracy: 0.0429"
          ]
        },
        {
          "metadata": {
            "tags": null
          },
          "name": "stderr",
          "output_type": "stream",
          "text": [
            "WARNING:tensorflow:Can save best model only with val_loss available, skipping.\n"
          ]
        },
        {
          "metadata": {
            "tags": null
          },
          "name": "stdout",
          "output_type": "stream",
          "text": [
            "7/7 [==============================] - 3s 463ms/step - loss: -809915908096.0000 - accuracy: 0.0429\n",
            "Epoch 67/269\n",
            "7/7 [==============================] - ETA: 0s - loss: -885649702912.0000 - accuracy: 0.0343"
          ]
        },
        {
          "metadata": {
            "tags": null
          },
          "name": "stderr",
          "output_type": "stream",
          "text": [
            "WARNING:tensorflow:Can save best model only with val_loss available, skipping.\n"
          ]
        },
        {
          "metadata": {
            "tags": null
          },
          "name": "stdout",
          "output_type": "stream",
          "text": [
            "7/7 [==============================] - 4s 451ms/step - loss: -885649702912.0000 - accuracy: 0.0343\n",
            "Epoch 68/269\n",
            "7/7 [==============================] - ETA: 0s - loss: -837574983680.0000 - accuracy: 0.0429"
          ]
        },
        {
          "metadata": {
            "tags": null
          },
          "name": "stderr",
          "output_type": "stream",
          "text": [
            "WARNING:tensorflow:Can save best model only with val_loss available, skipping.\n"
          ]
        },
        {
          "metadata": {
            "tags": null
          },
          "name": "stdout",
          "output_type": "stream",
          "text": [
            "7/7 [==============================] - 3s 431ms/step - loss: -837574983680.0000 - accuracy: 0.0429\n",
            "Epoch 69/269\n",
            "7/7 [==============================] - ETA: 0s - loss: -814880784384.0000 - accuracy: 0.0486"
          ]
        },
        {
          "metadata": {
            "tags": null
          },
          "name": "stderr",
          "output_type": "stream",
          "text": [
            "WARNING:tensorflow:Can save best model only with val_loss available, skipping.\n"
          ]
        },
        {
          "metadata": {
            "tags": null
          },
          "name": "stdout",
          "output_type": "stream",
          "text": [
            "7/7 [==============================] - 5s 678ms/step - loss: -814880784384.0000 - accuracy: 0.0486\n",
            "Epoch 70/269\n",
            "7/7 [==============================] - ETA: 0s - loss: -832311263232.0000 - accuracy: 0.0486"
          ]
        },
        {
          "metadata": {
            "tags": null
          },
          "name": "stderr",
          "output_type": "stream",
          "text": [
            "WARNING:tensorflow:Can save best model only with val_loss available, skipping.\n"
          ]
        },
        {
          "metadata": {
            "tags": null
          },
          "name": "stdout",
          "output_type": "stream",
          "text": [
            "7/7 [==============================] - 3s 426ms/step - loss: -832311263232.0000 - accuracy: 0.0486\n",
            "Epoch 71/269\n",
            "7/7 [==============================] - ETA: 0s - loss: -884198998016.0000 - accuracy: 0.0400"
          ]
        },
        {
          "metadata": {
            "tags": null
          },
          "name": "stderr",
          "output_type": "stream",
          "text": [
            "WARNING:tensorflow:Can save best model only with val_loss available, skipping.\n"
          ]
        },
        {
          "metadata": {
            "tags": null
          },
          "name": "stdout",
          "output_type": "stream",
          "text": [
            "7/7 [==============================] - 3s 435ms/step - loss: -884198998016.0000 - accuracy: 0.0400\n",
            "Epoch 72/269\n",
            "7/7 [==============================] - ETA: 0s - loss: -903584022528.0000 - accuracy: 0.0486"
          ]
        },
        {
          "metadata": {
            "tags": null
          },
          "name": "stderr",
          "output_type": "stream",
          "text": [
            "WARNING:tensorflow:Can save best model only with val_loss available, skipping.\n"
          ]
        },
        {
          "metadata": {
            "tags": null
          },
          "name": "stdout",
          "output_type": "stream",
          "text": [
            "7/7 [==============================] - 3s 437ms/step - loss: -903584022528.0000 - accuracy: 0.0486\n",
            "Epoch 73/269\n",
            "7/7 [==============================] - ETA: 0s - loss: -902890848256.0000 - accuracy: 0.0661"
          ]
        },
        {
          "metadata": {
            "tags": null
          },
          "name": "stderr",
          "output_type": "stream",
          "text": [
            "WARNING:tensorflow:Can save best model only with val_loss available, skipping.\n"
          ]
        },
        {
          "metadata": {
            "tags": null
          },
          "name": "stdout",
          "output_type": "stream",
          "text": [
            "7/7 [==============================] - 5s 657ms/step - loss: -902890848256.0000 - accuracy: 0.0661\n",
            "Epoch 74/269\n",
            "7/7 [==============================] - ETA: 0s - loss: -932894408704.0000 - accuracy: 0.0343"
          ]
        },
        {
          "metadata": {
            "tags": null
          },
          "name": "stderr",
          "output_type": "stream",
          "text": [
            "WARNING:tensorflow:Can save best model only with val_loss available, skipping.\n"
          ]
        },
        {
          "metadata": {
            "tags": null
          },
          "name": "stdout",
          "output_type": "stream",
          "text": [
            "7/7 [==============================] - 3s 438ms/step - loss: -932894408704.0000 - accuracy: 0.0343\n",
            "Epoch 75/269\n",
            "7/7 [==============================] - ETA: 0s - loss: -943320465408.0000 - accuracy: 0.0343"
          ]
        },
        {
          "metadata": {
            "tags": null
          },
          "name": "stderr",
          "output_type": "stream",
          "text": [
            "WARNING:tensorflow:Can save best model only with val_loss available, skipping.\n"
          ]
        },
        {
          "metadata": {
            "tags": null
          },
          "name": "stdout",
          "output_type": "stream",
          "text": [
            "7/7 [==============================] - 3s 432ms/step - loss: -943320465408.0000 - accuracy: 0.0343\n",
            "Epoch 76/269\n",
            "7/7 [==============================] - ETA: 0s - loss: -903754022912.0000 - accuracy: 0.0429"
          ]
        },
        {
          "metadata": {
            "tags": null
          },
          "name": "stderr",
          "output_type": "stream",
          "text": [
            "WARNING:tensorflow:Can save best model only with val_loss available, skipping.\n"
          ]
        },
        {
          "metadata": {
            "tags": null
          },
          "name": "stdout",
          "output_type": "stream",
          "text": [
            "7/7 [==============================] - 4s 593ms/step - loss: -903754022912.0000 - accuracy: 0.0429\n",
            "Epoch 77/269\n",
            "7/7 [==============================] - ETA: 0s - loss: -884380729344.0000 - accuracy: 0.0457"
          ]
        },
        {
          "metadata": {
            "tags": null
          },
          "name": "stderr",
          "output_type": "stream",
          "text": [
            "WARNING:tensorflow:Can save best model only with val_loss available, skipping.\n"
          ]
        },
        {
          "metadata": {
            "tags": null
          },
          "name": "stdout",
          "output_type": "stream",
          "text": [
            "7/7 [==============================] - 4s 505ms/step - loss: -884380729344.0000 - accuracy: 0.0457\n",
            "Epoch 78/269\n",
            "7/7 [==============================] - ETA: 0s - loss: -924807921664.0000 - accuracy: 0.0429"
          ]
        },
        {
          "metadata": {
            "tags": null
          },
          "name": "stderr",
          "output_type": "stream",
          "text": [
            "WARNING:tensorflow:Can save best model only with val_loss available, skipping.\n"
          ]
        },
        {
          "metadata": {
            "tags": null
          },
          "name": "stdout",
          "output_type": "stream",
          "text": [
            "7/7 [==============================] - 3s 421ms/step - loss: -924807921664.0000 - accuracy: 0.0429\n",
            "Epoch 79/269\n",
            "7/7 [==============================] - ETA: 0s - loss: -931651190784.0000 - accuracy: 0.0514"
          ]
        },
        {
          "metadata": {
            "tags": null
          },
          "name": "stderr",
          "output_type": "stream",
          "text": [
            "WARNING:tensorflow:Can save best model only with val_loss available, skipping.\n"
          ]
        },
        {
          "metadata": {
            "tags": null
          },
          "name": "stdout",
          "output_type": "stream",
          "text": [
            "7/7 [==============================] - 3s 440ms/step - loss: -931651190784.0000 - accuracy: 0.0514\n",
            "Epoch 80/269\n",
            "7/7 [==============================] - ETA: 0s - loss: -1004859817984.0000 - accuracy: 0.0371"
          ]
        },
        {
          "metadata": {
            "tags": null
          },
          "name": "stderr",
          "output_type": "stream",
          "text": [
            "WARNING:tensorflow:Can save best model only with val_loss available, skipping.\n"
          ]
        },
        {
          "metadata": {
            "tags": null
          },
          "name": "stdout",
          "output_type": "stream",
          "text": [
            "7/7 [==============================] - 4s 490ms/step - loss: -1004859817984.0000 - accuracy: 0.0371\n",
            "Epoch 81/269\n",
            "7/7 [==============================] - ETA: 0s - loss: -937321627648.0000 - accuracy: 0.0420"
          ]
        },
        {
          "metadata": {
            "tags": null
          },
          "name": "stderr",
          "output_type": "stream",
          "text": [
            "WARNING:tensorflow:Can save best model only with val_loss available, skipping.\n"
          ]
        },
        {
          "metadata": {
            "tags": null
          },
          "name": "stdout",
          "output_type": "stream",
          "text": [
            "7/7 [==============================] - 3s 409ms/step - loss: -937321627648.0000 - accuracy: 0.0420\n",
            "Epoch 82/269\n",
            "7/7 [==============================] - ETA: 0s - loss: -928757121024.0000 - accuracy: 0.0543"
          ]
        },
        {
          "metadata": {
            "tags": null
          },
          "name": "stderr",
          "output_type": "stream",
          "text": [
            "WARNING:tensorflow:Can save best model only with val_loss available, skipping.\n"
          ]
        },
        {
          "metadata": {
            "tags": null
          },
          "name": "stdout",
          "output_type": "stream",
          "text": [
            "7/7 [==============================] - 3s 449ms/step - loss: -928757121024.0000 - accuracy: 0.0543\n",
            "Epoch 83/269\n",
            "7/7 [==============================] - ETA: 0s - loss: -880695312384.0000 - accuracy: 0.0343"
          ]
        },
        {
          "metadata": {
            "tags": null
          },
          "name": "stderr",
          "output_type": "stream",
          "text": [
            "WARNING:tensorflow:Can save best model only with val_loss available, skipping.\n"
          ]
        },
        {
          "metadata": {
            "tags": null
          },
          "name": "stdout",
          "output_type": "stream",
          "text": [
            "7/7 [==============================] - 5s 724ms/step - loss: -880695312384.0000 - accuracy: 0.0343\n",
            "Epoch 84/269\n",
            "7/7 [==============================] - ETA: 0s - loss: -1011623723008.0000 - accuracy: 0.0270"
          ]
        },
        {
          "metadata": {
            "tags": null
          },
          "name": "stderr",
          "output_type": "stream",
          "text": [
            "WARNING:tensorflow:Can save best model only with val_loss available, skipping.\n"
          ]
        },
        {
          "metadata": {
            "tags": null
          },
          "name": "stdout",
          "output_type": "stream",
          "text": [
            "7/7 [==============================] - 3s 402ms/step - loss: -1011623723008.0000 - accuracy: 0.0270\n",
            "Epoch 85/269\n",
            "7/7 [==============================] - ETA: 0s - loss: -953268109312.0000 - accuracy: 0.0314"
          ]
        },
        {
          "metadata": {
            "tags": null
          },
          "name": "stderr",
          "output_type": "stream",
          "text": [
            "WARNING:tensorflow:Can save best model only with val_loss available, skipping.\n"
          ]
        },
        {
          "metadata": {
            "tags": null
          },
          "name": "stdout",
          "output_type": "stream",
          "text": [
            "7/7 [==============================] - 3s 436ms/step - loss: -953268109312.0000 - accuracy: 0.0314\n",
            "Epoch 86/269\n",
            "7/7 [==============================] - ETA: 0s - loss: -981009629184.0000 - accuracy: 0.0486"
          ]
        },
        {
          "metadata": {
            "tags": null
          },
          "name": "stderr",
          "output_type": "stream",
          "text": [
            "WARNING:tensorflow:Can save best model only with val_loss available, skipping.\n"
          ]
        },
        {
          "metadata": {
            "tags": null
          },
          "name": "stdout",
          "output_type": "stream",
          "text": [
            "7/7 [==============================] - 4s 610ms/step - loss: -981009629184.0000 - accuracy: 0.0486\n",
            "Epoch 87/269\n",
            "7/7 [==============================] - ETA: 0s - loss: -1066006937600.0000 - accuracy: 0.0343"
          ]
        },
        {
          "metadata": {
            "tags": null
          },
          "name": "stderr",
          "output_type": "stream",
          "text": [
            "WARNING:tensorflow:Can save best model only with val_loss available, skipping.\n"
          ]
        },
        {
          "metadata": {
            "tags": null
          },
          "name": "stdout",
          "output_type": "stream",
          "text": [
            "7/7 [==============================] - 3s 411ms/step - loss: -1066006937600.0000 - accuracy: 0.0343\n",
            "Epoch 88/269\n",
            "7/7 [==============================] - ETA: 0s - loss: -986718076928.0000 - accuracy: 0.0390"
          ]
        },
        {
          "metadata": {
            "tags": null
          },
          "name": "stderr",
          "output_type": "stream",
          "text": [
            "WARNING:tensorflow:Can save best model only with val_loss available, skipping.\n"
          ]
        },
        {
          "metadata": {
            "tags": null
          },
          "name": "stdout",
          "output_type": "stream",
          "text": [
            "7/7 [==============================] - 3s 402ms/step - loss: -986718076928.0000 - accuracy: 0.0390\n",
            "Epoch 89/269\n",
            "7/7 [==============================] - ETA: 0s - loss: -1051160739840.0000 - accuracy: 0.0486"
          ]
        },
        {
          "metadata": {
            "tags": null
          },
          "name": "stderr",
          "output_type": "stream",
          "text": [
            "WARNING:tensorflow:Can save best model only with val_loss available, skipping.\n"
          ]
        },
        {
          "metadata": {
            "tags": null
          },
          "name": "stdout",
          "output_type": "stream",
          "text": [
            "7/7 [==============================] - 3s 433ms/step - loss: -1051160739840.0000 - accuracy: 0.0486\n",
            "Epoch 90/269\n",
            "7/7 [==============================] - ETA: 0s - loss: -1051756986368.0000 - accuracy: 0.0429"
          ]
        },
        {
          "metadata": {
            "tags": null
          },
          "name": "stderr",
          "output_type": "stream",
          "text": [
            "WARNING:tensorflow:Can save best model only with val_loss available, skipping.\n"
          ]
        },
        {
          "metadata": {
            "tags": null
          },
          "name": "stdout",
          "output_type": "stream",
          "text": [
            "7/7 [==============================] - 5s 715ms/step - loss: -1051756986368.0000 - accuracy: 0.0429\n",
            "Epoch 91/269\n",
            "7/7 [==============================] - ETA: 0s - loss: -1053938221056.0000 - accuracy: 0.0400"
          ]
        },
        {
          "metadata": {
            "tags": null
          },
          "name": "stderr",
          "output_type": "stream",
          "text": [
            "WARNING:tensorflow:Can save best model only with val_loss available, skipping.\n"
          ]
        },
        {
          "metadata": {
            "tags": null
          },
          "name": "stdout",
          "output_type": "stream",
          "text": [
            "7/7 [==============================] - 3s 421ms/step - loss: -1053938221056.0000 - accuracy: 0.0400\n",
            "Epoch 92/269\n",
            "7/7 [==============================] - ETA: 0s - loss: -1044276445184.0000 - accuracy: 0.0486"
          ]
        },
        {
          "metadata": {
            "tags": null
          },
          "name": "stderr",
          "output_type": "stream",
          "text": [
            "WARNING:tensorflow:Can save best model only with val_loss available, skipping.\n"
          ]
        },
        {
          "metadata": {
            "tags": null
          },
          "name": "stdout",
          "output_type": "stream",
          "text": [
            "7/7 [==============================] - 3s 437ms/step - loss: -1044276445184.0000 - accuracy: 0.0486\n",
            "Epoch 93/269\n",
            "7/7 [==============================] - ETA: 0s - loss: -1054174806016.0000 - accuracy: 0.0371"
          ]
        },
        {
          "metadata": {
            "tags": null
          },
          "name": "stderr",
          "output_type": "stream",
          "text": [
            "WARNING:tensorflow:Can save best model only with val_loss available, skipping.\n"
          ]
        },
        {
          "metadata": {
            "tags": null
          },
          "name": "stdout",
          "output_type": "stream",
          "text": [
            "7/7 [==============================] - 3s 434ms/step - loss: -1054174806016.0000 - accuracy: 0.0371\n",
            "Epoch 94/269\n",
            "7/7 [==============================] - ETA: 0s - loss: -1100714082304.0000 - accuracy: 0.0543"
          ]
        },
        {
          "metadata": {
            "tags": null
          },
          "name": "stderr",
          "output_type": "stream",
          "text": [
            "WARNING:tensorflow:Can save best model only with val_loss available, skipping.\n"
          ]
        },
        {
          "metadata": {
            "tags": null
          },
          "name": "stdout",
          "output_type": "stream",
          "text": [
            "7/7 [==============================] - 4s 502ms/step - loss: -1100714082304.0000 - accuracy: 0.0543\n",
            "Epoch 95/269\n",
            "7/7 [==============================] - ETA: 0s - loss: -1047145545728.0000 - accuracy: 0.0629"
          ]
        },
        {
          "metadata": {
            "tags": null
          },
          "name": "stderr",
          "output_type": "stream",
          "text": [
            "WARNING:tensorflow:Can save best model only with val_loss available, skipping.\n"
          ]
        },
        {
          "metadata": {
            "tags": null
          },
          "name": "stdout",
          "output_type": "stream",
          "text": [
            "7/7 [==============================] - 3s 441ms/step - loss: -1047145545728.0000 - accuracy: 0.0629\n",
            "Epoch 96/269\n",
            "7/7 [==============================] - ETA: 0s - loss: -1142837346304.0000 - accuracy: 0.0390"
          ]
        },
        {
          "metadata": {
            "tags": null
          },
          "name": "stderr",
          "output_type": "stream",
          "text": [
            "WARNING:tensorflow:Can save best model only with val_loss available, skipping.\n"
          ]
        },
        {
          "metadata": {
            "tags": null
          },
          "name": "stdout",
          "output_type": "stream",
          "text": [
            "7/7 [==============================] - 3s 429ms/step - loss: -1142837346304.0000 - accuracy: 0.0390\n",
            "Epoch 97/269\n",
            "7/7 [==============================] - ETA: 0s - loss: -1071654567936.0000 - accuracy: 0.0457"
          ]
        },
        {
          "metadata": {
            "tags": null
          },
          "name": "stderr",
          "output_type": "stream",
          "text": [
            "WARNING:tensorflow:Can save best model only with val_loss available, skipping.\n"
          ]
        },
        {
          "metadata": {
            "tags": null
          },
          "name": "stdout",
          "output_type": "stream",
          "text": [
            "7/7 [==============================] - 4s 447ms/step - loss: -1071654567936.0000 - accuracy: 0.0457\n",
            "Epoch 98/269\n",
            "7/7 [==============================] - ETA: 0s - loss: -1085675798528.0000 - accuracy: 0.0420"
          ]
        },
        {
          "metadata": {
            "tags": null
          },
          "name": "stderr",
          "output_type": "stream",
          "text": [
            "WARNING:tensorflow:Can save best model only with val_loss available, skipping.\n"
          ]
        },
        {
          "metadata": {
            "tags": null
          },
          "name": "stdout",
          "output_type": "stream",
          "text": [
            "7/7 [==============================] - 3s 421ms/step - loss: -1085675798528.0000 - accuracy: 0.0420\n",
            "Epoch 99/269\n",
            "7/7 [==============================] - ETA: 0s - loss: -1101528956928.0000 - accuracy: 0.0400"
          ]
        },
        {
          "metadata": {
            "tags": null
          },
          "name": "stderr",
          "output_type": "stream",
          "text": [
            "WARNING:tensorflow:Can save best model only with val_loss available, skipping.\n"
          ]
        },
        {
          "metadata": {
            "tags": null
          },
          "name": "stdout",
          "output_type": "stream",
          "text": [
            "7/7 [==============================] - 5s 770ms/step - loss: -1101528956928.0000 - accuracy: 0.0400\n",
            "Epoch 100/269\n",
            "7/7 [==============================] - ETA: 0s - loss: -1150388535296.0000 - accuracy: 0.0400"
          ]
        },
        {
          "metadata": {
            "tags": null
          },
          "name": "stderr",
          "output_type": "stream",
          "text": [
            "WARNING:tensorflow:Can save best model only with val_loss available, skipping.\n"
          ]
        },
        {
          "metadata": {
            "tags": null
          },
          "name": "stdout",
          "output_type": "stream",
          "text": [
            "7/7 [==============================] - 3s 440ms/step - loss: -1150388535296.0000 - accuracy: 0.0400\n",
            "Epoch 101/269\n",
            "7/7 [==============================] - ETA: 0s - loss: -1153069613056.0000 - accuracy: 0.0257"
          ]
        },
        {
          "metadata": {
            "tags": null
          },
          "name": "stderr",
          "output_type": "stream",
          "text": [
            "WARNING:tensorflow:Can save best model only with val_loss available, skipping.\n"
          ]
        },
        {
          "metadata": {
            "tags": null
          },
          "name": "stdout",
          "output_type": "stream",
          "text": [
            "7/7 [==============================] - 5s 685ms/step - loss: -1153069613056.0000 - accuracy: 0.0257\n",
            "Epoch 102/269\n",
            "7/7 [==============================] - ETA: 0s - loss: -1178007240704.0000 - accuracy: 0.0257"
          ]
        },
        {
          "metadata": {
            "tags": null
          },
          "name": "stderr",
          "output_type": "stream",
          "text": [
            "WARNING:tensorflow:Can save best model only with val_loss available, skipping.\n"
          ]
        },
        {
          "metadata": {
            "tags": null
          },
          "name": "stdout",
          "output_type": "stream",
          "text": [
            "7/7 [==============================] - 3s 445ms/step - loss: -1178007240704.0000 - accuracy: 0.0257\n",
            "Epoch 103/269\n",
            "7/7 [==============================] - ETA: 0s - loss: -1205323956224.0000 - accuracy: 0.0486"
          ]
        },
        {
          "metadata": {
            "tags": null
          },
          "name": "stderr",
          "output_type": "stream",
          "text": [
            "WARNING:tensorflow:Can save best model only with val_loss available, skipping.\n"
          ]
        },
        {
          "metadata": {
            "tags": null
          },
          "name": "stdout",
          "output_type": "stream",
          "text": [
            "7/7 [==============================] - 3s 433ms/step - loss: -1205323956224.0000 - accuracy: 0.0486\n",
            "Epoch 104/269\n",
            "7/7 [==============================] - ETA: 0s - loss: -1151958122496.0000 - accuracy: 0.0457"
          ]
        },
        {
          "metadata": {
            "tags": null
          },
          "name": "stderr",
          "output_type": "stream",
          "text": [
            "WARNING:tensorflow:Can save best model only with val_loss available, skipping.\n"
          ]
        },
        {
          "metadata": {
            "tags": null
          },
          "name": "stdout",
          "output_type": "stream",
          "text": [
            "7/7 [==============================] - 5s 667ms/step - loss: -1151958122496.0000 - accuracy: 0.0457\n",
            "Epoch 105/269\n",
            "7/7 [==============================] - ETA: 0s - loss: -1237729673216.0000 - accuracy: 0.0429"
          ]
        },
        {
          "metadata": {
            "tags": null
          },
          "name": "stderr",
          "output_type": "stream",
          "text": [
            "WARNING:tensorflow:Can save best model only with val_loss available, skipping.\n"
          ]
        },
        {
          "metadata": {
            "tags": null
          },
          "name": "stdout",
          "output_type": "stream",
          "text": [
            "7/7 [==============================] - 4s 444ms/step - loss: -1237729673216.0000 - accuracy: 0.0429\n",
            "Epoch 106/269\n",
            "7/7 [==============================] - ETA: 0s - loss: -1311093424128.0000 - accuracy: 0.0343"
          ]
        },
        {
          "metadata": {
            "tags": null
          },
          "name": "stderr",
          "output_type": "stream",
          "text": [
            "WARNING:tensorflow:Can save best model only with val_loss available, skipping.\n"
          ]
        },
        {
          "metadata": {
            "tags": null
          },
          "name": "stdout",
          "output_type": "stream",
          "text": [
            "7/7 [==============================] - 3s 440ms/step - loss: -1311093424128.0000 - accuracy: 0.0343\n",
            "Epoch 107/269\n",
            "7/7 [==============================] - ETA: 0s - loss: -1233915478016.0000 - accuracy: 0.0343"
          ]
        },
        {
          "metadata": {
            "tags": null
          },
          "name": "stderr",
          "output_type": "stream",
          "text": [
            "WARNING:tensorflow:Can save best model only with val_loss available, skipping.\n"
          ]
        },
        {
          "metadata": {
            "tags": null
          },
          "name": "stdout",
          "output_type": "stream",
          "text": [
            "7/7 [==============================] - 5s 704ms/step - loss: -1233915478016.0000 - accuracy: 0.0343\n",
            "Epoch 108/269\n",
            "7/7 [==============================] - ETA: 0s - loss: -1302801154048.0000 - accuracy: 0.0371"
          ]
        },
        {
          "metadata": {
            "tags": null
          },
          "name": "stderr",
          "output_type": "stream",
          "text": [
            "WARNING:tensorflow:Can save best model only with val_loss available, skipping.\n"
          ]
        },
        {
          "metadata": {
            "tags": null
          },
          "name": "stdout",
          "output_type": "stream",
          "text": [
            "7/7 [==============================] - 3s 436ms/step - loss: -1302801154048.0000 - accuracy: 0.0371\n",
            "Epoch 109/269\n",
            "7/7 [==============================] - ETA: 0s - loss: -1247855247360.0000 - accuracy: 0.0400"
          ]
        },
        {
          "metadata": {
            "tags": null
          },
          "name": "stderr",
          "output_type": "stream",
          "text": [
            "WARNING:tensorflow:Can save best model only with val_loss available, skipping.\n"
          ]
        },
        {
          "metadata": {
            "tags": null
          },
          "name": "stdout",
          "output_type": "stream",
          "text": [
            "7/7 [==============================] - 3s 420ms/step - loss: -1247855247360.0000 - accuracy: 0.0400\n",
            "Epoch 110/269\n",
            "7/7 [==============================] - ETA: 0s - loss: -1261139656704.0000 - accuracy: 0.0390"
          ]
        },
        {
          "metadata": {
            "tags": null
          },
          "name": "stderr",
          "output_type": "stream",
          "text": [
            "WARNING:tensorflow:Can save best model only with val_loss available, skipping.\n"
          ]
        },
        {
          "metadata": {
            "tags": null
          },
          "name": "stdout",
          "output_type": "stream",
          "text": [
            "7/7 [==============================] - 3s 486ms/step - loss: -1261139656704.0000 - accuracy: 0.0390\n",
            "Epoch 111/269\n",
            "7/7 [==============================] - ETA: 0s - loss: -1335617912832.0000 - accuracy: 0.0457"
          ]
        },
        {
          "metadata": {
            "tags": null
          },
          "name": "stderr",
          "output_type": "stream",
          "text": [
            "WARNING:tensorflow:Can save best model only with val_loss available, skipping.\n"
          ]
        },
        {
          "metadata": {
            "tags": null
          },
          "name": "stdout",
          "output_type": "stream",
          "text": [
            "7/7 [==============================] - 5s 690ms/step - loss: -1335617912832.0000 - accuracy: 0.0457\n",
            "Epoch 112/269\n",
            "7/7 [==============================] - ETA: 0s - loss: -1301066547200.0000 - accuracy: 0.0457"
          ]
        },
        {
          "metadata": {
            "tags": null
          },
          "name": "stderr",
          "output_type": "stream",
          "text": [
            "WARNING:tensorflow:Can save best model only with val_loss available, skipping.\n"
          ]
        },
        {
          "metadata": {
            "tags": null
          },
          "name": "stdout",
          "output_type": "stream",
          "text": [
            "7/7 [==============================] - 3s 431ms/step - loss: -1301066547200.0000 - accuracy: 0.0457\n",
            "Epoch 113/269\n",
            "7/7 [==============================] - ETA: 0s - loss: -1201841373184.0000 - accuracy: 0.0686"
          ]
        },
        {
          "metadata": {
            "tags": null
          },
          "name": "stderr",
          "output_type": "stream",
          "text": [
            "WARNING:tensorflow:Can save best model only with val_loss available, skipping.\n"
          ]
        },
        {
          "metadata": {
            "tags": null
          },
          "name": "stdout",
          "output_type": "stream",
          "text": [
            "7/7 [==============================] - 5s 659ms/step - loss: -1201841373184.0000 - accuracy: 0.0686\n",
            "Epoch 114/269\n",
            "7/7 [==============================] - ETA: 0s - loss: -1377760706560.0000 - accuracy: 0.0486"
          ]
        },
        {
          "metadata": {
            "tags": null
          },
          "name": "stderr",
          "output_type": "stream",
          "text": [
            "WARNING:tensorflow:Can save best model only with val_loss available, skipping.\n"
          ]
        },
        {
          "metadata": {
            "tags": null
          },
          "name": "stdout",
          "output_type": "stream",
          "text": [
            "7/7 [==============================] - 3s 427ms/step - loss: -1377760706560.0000 - accuracy: 0.0486\n",
            "Epoch 115/269\n",
            "7/7 [==============================] - ETA: 0s - loss: -1296971595776.0000 - accuracy: 0.0543"
          ]
        },
        {
          "metadata": {
            "tags": null
          },
          "name": "stderr",
          "output_type": "stream",
          "text": [
            "WARNING:tensorflow:Can save best model only with val_loss available, skipping.\n"
          ]
        },
        {
          "metadata": {
            "tags": null
          },
          "name": "stdout",
          "output_type": "stream",
          "text": [
            "7/7 [==============================] - 3s 429ms/step - loss: -1296971595776.0000 - accuracy: 0.0543\n",
            "Epoch 116/269\n",
            "7/7 [==============================] - ETA: 0s - loss: -1400916279296.0000 - accuracy: 0.0371"
          ]
        },
        {
          "metadata": {
            "tags": null
          },
          "name": "stderr",
          "output_type": "stream",
          "text": [
            "WARNING:tensorflow:Can save best model only with val_loss available, skipping.\n"
          ]
        },
        {
          "metadata": {
            "tags": null
          },
          "name": "stdout",
          "output_type": "stream",
          "text": [
            "7/7 [==============================] - 4s 488ms/step - loss: -1400916279296.0000 - accuracy: 0.0371\n",
            "Epoch 117/269\n",
            "7/7 [==============================] - ETA: 0s - loss: -1244073558016.0000 - accuracy: 0.0514"
          ]
        },
        {
          "metadata": {
            "tags": null
          },
          "name": "stderr",
          "output_type": "stream",
          "text": [
            "WARNING:tensorflow:Can save best model only with val_loss available, skipping.\n"
          ]
        },
        {
          "metadata": {
            "tags": null
          },
          "name": "stdout",
          "output_type": "stream",
          "text": [
            "7/7 [==============================] - 3s 419ms/step - loss: -1244073558016.0000 - accuracy: 0.0514\n",
            "Epoch 118/269\n",
            "7/7 [==============================] - ETA: 0s - loss: -1380086841344.0000 - accuracy: 0.0486"
          ]
        },
        {
          "metadata": {
            "tags": null
          },
          "name": "stderr",
          "output_type": "stream",
          "text": [
            "WARNING:tensorflow:Can save best model only with val_loss available, skipping.\n"
          ]
        },
        {
          "metadata": {
            "tags": null
          },
          "name": "stdout",
          "output_type": "stream",
          "text": [
            "7/7 [==============================] - 3s 442ms/step - loss: -1380086841344.0000 - accuracy: 0.0486\n",
            "Epoch 119/269\n",
            "7/7 [==============================] - ETA: 0s - loss: -1381702172672.0000 - accuracy: 0.0400"
          ]
        },
        {
          "metadata": {
            "tags": null
          },
          "name": "stderr",
          "output_type": "stream",
          "text": [
            "WARNING:tensorflow:Can save best model only with val_loss available, skipping.\n"
          ]
        },
        {
          "metadata": {
            "tags": null
          },
          "name": "stdout",
          "output_type": "stream",
          "text": [
            "7/7 [==============================] - 5s 662ms/step - loss: -1381702172672.0000 - accuracy: 0.0400\n",
            "Epoch 120/269\n",
            "7/7 [==============================] - ETA: 0s - loss: -1299737346048.0000 - accuracy: 0.0314"
          ]
        },
        {
          "metadata": {
            "tags": null
          },
          "name": "stderr",
          "output_type": "stream",
          "text": [
            "WARNING:tensorflow:Can save best model only with val_loss available, skipping.\n"
          ]
        },
        {
          "output_type": "stream",
          "name": "stdout",
          "text": [
            "\b\b\b\b\b\b\b\b\b\b\b\b\b\b\b\b\b\b\b\b\b\b\b\b\b\b\b\b\b\b\b\b\b\b\b\b\b\b\b\b\b\b\b\b\b\b\b\b\b\b\b\b\b\b\b\b\b\b\b\b\b\b\b\b\b\b\b\b\b\b\b\b\b\b\b\b\b\b\b\b\b\b\b\b\b\b\b\b\b\b\b\b\b\r7/7 [==============================] - 3s 429ms/step - loss: -1299737346048.0000 - accuracy: 0.0314\n",
            "Epoch 121/269\n",
            "7/7 [==============================] - ETA: 0s - loss: -1352558968832.0000 - accuracy: 0.0343"
          ]
        },
        {
          "output_type": "stream",
          "name": "stderr",
          "text": [
            "WARNING:tensorflow:Can save best model only with val_loss available, skipping.\n"
          ]
        },
        {
          "output_type": "stream",
          "name": "stdout",
          "text": [
            "\b\b\b\b\b\b\b\b\b\b\b\b\b\b\b\b\b\b\b\b\b\b\b\b\b\b\b\b\b\b\b\b\b\b\b\b\b\b\b\b\b\b\b\b\b\b\b\b\b\b\b\b\b\b\b\b\b\b\b\b\b\b\b\b\b\b\b\b\b\b\b\b\b\b\b\b\b\b\b\b\b\b\b\b\b\b\b\b\b\b\b\b\b\r7/7 [==============================] - 3s 432ms/step - loss: -1352558968832.0000 - accuracy: 0.0343\n",
            "Epoch 122/269\n",
            "7/7 [==============================] - ETA: 0s - loss: -1349681938432.0000 - accuracy: 0.0314"
          ]
        },
        {
          "output_type": "stream",
          "name": "stderr",
          "text": [
            "WARNING:tensorflow:Can save best model only with val_loss available, skipping.\n"
          ]
        },
        {
          "output_type": "stream",
          "name": "stdout",
          "text": [
            "\b\b\b\b\b\b\b\b\b\b\b\b\b\b\b\b\b\b\b\b\b\b\b\b\b\b\b\b\b\b\b\b\b\b\b\b\b\b\b\b\b\b\b\b\b\b\b\b\b\b\b\b\b\b\b\b\b\b\b\b\b\b\b\b\b\b\b\b\b\b\b\b\b\b\b\b\b\b\b\b\b\b\b\b\b\b\b\b\b\b\b\b\b\r7/7 [==============================] - 4s 467ms/step - loss: -1349681938432.0000 - accuracy: 0.0314\n",
            "Epoch 123/269\n",
            "7/7 [==============================] - ETA: 0s - loss: -1406156144640.0000 - accuracy: 0.0543"
          ]
        },
        {
          "output_type": "stream",
          "name": "stderr",
          "text": [
            "WARNING:tensorflow:Can save best model only with val_loss available, skipping.\n"
          ]
        },
        {
          "output_type": "stream",
          "name": "stdout",
          "text": [
            "\b\b\b\b\b\b\b\b\b\b\b\b\b\b\b\b\b\b\b\b\b\b\b\b\b\b\b\b\b\b\b\b\b\b\b\b\b\b\b\b\b\b\b\b\b\b\b\b\b\b\b\b\b\b\b\b\b\b\b\b\b\b\b\b\b\b\b\b\b\b\b\b\b\b\b\b\b\b\b\b\b\b\b\b\b\b\b\b\b\b\b\b\b\r7/7 [==============================] - 3s 434ms/step - loss: -1406156144640.0000 - accuracy: 0.0543\n",
            "Epoch 124/269\n",
            "7/7 [==============================] - ETA: 0s - loss: -1394839781376.0000 - accuracy: 0.0457"
          ]
        },
        {
          "output_type": "stream",
          "name": "stderr",
          "text": [
            "WARNING:tensorflow:Can save best model only with val_loss available, skipping.\n"
          ]
        },
        {
          "output_type": "stream",
          "name": "stdout",
          "text": [
            "\b\b\b\b\b\b\b\b\b\b\b\b\b\b\b\b\b\b\b\b\b\b\b\b\b\b\b\b\b\b\b\b\b\b\b\b\b\b\b\b\b\b\b\b\b\b\b\b\b\b\b\b\b\b\b\b\b\b\b\b\b\b\b\b\b\b\b\b\b\b\b\b\b\b\b\b\b\b\b\b\b\b\b\b\b\b\b\b\b\b\b\b\b\r7/7 [==============================] - 4s 644ms/step - loss: -1394839781376.0000 - accuracy: 0.0457\n",
            "Epoch 125/269\n",
            "7/7 [==============================] - ETA: 0s - loss: -1365633662976.0000 - accuracy: 0.0600"
          ]
        },
        {
          "output_type": "stream",
          "name": "stderr",
          "text": [
            "WARNING:tensorflow:Can save best model only with val_loss available, skipping.\n"
          ]
        },
        {
          "output_type": "stream",
          "name": "stdout",
          "text": [
            "\b\b\b\b\b\b\b\b\b\b\b\b\b\b\b\b\b\b\b\b\b\b\b\b\b\b\b\b\b\b\b\b\b\b\b\b\b\b\b\b\b\b\b\b\b\b\b\b\b\b\b\b\b\b\b\b\b\b\b\b\b\b\b\b\b\b\b\b\b\b\b\b\b\b\b\b\b\b\b\b\b\b\b\b\b\b\b\b\b\b\b\b\b\r7/7 [==============================] - 3s 434ms/step - loss: -1365633662976.0000 - accuracy: 0.0600\n",
            "Epoch 126/269\n",
            "7/7 [==============================] - ETA: 0s - loss: -1480790769664.0000 - accuracy: 0.0486"
          ]
        },
        {
          "output_type": "stream",
          "name": "stderr",
          "text": [
            "WARNING:tensorflow:Can save best model only with val_loss available, skipping.\n"
          ]
        },
        {
          "output_type": "stream",
          "name": "stdout",
          "text": [
            "\b\b\b\b\b\b\b\b\b\b\b\b\b\b\b\b\b\b\b\b\b\b\b\b\b\b\b\b\b\b\b\b\b\b\b\b\b\b\b\b\b\b\b\b\b\b\b\b\b\b\b\b\b\b\b\b\b\b\b\b\b\b\b\b\b\b\b\b\b\b\b\b\b\b\b\b\b\b\b\b\b\b\b\b\b\b\b\b\b\b\b\b\b\r7/7 [==============================] - 3s 431ms/step - loss: -1480790769664.0000 - accuracy: 0.0486\n",
            "Epoch 127/269\n",
            "7/7 [==============================] - ETA: 0s - loss: -1470581047296.0000 - accuracy: 0.0420"
          ]
        },
        {
          "output_type": "stream",
          "name": "stderr",
          "text": [
            "WARNING:tensorflow:Can save best model only with val_loss available, skipping.\n"
          ]
        },
        {
          "output_type": "stream",
          "name": "stdout",
          "text": [
            "\b\b\b\b\b\b\b\b\b\b\b\b\b\b\b\b\b\b\b\b\b\b\b\b\b\b\b\b\b\b\b\b\b\b\b\b\b\b\b\b\b\b\b\b\b\b\b\b\b\b\b\b\b\b\b\b\b\b\b\b\b\b\b\b\b\b\b\b\b\b\b\b\b\b\b\b\b\b\b\b\b\b\b\b\b\b\b\b\b\b\b\b\b\r7/7 [==============================] - 4s 499ms/step - loss: -1470581047296.0000 - accuracy: 0.0420\n",
            "Epoch 128/269\n",
            "7/7 [==============================] - ETA: 0s - loss: -1577035235328.0000 - accuracy: 0.0371"
          ]
        },
        {
          "output_type": "stream",
          "name": "stderr",
          "text": [
            "WARNING:tensorflow:Can save best model only with val_loss available, skipping.\n"
          ]
        },
        {
          "output_type": "stream",
          "name": "stdout",
          "text": [
            "\b\b\b\b\b\b\b\b\b\b\b\b\b\b\b\b\b\b\b\b\b\b\b\b\b\b\b\b\b\b\b\b\b\b\b\b\b\b\b\b\b\b\b\b\b\b\b\b\b\b\b\b\b\b\b\b\b\b\b\b\b\b\b\b\b\b\b\b\b\b\b\b\b\b\b\b\b\b\b\b\b\b\b\b\b\b\b\b\b\b\b\b\b\r7/7 [==============================] - 3s 429ms/step - loss: -1577035235328.0000 - accuracy: 0.0371\n",
            "Epoch 129/269\n",
            "7/7 [==============================] - ETA: 0s - loss: -1429997879296.0000 - accuracy: 0.0429"
          ]
        },
        {
          "output_type": "stream",
          "name": "stderr",
          "text": [
            "WARNING:tensorflow:Can save best model only with val_loss available, skipping.\n"
          ]
        },
        {
          "output_type": "stream",
          "name": "stdout",
          "text": [
            "\b\b\b\b\b\b\b\b\b\b\b\b\b\b\b\b\b\b\b\b\b\b\b\b\b\b\b\b\b\b\b\b\b\b\b\b\b\b\b\b\b\b\b\b\b\b\b\b\b\b\b\b\b\b\b\b\b\b\b\b\b\b\b\b\b\b\b\b\b\b\b\b\b\b\b\b\b\b\b\b\b\b\b\b\b\b\b\b\b\b\b\b\b\r7/7 [==============================] - 3s 430ms/step - loss: -1429997879296.0000 - accuracy: 0.0429\n",
            "Epoch 130/269\n",
            "7/7 [==============================] - ETA: 0s - loss: -1537495924736.0000 - accuracy: 0.0210"
          ]
        },
        {
          "output_type": "stream",
          "name": "stderr",
          "text": [
            "WARNING:tensorflow:Can save best model only with val_loss available, skipping.\n"
          ]
        },
        {
          "output_type": "stream",
          "name": "stdout",
          "text": [
            "\b\b\b\b\b\b\b\b\b\b\b\b\b\b\b\b\b\b\b\b\b\b\b\b\b\b\b\b\b\b\b\b\b\b\b\b\b\b\b\b\b\b\b\b\b\b\b\b\b\b\b\b\b\b\b\b\b\b\b\b\b\b\b\b\b\b\b\b\b\b\b\b\b\b\b\b\b\b\b\b\b\b\b\b\b\b\b\b\b\b\b\b\b\r7/7 [==============================] - 4s 638ms/step - loss: -1537495924736.0000 - accuracy: 0.0210\n",
            "Epoch 131/269\n",
            "7/7 [==============================] - ETA: 0s - loss: -1560628035584.0000 - accuracy: 0.0314"
          ]
        },
        {
          "output_type": "stream",
          "name": "stderr",
          "text": [
            "WARNING:tensorflow:Can save best model only with val_loss available, skipping.\n"
          ]
        },
        {
          "output_type": "stream",
          "name": "stdout",
          "text": [
            "\b\b\b\b\b\b\b\b\b\b\b\b\b\b\b\b\b\b\b\b\b\b\b\b\b\b\b\b\b\b\b\b\b\b\b\b\b\b\b\b\b\b\b\b\b\b\b\b\b\b\b\b\b\b\b\b\b\b\b\b\b\b\b\b\b\b\b\b\b\b\b\b\b\b\b\b\b\b\b\b\b\b\b\b\b\b\b\b\b\b\b\b\b\r7/7 [==============================] - 3s 430ms/step - loss: -1560628035584.0000 - accuracy: 0.0314\n",
            "Epoch 132/269\n",
            "7/7 [==============================] - ETA: 0s - loss: -1487374123008.0000 - accuracy: 0.0571"
          ]
        },
        {
          "output_type": "stream",
          "name": "stderr",
          "text": [
            "WARNING:tensorflow:Can save best model only with val_loss available, skipping.\n"
          ]
        },
        {
          "output_type": "stream",
          "name": "stdout",
          "text": [
            "\b\b\b\b\b\b\b\b\b\b\b\b\b\b\b\b\b\b\b\b\b\b\b\b\b\b\b\b\b\b\b\b\b\b\b\b\b\b\b\b\b\b\b\b\b\b\b\b\b\b\b\b\b\b\b\b\b\b\b\b\b\b\b\b\b\b\b\b\b\b\b\b\b\b\b\b\b\b\b\b\b\b\b\b\b\b\b\b\b\b\b\b\b\r7/7 [==============================] - 3s 419ms/step - loss: -1487374123008.0000 - accuracy: 0.0571\n",
            "Epoch 133/269\n",
            "7/7 [==============================] - ETA: 0s - loss: -1501293969408.0000 - accuracy: 0.0429"
          ]
        },
        {
          "output_type": "stream",
          "name": "stderr",
          "text": [
            "WARNING:tensorflow:Can save best model only with val_loss available, skipping.\n"
          ]
        },
        {
          "output_type": "stream",
          "name": "stdout",
          "text": [
            "\b\b\b\b\b\b\b\b\b\b\b\b\b\b\b\b\b\b\b\b\b\b\b\b\b\b\b\b\b\b\b\b\b\b\b\b\b\b\b\b\b\b\b\b\b\b\b\b\b\b\b\b\b\b\b\b\b\b\b\b\b\b\b\b\b\b\b\b\b\b\b\b\b\b\b\b\b\b\b\b\b\b\b\b\b\b\b\b\b\b\b\b\b\r7/7 [==============================] - 4s 649ms/step - loss: -1501293969408.0000 - accuracy: 0.0429\n",
            "Epoch 134/269\n",
            "7/7 [==============================] - ETA: 0s - loss: -1512548728832.0000 - accuracy: 0.0543"
          ]
        },
        {
          "output_type": "stream",
          "name": "stderr",
          "text": [
            "WARNING:tensorflow:Can save best model only with val_loss available, skipping.\n"
          ]
        },
        {
          "output_type": "stream",
          "name": "stdout",
          "text": [
            "\b\b\b\b\b\b\b\b\b\b\b\b\b\b\b\b\b\b\b\b\b\b\b\b\b\b\b\b\b\b\b\b\b\b\b\b\b\b\b\b\b\b\b\b\b\b\b\b\b\b\b\b\b\b\b\b\b\b\b\b\b\b\b\b\b\b\b\b\b\b\b\b\b\b\b\b\b\b\b\b\b\b\b\b\b\b\b\b\b\b\b\b\b\r7/7 [==============================] - 3s 430ms/step - loss: -1512548728832.0000 - accuracy: 0.0543\n",
            "Epoch 135/269\n",
            "7/7 [==============================] - ETA: 0s - loss: -1513514074112.0000 - accuracy: 0.0429"
          ]
        },
        {
          "output_type": "stream",
          "name": "stderr",
          "text": [
            "WARNING:tensorflow:Can save best model only with val_loss available, skipping.\n"
          ]
        },
        {
          "output_type": "stream",
          "name": "stdout",
          "text": [
            "\b\b\b\b\b\b\b\b\b\b\b\b\b\b\b\b\b\b\b\b\b\b\b\b\b\b\b\b\b\b\b\b\b\b\b\b\b\b\b\b\b\b\b\b\b\b\b\b\b\b\b\b\b\b\b\b\b\b\b\b\b\b\b\b\b\b\b\b\b\b\b\b\b\b\b\b\b\b\b\b\b\b\b\b\b\b\b\b\b\b\b\b\b\r7/7 [==============================] - 3s 436ms/step - loss: -1513514074112.0000 - accuracy: 0.0429\n",
            "Epoch 136/269\n",
            "7/7 [==============================] - ETA: 0s - loss: -1584581705728.0000 - accuracy: 0.0400"
          ]
        },
        {
          "output_type": "stream",
          "name": "stderr",
          "text": [
            "WARNING:tensorflow:Can save best model only with val_loss available, skipping.\n"
          ]
        },
        {
          "output_type": "stream",
          "name": "stdout",
          "text": [
            "\b\b\b\b\b\b\b\b\b\b\b\b\b\b\b\b\b\b\b\b\b\b\b\b\b\b\b\b\b\b\b\b\b\b\b\b\b\b\b\b\b\b\b\b\b\b\b\b\b\b\b\b\b\b\b\b\b\b\b\b\b\b\b\b\b\b\b\b\b\b\b\b\b\b\b\b\b\b\b\b\b\b\b\b\b\b\b\b\b\b\b\b\b\r7/7 [==============================] - 4s 530ms/step - loss: -1584581705728.0000 - accuracy: 0.0400\n",
            "Epoch 137/269\n",
            "7/7 [==============================] - ETA: 0s - loss: -1617441325056.0000 - accuracy: 0.0420"
          ]
        },
        {
          "output_type": "stream",
          "name": "stderr",
          "text": [
            "WARNING:tensorflow:Can save best model only with val_loss available, skipping.\n"
          ]
        },
        {
          "output_type": "stream",
          "name": "stdout",
          "text": [
            "\b\b\b\b\b\b\b\b\b\b\b\b\b\b\b\b\b\b\b\b\b\b\b\b\b\b\b\b\b\b\b\b\b\b\b\b\b\b\b\b\b\b\b\b\b\b\b\b\b\b\b\b\b\b\b\b\b\b\b\b\b\b\b\b\b\b\b\b\b\b\b\b\b\b\b\b\b\b\b\b\b\b\b\b\b\b\b\b\b\b\b\b\b\r7/7 [==============================] - 3s 407ms/step - loss: -1617441325056.0000 - accuracy: 0.0420\n",
            "Epoch 138/269\n",
            "7/7 [==============================] - ETA: 0s - loss: -1545874309120.0000 - accuracy: 0.0429"
          ]
        },
        {
          "output_type": "stream",
          "name": "stderr",
          "text": [
            "WARNING:tensorflow:Can save best model only with val_loss available, skipping.\n"
          ]
        },
        {
          "output_type": "stream",
          "name": "stdout",
          "text": [
            "\b\b\b\b\b\b\b\b\b\b\b\b\b\b\b\b\b\b\b\b\b\b\b\b\b\b\b\b\b\b\b\b\b\b\b\b\b\b\b\b\b\b\b\b\b\b\b\b\b\b\b\b\b\b\b\b\b\b\b\b\b\b\b\b\b\b\b\b\b\b\b\b\b\b\b\b\b\b\b\b\b\b\b\b\b\b\b\b\b\b\b\b\b\r7/7 [==============================] - 3s 440ms/step - loss: -1545874309120.0000 - accuracy: 0.0429\n",
            "Epoch 139/269\n",
            "7/7 [==============================] - ETA: 0s - loss: -1669238095872.0000 - accuracy: 0.0400"
          ]
        },
        {
          "output_type": "stream",
          "name": "stderr",
          "text": [
            "WARNING:tensorflow:Can save best model only with val_loss available, skipping.\n"
          ]
        },
        {
          "output_type": "stream",
          "name": "stdout",
          "text": [
            "\b\b\b\b\b\b\b\b\b\b\b\b\b\b\b\b\b\b\b\b\b\b\b\b\b\b\b\b\b\b\b\b\b\b\b\b\b\b\b\b\b\b\b\b\b\b\b\b\b\b\b\b\b\b\b\b\b\b\b\b\b\b\b\b\b\b\b\b\b\b\b\b\b\b\b\b\b\b\b\b\b\b\b\b\b\b\b\b\b\b\b\b\b\r7/7 [==============================] - 4s 607ms/step - loss: -1669238095872.0000 - accuracy: 0.0400\n",
            "Epoch 140/269\n",
            "7/7 [==============================] - ETA: 0s - loss: -1700270964736.0000 - accuracy: 0.0450"
          ]
        },
        {
          "output_type": "stream",
          "name": "stderr",
          "text": [
            "WARNING:tensorflow:Can save best model only with val_loss available, skipping.\n"
          ]
        },
        {
          "output_type": "stream",
          "name": "stdout",
          "text": [
            "\b\b\b\b\b\b\b\b\b\b\b\b\b\b\b\b\b\b\b\b\b\b\b\b\b\b\b\b\b\b\b\b\b\b\b\b\b\b\b\b\b\b\b\b\b\b\b\b\b\b\b\b\b\b\b\b\b\b\b\b\b\b\b\b\b\b\b\b\b\b\b\b\b\b\b\b\b\b\b\b\b\b\b\b\b\b\b\b\b\b\b\b\b\r7/7 [==============================] - 3s 409ms/step - loss: -1700270964736.0000 - accuracy: 0.0450\n",
            "Epoch 141/269\n",
            "7/7 [==============================] - ETA: 0s - loss: -1556339752960.0000 - accuracy: 0.0429"
          ]
        },
        {
          "output_type": "stream",
          "name": "stderr",
          "text": [
            "WARNING:tensorflow:Can save best model only with val_loss available, skipping.\n"
          ]
        },
        {
          "output_type": "stream",
          "name": "stdout",
          "text": [
            "\b\b\b\b\b\b\b\b\b\b\b\b\b\b\b\b\b\b\b\b\b\b\b\b\b\b\b\b\b\b\b\b\b\b\b\b\b\b\b\b\b\b\b\b\b\b\b\b\b\b\b\b\b\b\b\b\b\b\b\b\b\b\b\b\b\b\b\b\b\b\b\b\b\b\b\b\b\b\b\b\b\b\b\b\b\b\b\b\b\b\b\b\b\r7/7 [==============================] - 3s 436ms/step - loss: -1556339752960.0000 - accuracy: 0.0429\n",
            "Epoch 142/269\n",
            "7/7 [==============================] - ETA: 0s - loss: -1687148822528.0000 - accuracy: 0.0400"
          ]
        },
        {
          "output_type": "stream",
          "name": "stderr",
          "text": [
            "WARNING:tensorflow:Can save best model only with val_loss available, skipping.\n"
          ]
        },
        {
          "output_type": "stream",
          "name": "stdout",
          "text": [
            "\b\b\b\b\b\b\b\b\b\b\b\b\b\b\b\b\b\b\b\b\b\b\b\b\b\b\b\b\b\b\b\b\b\b\b\b\b\b\b\b\b\b\b\b\b\b\b\b\b\b\b\b\b\b\b\b\b\b\b\b\b\b\b\b\b\b\b\b\b\b\b\b\b\b\b\b\b\b\b\b\b\b\b\b\b\b\b\b\b\b\b\b\b\r7/7 [==============================] - 4s 494ms/step - loss: -1687148822528.0000 - accuracy: 0.0400\n",
            "Epoch 143/269\n",
            "7/7 [==============================] - ETA: 0s - loss: -1740191432704.0000 - accuracy: 0.0450"
          ]
        },
        {
          "output_type": "stream",
          "name": "stderr",
          "text": [
            "WARNING:tensorflow:Can save best model only with val_loss available, skipping.\n"
          ]
        },
        {
          "output_type": "stream",
          "name": "stdout",
          "text": [
            "\b\b\b\b\b\b\b\b\b\b\b\b\b\b\b\b\b\b\b\b\b\b\b\b\b\b\b\b\b\b\b\b\b\b\b\b\b\b\b\b\b\b\b\b\b\b\b\b\b\b\b\b\b\b\b\b\b\b\b\b\b\b\b\b\b\b\b\b\b\b\b\b\b\b\b\b\b\b\b\b\b\b\b\b\b\b\b\b\b\b\b\b\b\r7/7 [==============================] - 3s 392ms/step - loss: -1740191432704.0000 - accuracy: 0.0450\n",
            "Epoch 144/269\n",
            "5/7 [====================>.........] - ETA: 0s - loss: -1796084727808.0000 - accuracy: 0.0515"
          ]
        }
      ]
    },
    {
      "cell_type": "code",
      "source": [
        "# import os\n",
        "# print(os.getcwd())\n"
      ],
      "metadata": {
        "colab": {
          "base_uri": "https://localhost:8080/"
        },
        "id": "kqhpElgDXh8d",
        "outputId": "c56ccd11-8939-48fe-ac3b-ae63bb60dc04"
      },
      "execution_count": 52,
      "outputs": [
        {
          "output_type": "stream",
          "name": "stdout",
          "text": [
            "/content/drive/MyDrive/Project image dataset\n"
          ]
        }
      ]
    },
    {
      "cell_type": "code",
      "source": [
        "# import os\n",
        "\n",
        "# os.chdir('/content/drive/MyDrive/Project image dataset')\n",
        "\n",
        "# files = os.listdir()\n",
        "# print(files)\n"
      ],
      "metadata": {
        "colab": {
          "base_uri": "https://localhost:8080/"
        },
        "id": "Xxn25TcvXj1x",
        "outputId": "dc600ee8-cb2a-4e8d-880f-83606ad7ebf8"
      },
      "execution_count": 53,
      "outputs": [
        {
          "output_type": "stream",
          "name": "stdout",
          "text": [
            "['training_set', 'test_set']\n"
          ]
        }
      ]
    },
    {
      "cell_type": "code",
      "source": [
        "from keras.callbacks import ModelCheckpoint\n",
        "\n",
        "# Define the checkpoint path and filename\n",
        "checkpoint_path = '/content/drive/MyDrive/Project image dataset/model.h5'\n",
        "\n",
        "# Configure the model checkpoint callback\n",
        "checkpoint = ModelCheckpoint(\n",
        "    checkpoint_path,\n",
        "    monitor='val_loss',\n",
        "    mode='min',\n",
        "    save_best_only=True,\n",
        "    save_weights_only=False,\n",
        "    verbose=1\n",
        ")\n",
        "\n",
        "# Add the checkpoint callback to the training process\n",
        "classifier.fit_generator(\n",
        "    training_set,\n",
        "    steps_per_epoch=7,\n",
        "    epochs=269,\n",
        "    validation_data=test_set,\n",
        "    validation_steps=1883,\n",
        "    callbacks=[checkpoint]\n",
        ")\n"
      ],
      "metadata": {
        "id": "m0xWB3ywxJks"
      },
      "execution_count": null,
      "outputs": []
    },
    {
      "cell_type": "code",
      "source": [
        "import os\n",
        "from keras.models import load_model\n",
        "\n",
        "# Directory to search for the model file\n",
        "directory = 'path_to_directory'\n",
        "\n",
        "# Search for the model file in the directory and its subdirectories\n",
        "for root, dirs, files in os.walk(directory):\n",
        "    for file in files:\n",
        "        if file.endswith('.h5'):\n",
        "            model_path = os.path.join(root, file)\n",
        "            print(\"Found model at:\", model_path)\n",
        "            classifier = load_model(model_path)\n",
        "            break  # Stop searching after finding the first model\n",
        "\n",
        "# Continue with the rest of your code for image testing and predictions...\n"
      ],
      "metadata": {
        "id": "hnkyk02_WpI2"
      },
      "execution_count": 51,
      "outputs": []
    },
    {
      "cell_type": "code",
      "source": [
        "from PIL import Image\n",
        "import numpy as np\n",
        "from keras.models import load_model\n",
        "\n",
        "# Load the pre-trained model\n",
        "classifier = load_model('/content/drive/MyDrive/Project image dataset/model.h5')\n",
        "\n",
        "# Define class indices\n",
        "class_indices = {\n",
        "    0: 'Animal',\n",
        "    1: 'Bird',\n",
        "    2: 'Human',\n",
        "    3: 'Nature',\n",
        "    4: 'Vehicle'\n",
        "}\n",
        "\n",
        "# Array of image paths\n",
        "image_paths = [\"/content/3615.png\",\n",
        "               \"/content/3724.png\",\n",
        "               \"/content/3764.png\",\n",
        "               \"/content/3791.png\",\n",
        "               \"/content/3987.png\",\n",
        "               \"/content/4087.png\",\n",
        "               \"/content/4113.png\",\n",
        "               \"/content/4170.png\",\n",
        "               \"/content/4273.png\",\n",
        "               \"/content/4276.png\"\n",
        "               ]\n",
        "\n",
        "# Iterate over the image paths\n",
        "for img_path in image_paths:\n",
        "    # Load and preprocess the image\n",
        "    test_image = Image.open(img_path)\n",
        "    test_image = test_image.resize((64, 64))  # Resize the image to the desired size\n",
        "    test_image = np.array(test_image)  # Convert the image to a numpy array\n",
        "    test_image = test_image / 255.0  # Normalize the image\n",
        "    test_image = np.expand_dims(test_image, axis=0)  # Add an extra dimension for batch\n",
        "\n",
        "    # Make predictions\n",
        "    result = classifier.predict(test_image)\n",
        "\n",
        "    # Determine the predicted label\n",
        "    predicted_class_index = np.argmax(result)\n",
        "    prediction = class_indices[predicted_class_index]\n",
        "\n",
        "    # Print the predicted label\n",
        "    print(f\" Prediction: {prediction}\")\n"
      ],
      "metadata": {
        "colab": {
          "base_uri": "https://localhost:8080/"
        },
        "id": "JkF3fzsBxdmu",
        "outputId": "ca903733-1819-4d58-e67f-692920f3696b"
      },
      "execution_count": 60,
      "outputs": [
        {
          "output_type": "stream",
          "name": "stdout",
          "text": [
            "1/1 [==============================] - 0s 86ms/step\n",
            " Prediction: Animal\n",
            "1/1 [==============================] - 0s 24ms/step\n",
            " Prediction: Animal\n",
            "1/1 [==============================] - 0s 25ms/step\n",
            " Prediction: Animal\n",
            "1/1 [==============================] - 0s 35ms/step\n",
            " Prediction: Animal\n",
            "1/1 [==============================] - 0s 27ms/step\n",
            " Prediction: Animal\n",
            "1/1 [==============================] - 0s 24ms/step\n",
            " Prediction: Animal\n",
            "1/1 [==============================] - 0s 26ms/step\n",
            " Prediction: Animal\n",
            "1/1 [==============================] - 0s 25ms/step\n",
            " Prediction: Animal\n",
            "1/1 [==============================] - 0s 45ms/step\n",
            " Prediction: Animal\n",
            "1/1 [==============================] - 0s 25ms/step\n",
            " Prediction: Animal\n"
          ]
        }
      ]
    }
  ],
  "metadata": {
    "colab": {
      "provenance": [],
      "authorship_tag": "ABX9TyNy0FCG93ISCwIlwne5Dvfj",
      "include_colab_link": true
    },
    "kernelspec": {
      "display_name": "Python 3",
      "name": "python3"
    },
    "language_info": {
      "name": "python"
    }
  },
  "nbformat": 4,
  "nbformat_minor": 0
}