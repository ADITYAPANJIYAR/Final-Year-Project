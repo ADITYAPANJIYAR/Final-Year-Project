{
  "cells": [
    {
      "cell_type": "markdown",
      "metadata": {
        "id": "view-in-github",
        "colab_type": "text"
      },
      "source": [
        "<a href=\"https://colab.research.google.com/github/ADITYAPANJIYAR/Final-Year-Project/blob/main/Untitled2.ipynb\" target=\"_parent\"><img src=\"https://colab.research.google.com/assets/colab-badge.svg\" alt=\"Open In Colab\"/></a>"
      ]
    },
    {
      "cell_type": "code",
      "execution_count": 2,
      "metadata": {
        "id": "QFgkl37e1EKv"
      },
      "outputs": [],
      "source": [
        "#importing the libraries\n",
        "import keras\n",
        "from keras.models import Sequential\n",
        "from keras.layers import Convolution2D\n",
        "from keras.layers import MaxPooling2D\n",
        "from keras.layers import Flatten\n",
        "from keras.layers import Dense"
      ]
    },
    {
      "cell_type": "code",
      "execution_count": 3,
      "metadata": {
        "id": "JgtYiP-m9hAG"
      },
      "outputs": [],
      "source": [
        "classifier= Sequential() # Initialise the CNN"
      ]
    },
    {
      "cell_type": "code",
      "execution_count": 4,
      "metadata": {
        "id": "FWlmgXDW9hHY"
      },
      "outputs": [],
      "source": [
        "\n",
        "classifier.add(Convolution2D(filters=32, \n",
        "                             kernel_size=(3,3),\n",
        "                             input_shape=(64, 64, 3), \n",
        "                             kernel_initializer='he_uniform', \n",
        "                             activation='relu'))"
      ]
    },
    {
      "cell_type": "code",
      "execution_count": 5,
      "metadata": {
        "id": "153lrNIE9hLX"
      },
      "outputs": [],
      "source": [
        "classifier.add(MaxPooling2D(pool_size=(2,2)))"
      ]
    },
    {
      "cell_type": "code",
      "execution_count": 6,
      "metadata": {
        "id": "izOq7nAC9hQP"
      },
      "outputs": [],
      "source": [
        "classifier.add(Convolution2D(filters=32,\n",
        "                             kernel_size=(3,3), \n",
        "                             kernel_initializer='he_uniform', \n",
        "                             activation='relu'))\n",
        "classifier.add(MaxPooling2D(pool_size=(2,2)))"
      ]
    },
    {
      "cell_type": "code",
      "execution_count": 7,
      "metadata": {
        "id": "Wa8yxQKi9hUr"
      },
      "outputs": [],
      "source": [
        "classifier.add(Flatten())"
      ]
    },
    {
      "cell_type": "code",
      "execution_count": 8,
      "metadata": {
        "id": "iS85_QyS98dM"
      },
      "outputs": [],
      "source": [
        "classifier.add(Dense(units=128,kernel_initializer='glorot_uniform', activation='relu')) \n",
        "classifier.add(Dense(units=1,kernel_initializer='glorot_uniform',activation='sigmoid'))\n",
        "# Compiling the CNN\n",
        "classifier.compile(optimizer = 'adam', loss = 'binary_crossentropy', metrics = ['accuracy'])"
      ]
    },
    {
      "cell_type": "code",
      "execution_count": 9,
      "metadata": {
        "id": "bIxByFFd98lo"
      },
      "outputs": [],
      "source": [
        "from keras.preprocessing.image import ImageDataGenerator\n"
      ]
    },
    {
      "cell_type": "code",
      "execution_count": 10,
      "metadata": {
        "id": "Nuvs1pkB98se"
      },
      "outputs": [],
      "source": [
        "train_datagen = ImageDataGenerator(rescale = 1./255,\n",
        "                                   shear_range = 0.2,\n",
        "                                   zoom_range = 0.2,\n",
        "                                   horizontal_flip = True)"
      ]
    },
    {
      "cell_type": "code",
      "execution_count": 11,
      "metadata": {
        "id": "scoz5G2u980m"
      },
      "outputs": [],
      "source": [
        "test_datagen= ImageDataGenerator(rescale=1./255)\n"
      ]
    },
    {
      "cell_type": "code",
      "execution_count": 12,
      "metadata": {
        "colab": {
          "base_uri": "https://localhost:8080/"
        },
        "id": "Yg6A_nTb987S",
        "outputId": "1ba0237e-32ab-465e-c680-4b35ede35a6e"
      },
      "outputs": [
        {
          "output_type": "stream",
          "name": "stdout",
          "text": [
            "Mounted at /content/drive\n"
          ]
        }
      ],
      "source": [
        "from google.colab import drive\n",
        "drive.mount('/content/drive')"
      ]
    },
    {
      "cell_type": "code",
      "execution_count": 13,
      "metadata": {
        "id": "NFHZgFrNgVIW"
      },
      "outputs": [],
      "source": [
        "import os\n",
        "os.chdir('/content/drive/My Drive/Project image dataset')"
      ]
    },
    {
      "cell_type": "code",
      "execution_count": 14,
      "metadata": {
        "colab": {
          "base_uri": "https://localhost:8080/"
        },
        "id": "qxB9QMsx_BVQ",
        "outputId": "26d10206-39ea-47a6-e557-5949580baad7"
      },
      "outputs": [
        {
          "output_type": "stream",
          "name": "stdout",
          "text": [
            "Found 8015 images belonging to 2 classes.\n"
          ]
        }
      ],
      "source": [
        "training_set= train_datagen.flow_from_directory(directory= 'training_set',\n",
        "                                               target_size=(64,64), # As we choose 64*64 for our convolution model\n",
        "                                               batch_size=50,\n",
        "                                               class_mode='binary' # for 2 class binary \n",
        "                                               )"
      ]
    },
    {
      "cell_type": "code",
      "execution_count": 15,
      "metadata": {
        "colab": {
          "base_uri": "https://localhost:8080/"
        },
        "id": "E1zy5mu1_Bfq",
        "outputId": "1d376ae6-c155-4a7a-fcc9-410c865ca82b"
      },
      "outputs": [
        {
          "output_type": "stream",
          "name": "stdout",
          "text": [
            "Found 2033 images belonging to 2 classes.\n"
          ]
        }
      ],
      "source": [
        "test_set= test_datagen.flow_from_directory(directory= 'test_set',\n",
        "                                               target_size=(64,64), # As we choose 64*64 for our convolution model\n",
        "                                               batch_size=50,\n",
        "                                               class_mode='binary' # for 2 class binary\n",
        "                                          )"
      ]
    },
    {
      "cell_type": "code",
      "execution_count": null,
      "metadata": {
        "colab": {
          "background_save": true,
          "base_uri": "https://localhost:8080/"
        },
        "id": "H5TkE0ejgumM",
        "outputId": "6a0a8e67-110a-45f0-be1f-98aa2dc4aab0"
      },
      "outputs": [
        {
          "name": "stderr",
          "output_type": "stream",
          "text": [
            "<ipython-input-15-6ddd991c8177>:1: UserWarning: `Model.fit_generator` is deprecated and will be removed in a future version. Please use `Model.fit`, which supports generators.\n",
            "  classifier.fit_generator(training_set, #training data to fit\n"
          ]
        },
        {
          "name": "stdout",
          "output_type": "stream",
          "text": [
            "Epoch 1/229\n",
            "35/35 [==============================] - ETA: 0s - loss: 0.9020 - accuracy: 0.5029"
          ]
        },
        {
          "name": "stderr",
          "output_type": "stream",
          "text": [
            "WARNING:tensorflow:Your input ran out of data; interrupting training. Make sure that your dataset or generator can generate at least `steps_per_epoch * epochs` batches (in this case, 2000 batches). You may need to use the repeat() function when building your dataset.\n"
          ]
        },
        {
          "name": "stdout",
          "output_type": "stream",
          "text": [
            "35/35 [==============================] - 596s 15s/step - loss: 0.9020 - accuracy: 0.5029 - val_loss: 0.6904 - val_accuracy: 0.5342\n",
            "Epoch 2/229\n",
            "35/35 [==============================] - 123s 3s/step - loss: 0.6842 - accuracy: 0.5697\n",
            "Epoch 3/229\n",
            "35/35 [==============================] - 101s 3s/step - loss: 0.6763 - accuracy: 0.5778\n",
            "Epoch 4/229\n",
            "35/35 [==============================] - 80s 2s/step - loss: 0.6524 - accuracy: 0.6126\n",
            "Epoch 5/229\n",
            "35/35 [==============================] - 63s 2s/step - loss: 0.6338 - accuracy: 0.6434\n",
            "Epoch 6/229\n",
            "35/35 [==============================] - 52s 1s/step - loss: 0.6165 - accuracy: 0.6746\n",
            "Epoch 7/229\n",
            "35/35 [==============================] - 44s 1s/step - loss: 0.6253 - accuracy: 0.6680\n",
            "Epoch 8/229\n",
            "35/35 [==============================] - 36s 1s/step - loss: 0.5984 - accuracy: 0.6783\n",
            "Epoch 9/229\n",
            "35/35 [==============================] - 28s 805ms/step - loss: 0.5951 - accuracy: 0.6806\n",
            "Epoch 10/229\n",
            "35/35 [==============================] - 24s 703ms/step - loss: 0.5832 - accuracy: 0.6886\n",
            "Epoch 11/229\n",
            "35/35 [==============================] - 24s 704ms/step - loss: 0.6043 - accuracy: 0.6760\n",
            "Epoch 12/229\n",
            "35/35 [==============================] - 22s 628ms/step - loss: 0.5843 - accuracy: 0.6937\n",
            "Epoch 13/229\n",
            "35/35 [==============================] - 19s 533ms/step - loss: 0.5695 - accuracy: 0.7057\n",
            "Epoch 14/229\n",
            "35/35 [==============================] - 17s 483ms/step - loss: 0.5532 - accuracy: 0.7206\n",
            "Epoch 15/229\n",
            "35/35 [==============================] - 15s 434ms/step - loss: 0.5298 - accuracy: 0.7259\n",
            "Epoch 16/229\n",
            "35/35 [==============================] - 15s 423ms/step - loss: 0.5441 - accuracy: 0.7126\n",
            "Epoch 17/229\n",
            "35/35 [==============================] - 15s 413ms/step - loss: 0.5381 - accuracy: 0.7306\n",
            "Epoch 18/229\n",
            "35/35 [==============================] - 13s 375ms/step - loss: 0.5325 - accuracy: 0.7382\n",
            "Epoch 19/229\n",
            "35/35 [==============================] - 14s 392ms/step - loss: 0.5391 - accuracy: 0.7309\n",
            "Epoch 20/229\n",
            "35/35 [==============================] - 14s 387ms/step - loss: 0.5341 - accuracy: 0.7377\n",
            "Epoch 21/229\n",
            "35/35 [==============================] - 12s 350ms/step - loss: 0.5189 - accuracy: 0.7487\n",
            "Epoch 22/229\n",
            "35/35 [==============================] - 12s 353ms/step - loss: 0.4915 - accuracy: 0.7600\n",
            "Epoch 23/229\n",
            "35/35 [==============================] - 13s 361ms/step - loss: 0.4857 - accuracy: 0.7663\n",
            "Epoch 24/229\n",
            "35/35 [==============================] - 12s 350ms/step - loss: 0.4739 - accuracy: 0.7709\n",
            "Epoch 25/229\n",
            "35/35 [==============================] - 13s 357ms/step - loss: 0.4885 - accuracy: 0.7603\n",
            "Epoch 26/229\n",
            "35/35 [==============================] - 13s 365ms/step - loss: 0.4823 - accuracy: 0.7640\n",
            "Epoch 27/229\n",
            "35/35 [==============================] - 13s 358ms/step - loss: 0.5002 - accuracy: 0.7491\n",
            "Epoch 28/229\n",
            "35/35 [==============================] - 13s 356ms/step - loss: 0.4791 - accuracy: 0.7611\n",
            "Epoch 29/229\n",
            "35/35 [==============================] - 12s 348ms/step - loss: 0.4504 - accuracy: 0.7994\n",
            "Epoch 30/229\n",
            "35/35 [==============================] - 12s 355ms/step - loss: 0.4677 - accuracy: 0.7657\n",
            "Epoch 31/229\n",
            "35/35 [==============================] - 12s 352ms/step - loss: 0.4499 - accuracy: 0.7903\n",
            "Epoch 32/229\n",
            "35/35 [==============================] - 12s 352ms/step - loss: 0.4852 - accuracy: 0.7634\n",
            "Epoch 33/229\n",
            "35/35 [==============================] - 12s 348ms/step - loss: 0.4551 - accuracy: 0.7860\n",
            "Epoch 34/229\n",
            "35/35 [==============================] - 12s 353ms/step - loss: 0.4328 - accuracy: 0.8000\n",
            "Epoch 35/229\n",
            "35/35 [==============================] - 12s 344ms/step - loss: 0.4509 - accuracy: 0.7790\n",
            "Epoch 36/229\n",
            "35/35 [==============================] - 12s 349ms/step - loss: 0.4652 - accuracy: 0.7813\n",
            "Epoch 37/229\n",
            "35/35 [==============================] - 12s 340ms/step - loss: 0.4228 - accuracy: 0.8109\n",
            "Epoch 38/229\n",
            "35/35 [==============================] - 12s 343ms/step - loss: 0.4314 - accuracy: 0.7920\n",
            "Epoch 39/229\n",
            "35/35 [==============================] - 12s 350ms/step - loss: 0.4360 - accuracy: 0.8069\n",
            "Epoch 40/229\n",
            "35/35 [==============================] - 12s 352ms/step - loss: 0.4373 - accuracy: 0.7926\n",
            "Epoch 41/229\n",
            "35/35 [==============================] - 12s 353ms/step - loss: 0.4259 - accuracy: 0.8000\n",
            "Epoch 42/229\n",
            "35/35 [==============================] - 12s 339ms/step - loss: 0.4292 - accuracy: 0.7953\n",
            "Epoch 43/229\n",
            "35/35 [==============================] - 12s 349ms/step - loss: 0.4328 - accuracy: 0.7948\n",
            "Epoch 44/229\n",
            "35/35 [==============================] - 13s 355ms/step - loss: 0.4015 - accuracy: 0.8200\n",
            "Epoch 45/229\n",
            "35/35 [==============================] - 12s 345ms/step - loss: 0.4173 - accuracy: 0.8006\n",
            "Epoch 46/229\n",
            "35/35 [==============================] - 12s 345ms/step - loss: 0.4005 - accuracy: 0.8109\n",
            "Epoch 47/229\n",
            "35/35 [==============================] - 13s 356ms/step - loss: 0.3999 - accuracy: 0.8229\n",
            "Epoch 48/229\n",
            "35/35 [==============================] - 12s 347ms/step - loss: 0.3876 - accuracy: 0.8143\n",
            "Epoch 49/229\n",
            "35/35 [==============================] - 12s 348ms/step - loss: 0.3800 - accuracy: 0.8251\n",
            "Epoch 50/229\n",
            "35/35 [==============================] - 12s 351ms/step - loss: 0.3841 - accuracy: 0.8263\n",
            "Epoch 51/229\n",
            "35/35 [==============================] - 12s 353ms/step - loss: 0.3890 - accuracy: 0.8194\n",
            "Epoch 52/229\n",
            "35/35 [==============================] - 12s 354ms/step - loss: 0.3883 - accuracy: 0.8263\n",
            "Epoch 53/229\n",
            "35/35 [==============================] - 12s 354ms/step - loss: 0.3851 - accuracy: 0.8262\n",
            "Epoch 54/229\n",
            "35/35 [==============================] - 12s 354ms/step - loss: 0.3772 - accuracy: 0.8280\n",
            "Epoch 55/229\n",
            "35/35 [==============================] - 12s 353ms/step - loss: 0.3929 - accuracy: 0.8246\n",
            "Epoch 56/229\n",
            "35/35 [==============================] - 12s 347ms/step - loss: 0.3655 - accuracy: 0.8314\n",
            "Epoch 57/229\n",
            "35/35 [==============================] - 12s 350ms/step - loss: 0.3596 - accuracy: 0.8383\n",
            "Epoch 58/229\n",
            "35/35 [==============================] - 12s 351ms/step - loss: 0.3589 - accuracy: 0.8406\n",
            "Epoch 59/229\n",
            "35/35 [==============================] - 12s 346ms/step - loss: 0.3632 - accuracy: 0.8434\n",
            "Epoch 60/229\n",
            "35/35 [==============================] - 12s 340ms/step - loss: 0.3336 - accuracy: 0.8542\n",
            "Epoch 61/229\n",
            "35/35 [==============================] - 12s 346ms/step - loss: 0.3609 - accuracy: 0.8303\n",
            "Epoch 62/229\n",
            "35/35 [==============================] - 12s 350ms/step - loss: 0.3468 - accuracy: 0.8497\n",
            "Epoch 63/229\n",
            "35/35 [==============================] - 12s 334ms/step - loss: 0.3462 - accuracy: 0.8397\n",
            "Epoch 64/229\n",
            "35/35 [==============================] - 12s 349ms/step - loss: 0.3237 - accuracy: 0.8566\n",
            "Epoch 65/229\n",
            "35/35 [==============================] - 13s 361ms/step - loss: 0.3380 - accuracy: 0.8554\n",
            "Epoch 66/229\n",
            "35/35 [==============================] - 12s 352ms/step - loss: 0.3325 - accuracy: 0.8611\n",
            "Epoch 67/229\n",
            "35/35 [==============================] - 12s 353ms/step - loss: 0.3372 - accuracy: 0.8434\n",
            "Epoch 68/229\n",
            "35/35 [==============================] - 12s 354ms/step - loss: 0.3097 - accuracy: 0.8697\n",
            "Epoch 69/229\n",
            "35/35 [==============================] - 12s 351ms/step - loss: 0.3301 - accuracy: 0.8577\n",
            "Epoch 70/229\n",
            "35/35 [==============================] - 12s 350ms/step - loss: 0.3244 - accuracy: 0.8651\n",
            "Epoch 71/229\n",
            "35/35 [==============================] - 12s 353ms/step - loss: 0.2728 - accuracy: 0.8726\n",
            "Epoch 72/229\n",
            "35/35 [==============================] - 13s 357ms/step - loss: 0.3387 - accuracy: 0.8554\n",
            "Epoch 73/229\n",
            "35/35 [==============================] - 12s 349ms/step - loss: 0.2965 - accuracy: 0.8869\n",
            "Epoch 74/229\n",
            "35/35 [==============================] - 12s 352ms/step - loss: 0.3060 - accuracy: 0.8669\n",
            "Epoch 75/229\n",
            "35/35 [==============================] - 12s 335ms/step - loss: 0.3383 - accuracy: 0.8519\n",
            "Epoch 76/229\n",
            "35/35 [==============================] - 12s 338ms/step - loss: 0.3006 - accuracy: 0.8606\n",
            "Epoch 77/229\n",
            "35/35 [==============================] - 12s 348ms/step - loss: 0.2857 - accuracy: 0.8770\n",
            "Epoch 78/229\n",
            "35/35 [==============================] - 12s 346ms/step - loss: 0.2987 - accuracy: 0.8799\n",
            "Epoch 79/229\n",
            "35/35 [==============================] - 12s 354ms/step - loss: 0.2983 - accuracy: 0.8709\n",
            "Epoch 80/229\n",
            "35/35 [==============================] - 12s 349ms/step - loss: 0.3024 - accuracy: 0.8682\n",
            "Epoch 81/229\n",
            "35/35 [==============================] - 13s 354ms/step - loss: 0.2937 - accuracy: 0.8760\n",
            "Epoch 82/229\n",
            "35/35 [==============================] - 13s 356ms/step - loss: 0.2611 - accuracy: 0.8851\n",
            "Epoch 83/229\n",
            "35/35 [==============================] - 12s 351ms/step - loss: 0.2686 - accuracy: 0.8806\n",
            "Epoch 84/229\n",
            "35/35 [==============================] - 13s 355ms/step - loss: 0.2672 - accuracy: 0.8903\n",
            "Epoch 85/229\n",
            "35/35 [==============================] - 12s 353ms/step - loss: 0.2643 - accuracy: 0.8829\n",
            "Epoch 86/229\n",
            "35/35 [==============================] - 12s 348ms/step - loss: 0.2506 - accuracy: 0.8971\n",
            "Epoch 87/229\n",
            "35/35 [==============================] - 12s 351ms/step - loss: 0.2721 - accuracy: 0.8874\n",
            "Epoch 88/229\n",
            "35/35 [==============================] - 13s 357ms/step - loss: 0.2722 - accuracy: 0.8857\n",
            "Epoch 89/229\n",
            "35/35 [==============================] - 12s 347ms/step - loss: 0.2629 - accuracy: 0.8909\n",
            "Epoch 90/229\n",
            "35/35 [==============================] - 12s 338ms/step - loss: 0.2402 - accuracy: 0.8980\n",
            "Epoch 91/229\n",
            "35/35 [==============================] - 12s 346ms/step - loss: 0.2676 - accuracy: 0.9000\n",
            "Epoch 92/229\n",
            "35/35 [==============================] - 12s 349ms/step - loss: 0.2381 - accuracy: 0.8983\n",
            "Epoch 93/229\n",
            "35/35 [==============================] - 12s 352ms/step - loss: 0.2264 - accuracy: 0.8989\n",
            "Epoch 94/229\n",
            "35/35 [==============================] - 12s 340ms/step - loss: 0.2549 - accuracy: 0.8926\n",
            "Epoch 95/229\n",
            "35/35 [==============================] - 12s 344ms/step - loss: 0.2545 - accuracy: 0.8897\n",
            "Epoch 96/229\n",
            "35/35 [==============================] - 12s 350ms/step - loss: 0.2316 - accuracy: 0.9011\n",
            "Epoch 97/229\n",
            "35/35 [==============================] - 12s 342ms/step - loss: 0.2206 - accuracy: 0.9160\n",
            "Epoch 98/229\n",
            "35/35 [==============================] - 12s 350ms/step - loss: 0.2482 - accuracy: 0.8909\n",
            "Epoch 99/229\n",
            "35/35 [==============================] - 12s 351ms/step - loss: 0.2326 - accuracy: 0.8971\n",
            "Epoch 100/229\n",
            "35/35 [==============================] - 12s 350ms/step - loss: 0.2152 - accuracy: 0.9097\n",
            "Epoch 101/229\n",
            "35/35 [==============================] - 12s 342ms/step - loss: 0.2213 - accuracy: 0.9149\n",
            "Epoch 102/229\n",
            "35/35 [==============================] - 12s 345ms/step - loss: 0.2219 - accuracy: 0.9069\n",
            "Epoch 103/229\n",
            "35/35 [==============================] - 12s 349ms/step - loss: 0.2341 - accuracy: 0.9006\n",
            "Epoch 104/229\n",
            "35/35 [==============================] - 12s 352ms/step - loss: 0.1876 - accuracy: 0.9251\n",
            "Epoch 105/229\n",
            "35/35 [==============================] - 12s 345ms/step - loss: 0.1934 - accuracy: 0.9242\n",
            "Epoch 106/229\n",
            "35/35 [==============================] - 12s 352ms/step - loss: 0.1965 - accuracy: 0.9229\n",
            "Epoch 107/229\n",
            "35/35 [==============================] - 12s 351ms/step - loss: 0.2059 - accuracy: 0.9166\n",
            "Epoch 108/229\n",
            "35/35 [==============================] - 12s 350ms/step - loss: 0.2091 - accuracy: 0.9166\n",
            "Epoch 109/229\n",
            "35/35 [==============================] - 12s 333ms/step - loss: 0.2171 - accuracy: 0.9149\n",
            "Epoch 110/229\n",
            "35/35 [==============================] - 12s 340ms/step - loss: 0.2159 - accuracy: 0.9120\n",
            "Epoch 111/229\n",
            "35/35 [==============================] - 12s 348ms/step - loss: 0.2058 - accuracy: 0.9154\n",
            "Epoch 112/229\n",
            "35/35 [==============================] - 12s 350ms/step - loss: 0.1967 - accuracy: 0.9246\n",
            "Epoch 113/229\n",
            "35/35 [==============================] - 12s 347ms/step - loss: 0.1993 - accuracy: 0.9171\n",
            "Epoch 114/229\n",
            "35/35 [==============================] - 12s 346ms/step - loss: 0.1750 - accuracy: 0.9297\n",
            "Epoch 115/229\n",
            "35/35 [==============================] - 12s 346ms/step - loss: 0.1910 - accuracy: 0.9160\n",
            "Epoch 116/229\n",
            "35/35 [==============================] - 12s 342ms/step - loss: 0.1972 - accuracy: 0.9263\n",
            "Epoch 117/229\n",
            "35/35 [==============================] - 12s 344ms/step - loss: 0.1794 - accuracy: 0.9286\n",
            "Epoch 118/229\n",
            "35/35 [==============================] - 12s 347ms/step - loss: 0.1871 - accuracy: 0.9217\n",
            "Epoch 119/229\n",
            "35/35 [==============================] - 12s 350ms/step - loss: 0.1826 - accuracy: 0.9234\n",
            "Epoch 120/229\n",
            "35/35 [==============================] - 12s 337ms/step - loss: 0.1772 - accuracy: 0.9364\n",
            "Epoch 121/229\n",
            "35/35 [==============================] - 12s 342ms/step - loss: 0.1903 - accuracy: 0.9234\n",
            "Epoch 122/229\n",
            "35/35 [==============================] - 12s 340ms/step - loss: 0.1762 - accuracy: 0.9354\n",
            "Epoch 123/229\n",
            "35/35 [==============================] - 12s 347ms/step - loss: 0.1766 - accuracy: 0.9354\n",
            "Epoch 124/229\n",
            "35/35 [==============================] - 12s 349ms/step - loss: 0.1671 - accuracy: 0.9411\n",
            "Epoch 125/229\n",
            "35/35 [==============================] - 12s 350ms/step - loss: 0.1666 - accuracy: 0.9411\n",
            "Epoch 126/229\n",
            "35/35 [==============================] - 12s 345ms/step - loss: 0.1561 - accuracy: 0.9417\n",
            "Epoch 127/229\n",
            "35/35 [==============================] - 12s 341ms/step - loss: 0.1777 - accuracy: 0.9303\n",
            "Epoch 128/229\n",
            "35/35 [==============================] - 12s 346ms/step - loss: 0.1797 - accuracy: 0.9314\n",
            "Epoch 129/229\n",
            "35/35 [==============================] - 12s 349ms/step - loss: 0.1651 - accuracy: 0.9326\n",
            "Epoch 130/229\n",
            "35/35 [==============================] - 12s 350ms/step - loss: 0.1541 - accuracy: 0.9429\n",
            "Epoch 131/229\n",
            "35/35 [==============================] - 12s 350ms/step - loss: 0.1444 - accuracy: 0.9406\n",
            "Epoch 132/229\n",
            "35/35 [==============================] - 12s 349ms/step - loss: 0.1416 - accuracy: 0.9474\n",
            "Epoch 133/229\n",
            "35/35 [==============================] - 12s 348ms/step - loss: 0.1403 - accuracy: 0.9491\n",
            "Epoch 134/229\n",
            "35/35 [==============================] - 12s 349ms/step - loss: 0.1651 - accuracy: 0.9320\n",
            "Epoch 135/229\n",
            "35/35 [==============================] - 12s 352ms/step - loss: 0.1555 - accuracy: 0.9394\n",
            "Epoch 136/229\n",
            "35/35 [==============================] - 12s 351ms/step - loss: 0.1295 - accuracy: 0.9526\n",
            "Epoch 137/229\n",
            "35/35 [==============================] - 13s 359ms/step - loss: 0.1577 - accuracy: 0.9383\n",
            "Epoch 138/229\n",
            "35/35 [==============================] - 12s 349ms/step - loss: 0.1488 - accuracy: 0.9486\n",
            "Epoch 139/229\n",
            "35/35 [==============================] - 12s 353ms/step - loss: 0.1256 - accuracy: 0.9543\n",
            "Epoch 140/229\n",
            "35/35 [==============================] - 12s 354ms/step - loss: 0.1521 - accuracy: 0.9394\n",
            "Epoch 141/229\n",
            "35/35 [==============================] - 12s 353ms/step - loss: 0.1382 - accuracy: 0.9509\n",
            "Epoch 142/229\n",
            "35/35 [==============================] - 12s 348ms/step - loss: 0.1248 - accuracy: 0.9557\n",
            "Epoch 143/229\n",
            "35/35 [==============================] - 12s 350ms/step - loss: 0.1353 - accuracy: 0.9480\n",
            "Epoch 144/229\n",
            "35/35 [==============================] - 12s 350ms/step - loss: 0.1516 - accuracy: 0.9503\n",
            "Epoch 145/229\n",
            "35/35 [==============================] - 13s 360ms/step - loss: 0.1239 - accuracy: 0.9554\n",
            "Epoch 146/229\n",
            "35/35 [==============================] - 12s 350ms/step - loss: 0.1474 - accuracy: 0.9469\n",
            "Epoch 147/229\n",
            "35/35 [==============================] - 12s 352ms/step - loss: 0.1371 - accuracy: 0.9491\n",
            "Epoch 148/229\n",
            "35/35 [==============================] - 12s 349ms/step - loss: 0.1261 - accuracy: 0.9469\n",
            "Epoch 149/229\n",
            "35/35 [==============================] - 12s 348ms/step - loss: 0.1161 - accuracy: 0.9571\n",
            "Epoch 150/229\n",
            "35/35 [==============================] - 12s 348ms/step - loss: 0.1131 - accuracy: 0.9520\n",
            "Epoch 151/229\n",
            "35/35 [==============================] - 12s 352ms/step - loss: 0.1180 - accuracy: 0.9560\n",
            "Epoch 152/229\n",
            "35/35 [==============================] - 12s 345ms/step - loss: 0.1098 - accuracy: 0.9594\n",
            "Epoch 153/229\n",
            "35/35 [==============================] - 13s 357ms/step - loss: 0.1120 - accuracy: 0.9589\n",
            "Epoch 154/229\n",
            "35/35 [==============================] - 12s 346ms/step - loss: 0.1437 - accuracy: 0.9458\n",
            "Epoch 155/229\n",
            "35/35 [==============================] - 12s 347ms/step - loss: 0.1476 - accuracy: 0.9457\n",
            "Epoch 156/229\n",
            "35/35 [==============================] - 12s 351ms/step - loss: 0.1305 - accuracy: 0.9571\n",
            "Epoch 157/229\n",
            "35/35 [==============================] - 12s 349ms/step - loss: 0.1163 - accuracy: 0.9600\n",
            "Epoch 158/229\n",
            "35/35 [==============================] - 12s 344ms/step - loss: 0.1297 - accuracy: 0.9557\n",
            "Epoch 159/229\n",
            "35/35 [==============================] - 12s 352ms/step - loss: 0.1154 - accuracy: 0.9571\n",
            "Epoch 160/229\n",
            "35/35 [==============================] - 12s 345ms/step - loss: 0.1424 - accuracy: 0.9457\n",
            "Epoch 161/229\n",
            "35/35 [==============================] - 12s 342ms/step - loss: 0.1358 - accuracy: 0.9487\n",
            "Epoch 162/229\n",
            "35/35 [==============================] - 12s 346ms/step - loss: 0.1123 - accuracy: 0.9611\n",
            "Epoch 163/229\n",
            "35/35 [==============================] - 12s 323ms/step - loss: 0.1100 - accuracy: 0.9598\n",
            "Epoch 164/229\n",
            "35/35 [==============================] - 12s 348ms/step - loss: 0.0988 - accuracy: 0.9657\n",
            "Epoch 165/229\n",
            "35/35 [==============================] - 12s 348ms/step - loss: 0.1129 - accuracy: 0.9560\n",
            "Epoch 166/229\n",
            "35/35 [==============================] - 12s 346ms/step - loss: 0.1066 - accuracy: 0.9516\n",
            "Epoch 167/229\n",
            "35/35 [==============================] - 12s 350ms/step - loss: 0.1252 - accuracy: 0.9497\n",
            "Epoch 168/229\n",
            "35/35 [==============================] - 12s 341ms/step - loss: 0.1173 - accuracy: 0.9539\n",
            "Epoch 169/229\n",
            "35/35 [==============================] - 12s 348ms/step - loss: 0.1166 - accuracy: 0.9560\n",
            "Epoch 170/229\n",
            "35/35 [==============================] - 12s 351ms/step - loss: 0.1217 - accuracy: 0.9520\n",
            "Epoch 171/229\n",
            "35/35 [==============================] - 12s 351ms/step - loss: 0.1119 - accuracy: 0.9589\n",
            "Epoch 172/229\n",
            "35/35 [==============================] - 12s 332ms/step - loss: 0.0954 - accuracy: 0.9662\n",
            "Epoch 173/229\n",
            "35/35 [==============================] - 12s 343ms/step - loss: 0.0892 - accuracy: 0.9685\n",
            "Epoch 174/229\n",
            "35/35 [==============================] - 12s 343ms/step - loss: 0.0920 - accuracy: 0.9697\n",
            "Epoch 175/229\n",
            "35/35 [==============================] - 12s 345ms/step - loss: 0.1204 - accuracy: 0.9531\n",
            "Epoch 176/229\n",
            "35/35 [==============================] - 12s 350ms/step - loss: 0.1191 - accuracy: 0.9623\n",
            "Epoch 177/229\n",
            "35/35 [==============================] - 12s 340ms/step - loss: 0.1081 - accuracy: 0.9539\n",
            "Epoch 178/229\n",
            "35/35 [==============================] - 12s 331ms/step - loss: 0.0822 - accuracy: 0.9714\n",
            "Epoch 179/229\n",
            "35/35 [==============================] - 12s 335ms/step - loss: 0.0975 - accuracy: 0.9651\n",
            "Epoch 180/229\n",
            "35/35 [==============================] - 12s 345ms/step - loss: 0.0962 - accuracy: 0.9644\n",
            "Epoch 181/229\n",
            "35/35 [==============================] - 12s 353ms/step - loss: 0.0992 - accuracy: 0.9617\n",
            "Epoch 182/229\n",
            "35/35 [==============================] - 12s 347ms/step - loss: 0.1102 - accuracy: 0.9617\n",
            "Epoch 183/229\n",
            "35/35 [==============================] - 12s 351ms/step - loss: 0.1063 - accuracy: 0.9646\n",
            "Epoch 184/229\n",
            "35/35 [==============================] - 12s 343ms/step - loss: 0.0996 - accuracy: 0.9609\n",
            "Epoch 185/229\n",
            "35/35 [==============================] - 12s 347ms/step - loss: 0.0912 - accuracy: 0.9656\n",
            "Epoch 186/229\n",
            "35/35 [==============================] - 12s 349ms/step - loss: 0.1009 - accuracy: 0.9646\n",
            "Epoch 187/229\n",
            "35/35 [==============================] - 12s 351ms/step - loss: 0.1076 - accuracy: 0.9583\n",
            "Epoch 188/229\n",
            "35/35 [==============================] - 12s 342ms/step - loss: 0.1100 - accuracy: 0.9589\n",
            "Epoch 189/229\n",
            "35/35 [==============================] - 12s 347ms/step - loss: 0.0974 - accuracy: 0.9634\n",
            "Epoch 190/229\n",
            "35/35 [==============================] - 12s 350ms/step - loss: 0.0827 - accuracy: 0.9703\n",
            "Epoch 191/229\n",
            "35/35 [==============================] - 12s 345ms/step - loss: 0.0801 - accuracy: 0.9731\n",
            "Epoch 192/229\n",
            "35/35 [==============================] - 12s 353ms/step - loss: 0.1016 - accuracy: 0.9623\n",
            "Epoch 193/229\n",
            "35/35 [==============================] - 12s 349ms/step - loss: 0.0821 - accuracy: 0.9657\n",
            "Epoch 194/229\n",
            "35/35 [==============================] - 12s 349ms/step - loss: 0.1035 - accuracy: 0.9606\n",
            "Epoch 195/229\n",
            "35/35 [==============================] - 12s 331ms/step - loss: 0.0932 - accuracy: 0.9656\n",
            "Epoch 196/229\n",
            "35/35 [==============================] - 12s 348ms/step - loss: 0.0997 - accuracy: 0.9606\n",
            "Epoch 197/229\n",
            "35/35 [==============================] - 12s 342ms/step - loss: 0.0709 - accuracy: 0.9766\n",
            "Epoch 198/229\n",
            "35/35 [==============================] - 12s 347ms/step - loss: 0.0788 - accuracy: 0.9709\n",
            "Epoch 199/229\n",
            "35/35 [==============================] - 12s 349ms/step - loss: 0.0853 - accuracy: 0.9703\n",
            "Epoch 200/229\n",
            "35/35 [==============================] - 12s 337ms/step - loss: 0.0858 - accuracy: 0.9603\n",
            "Epoch 201/229\n",
            "35/35 [==============================] - 12s 353ms/step - loss: 0.0890 - accuracy: 0.9743\n",
            "Epoch 202/229\n",
            "35/35 [==============================] - 12s 352ms/step - loss: 0.0859 - accuracy: 0.9691\n",
            "Epoch 203/229\n",
            "35/35 [==============================] - 12s 346ms/step - loss: 0.0738 - accuracy: 0.9749\n",
            "Epoch 204/229\n",
            "35/35 [==============================] - 12s 354ms/step - loss: 0.0775 - accuracy: 0.9732\n",
            "Epoch 205/229\n",
            "35/35 [==============================] - 12s 351ms/step - loss: 0.0768 - accuracy: 0.9680\n",
            "Epoch 206/229\n",
            "35/35 [==============================] - 12s 349ms/step - loss: 0.0771 - accuracy: 0.9731\n",
            "Epoch 207/229\n",
            "35/35 [==============================] - 12s 347ms/step - loss: 0.0784 - accuracy: 0.9806\n",
            "Epoch 208/229\n",
            "35/35 [==============================] - 12s 345ms/step - loss: 0.0744 - accuracy: 0.9761\n",
            "Epoch 209/229\n",
            "35/35 [==============================] - 12s 349ms/step - loss: 0.0787 - accuracy: 0.9709\n",
            "Epoch 210/229\n",
            "35/35 [==============================] - 12s 353ms/step - loss: 0.0891 - accuracy: 0.9697\n",
            "Epoch 211/229\n",
            "35/35 [==============================] - 12s 336ms/step - loss: 0.0807 - accuracy: 0.9651\n",
            "Epoch 212/229\n",
            "35/35 [==============================] - 12s 346ms/step - loss: 0.0798 - accuracy: 0.9691\n",
            "Epoch 213/229\n",
            "35/35 [==============================] - 12s 351ms/step - loss: 0.1023 - accuracy: 0.9611\n",
            "Epoch 214/229\n",
            "35/35 [==============================] - 12s 341ms/step - loss: 0.0837 - accuracy: 0.9703\n",
            "Epoch 215/229\n",
            "35/35 [==============================] - 12s 337ms/step - loss: 0.0951 - accuracy: 0.9679\n",
            "Epoch 216/229\n",
            "35/35 [==============================] - 12s 347ms/step - loss: 0.0707 - accuracy: 0.9732\n",
            "Epoch 217/229\n",
            "35/35 [==============================] - 12s 348ms/step - loss: 0.0722 - accuracy: 0.9749\n",
            "Epoch 218/229\n",
            "35/35 [==============================] - 12s 350ms/step - loss: 0.0802 - accuracy: 0.9697\n",
            "Epoch 219/229\n",
            "35/35 [==============================] - 12s 349ms/step - loss: 0.0871 - accuracy: 0.9697\n",
            "Epoch 220/229\n",
            "35/35 [==============================] - 12s 348ms/step - loss: 0.0675 - accuracy: 0.9731\n",
            "Epoch 221/229\n",
            "35/35 [==============================] - 12s 354ms/step - loss: 0.0872 - accuracy: 0.9686\n",
            "Epoch 222/229\n",
            "35/35 [==============================] - 12s 348ms/step - loss: 0.0847 - accuracy: 0.9680\n",
            "Epoch 223/229\n",
            "35/35 [==============================] - 12s 337ms/step - loss: 0.0913 - accuracy: 0.9726\n",
            "Epoch 224/229\n",
            "35/35 [==============================] - 12s 344ms/step - loss: 0.0645 - accuracy: 0.9806\n",
            "Epoch 225/229\n",
            "35/35 [==============================] - 12s 352ms/step - loss: 0.0793 - accuracy: 0.9749\n",
            "Epoch 226/229\n",
            "35/35 [==============================] - 12s 350ms/step - loss: 0.0564 - accuracy: 0.9789\n",
            "Epoch 227/229\n",
            "35/35 [==============================] - 12s 337ms/step - loss: 0.0631 - accuracy: 0.9783\n",
            "Epoch 228/229\n",
            "35/35 [==============================] - 12s 342ms/step - loss: 0.0762 - accuracy: 0.9697\n",
            "Epoch 229/229\n",
            "35/35 [==============================] - 12s 345ms/step - loss: 0.0704 - accuracy: 0.9783\n"
          ]
        },
        {
          "data": {
            "text/plain": [
              "<keras.callbacks.History at 0x7fe0eae95fc0>"
            ]
          },
          "execution_count": 15,
          "metadata": {},
          "output_type": "execute_result"
        }
      ],
      "source": [
        "classifier.fit_generator(training_set, #training data to fit\n",
        "                        steps_per_epoch=35, # Data in training set\n",
        "                        epochs=229, # No of epochs to run\n",
        "                        validation_data=test_set, # Test or validation set\n",
        "                        validation_steps=2000 # no of data point for validation\n",
        "                        )"
      ]
    },
    {
      "cell_type": "code",
      "execution_count": 16,
      "metadata": {
        "colab": {
          "base_uri": "https://localhost:8080/"
        },
        "id": "fo2GbUGYguvf",
        "outputId": "b14ffec8-1676-438e-b6b2-c478e7d9954f"
      },
      "outputs": [
        {
          "output_type": "stream",
          "name": "stdout",
          "text": [
            "1/1 [==============================] - 0s 330ms/step\n",
            "dog\n"
          ]
        }
      ],
      "source": [
        "# Part 3 - Making new predictions\n",
        "\n",
        "import numpy as np\n",
        "# from keras.preprocessing import image\n",
        "import keras.utils as image\n",
        "\n",
        "\n",
        "test_image = image.load_img('/content/dog.4004.jpg', target_size = (64, 64))\n",
        "# test_image = image.load_img('/content/cat.4002.jpg', target_size = (64, 64), color_mode='rgb')\n",
        "\n",
        "# Loading the image and converting the pixels into array whcih will be used as input to predict.\n",
        "test_image = image.img_to_array(test_image)\n",
        "# test_image = np.expand_dims(test_image, axis=0)\n",
        "\n",
        "test_image = np.expand_dims(test_image, axis = 0)\n",
        "result = classifier.predict(test_image)\n",
        "training_set.class_indices\n",
        "if result[0][0] == 1:\n",
        "    print(\"dog\")\n",
        "else:\n",
        "    print(\"cat\")"
      ]
    }
  ],
  "metadata": {
    "colab": {
      "provenance": [],
      "authorship_tag": "ABX9TyNM+MD+W+FX+NWMyfAIKvgA",
      "include_colab_link": true
    },
    "kernelspec": {
      "display_name": "Python 3",
      "name": "python3"
    },
    "language_info": {
      "name": "python"
    }
  },
  "nbformat": 4,
  "nbformat_minor": 0
}